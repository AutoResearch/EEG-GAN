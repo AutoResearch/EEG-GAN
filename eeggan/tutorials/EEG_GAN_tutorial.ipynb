{
  "cells": [
    {
      "cell_type": "markdown",
      "metadata": {
        "id": "Ijp0w3vokAZc"
      },
      "source": [
        "# Augmenting EEG with Generative Adversarial Networks<br>\n",
        "\n",
        "*Created by Daniel Weinhardt, Chad Williams, & Sebastian Musslick*\n",
        "\n",
        "---\n",
        "---\n",
        "\n",
        "We here use Generative Adversarial Networks (GANs) to create trial-level synthetic EEG samples. We can then use these samples as extra data to train whichever classifier we want to use (e.g.,  Support Vector Machine, Neural Network).\n",
        "\n",
        "GANs are machine learning frameworks that consist of two adversarial neural network agents, namely the generator and the discriminator. The generator is trained to create novel samples that are indiscernible from real samples. In the current context, the generator produces realistic continuous EEG activity, conditioned on a set of experimental variables, which contain underlying neural features representative of the outcomes being classified. For example, depression manifests as increased alpha oscillatory activity in the EEG signal, and thus, an ideal generator would produce continuous EEG that includes these alpha signatures. In contrast to the generator, the discriminator determines whether a given sample is real or synthetically produced by the generator. The core insight of GANs is that the generator can effectively learn from the discriminator. Specifically, the generator will consecutively produce more realistic synthetic samples with the goal of “fooling” the discriminator into believing them as real. Once it has achieved realistic samples that the discriminator cannot discern, it can be used to generate synthetic data—or in this context, synthetic EEG data.\n",
        "\n",
        "The dataset provided is a subset of data from Williams et al., 2021 (*Psychophysics*). In this study, participants completed a two-armed bandit gambling task where they needed to discern which of two coloured squares were more often rewarding through trial-and-error. Each trial presented two coloured squares that the participants were to choose from, and provided performance feedback as “WIN” or “LOSE”, yielding two conditions of interest, cwin, close. For each pair of squares, one had a win rate of 60% while the other had a win rate of 10%. Participants saw each pair of colours twenty times consecutively. There were a total of five pairs of squares (with colours randomly determined), resulting in one hundred trials per participant. This paradigm elicits well-known frontal neural differences when contrasting the win and lose outcomes, namely in the reward positivity, delta oscillations, and theta oscillations (see Williams et al., 2021; Psychophysics).\n",
        "\n",
        "In this tutorial, we will classify the WIN and LOSE conditions using both Support Vector Machine and Neural Network classifiers. We will:\n",
        "1. Train a GAN on trial-level EEG data\n",
        "2. Generate synthetic EEG data \n",
        "3. Create an augmented EEG dataset\n",
        "4. Determine classification performance using both the empirical and augmented datasets\n",
        "    - Empirical Dataset: We train the classifer on the empirical data that was used to train the GANs\n",
        "    - Augmented Dataset: We train the classifer on the empirical data with the appended synthetic samples \n",
        "\n",
        "---\n",
        "---\n",
        "## Evaluation of EEG-GAN\n",
        "**Augmenting EEG with Generative Adversarial Networks Enhances Brain Decoding Across Classifiers and Sample Sizes**<br>\n",
        "$Williams^{*1}$, $Weinhardt^{*2}$, $Wirzberger^{2}$, & $Musslick^{1}$ (*submitted, 2023*)<br>\n",
        "**Co-First Authors*<br>\n",
        "$^{1}$ *Brainstorm, Carney Institute for Brain Science, Brown University*<br>\n",
        "$^{2}$ *University of Stuttgart* <br>\n",
        "\n",
        "---\n",
        "---\n",
        "## Table of Contents\n",
        "    Step 0. Installing and Loading Modules\n",
        "        Step 0.1. Installing Modules\n",
        "        Step 0.2. Loading Modules\n",
        "    Step 1. EEG Data\n",
        "        Step 1.1. Load Data\n",
        "        Step 1.2. View Data\n",
        "    Step 2. GAN\n",
        "        Step 2.1. Exploring the Main GAN Package Functions\n",
        "            Step 2.1.1. GAN Training Help\n",
        "            Step 2.1.2. Visualize Help\n",
        "            Step 2.1.3. Generate Samples Help\n",
        "        Step 2.2. Training the GAN\n",
        "        Step 2.3. Visualizing GAN Losses\n",
        "        Step 2.4. Generating Synthetic Data\n",
        "    Step 3. Synthetic Data\n",
        "        Step 3.1. Load Data\n",
        "        Step 3.2. View Data\n",
        "            Step 3.2.1. View Trial-Level Data\n",
        "            Step 3.2.2. View ERP Data\n",
        "    Step 4. Classification Setup\n",
        "        Step 4.1. Preparing Validation Data\n",
        "        Step 4.2. Preparing Empirical Data\n",
        "        Step 4.3. Preparing Augmented Data\n",
        "    Step 5. Support Vector Machine\n",
        "        Step 5.1. Define Search Space\n",
        "        Step 5.2. Classify Empirical Data\n",
        "        Step 5.3. Classify Augmented Data\n",
        "    Step 6. Neural Network\n",
        "        Step 6.1. Define Search Space\n",
        "        Step 6.2. Classify Empirical Data\n",
        "        Step 6.3. Classify Augmented Data\n",
        "    Step 7. Final Report\n",
        "        Step 7.1. Present Classification Performance\n",
        "        Step 7.2. Plot Classification Performance\n",
        "\n",
        "*Note: you can also view an interactive table of contents in your sidebar*"
      ]
    },
    {
      "cell_type": "markdown",
      "metadata": {
        "id": "7CmtEZlWkAZf"
      },
      "source": [
        "# Step 0. Installing and Loading Modules"
      ]
    },
    {
      "cell_type": "markdown",
      "metadata": {
        "id": "FVLsJ6FFkAZh"
      },
      "source": [
        "## Step 0.1. Installing Modules\n",
        "We will now download and install the EEG-GAN package\n"
      ]
    },
    {
      "cell_type": "code",
      "execution_count": null,
      "metadata": {
        "colab": {
          "base_uri": "https://localhost:8080/"
        },
        "id": "QlMWXHxNkVJI",
        "outputId": "323bc2e3-f801-4fb6-c24b-745a0d870964"
      },
      "outputs": [
        {
          "output_type": "stream",
          "name": "stdout",
          "text": [
            "Looking in indexes: https://pypi.org/simple, https://us-python.pkg.dev/colab-wheels/public/simple/\n",
            "Collecting eeggan\n",
            "  Downloading eeggan-0.0.22-py3-none-any.whl (18.0 MB)\n",
            "\u001b[2K     \u001b[90m━━━━━━━━━━━━━━━━━━━━━━━━━━━━━━━━━━━━━━━━\u001b[0m \u001b[32m18.0/18.0 MB\u001b[0m \u001b[31m26.1 MB/s\u001b[0m eta \u001b[36m0:00:00\u001b[0m\n",
            "\u001b[?25hCollecting torchvision~=0.13.1\n",
            "  Downloading torchvision-0.13.1-cp39-cp39-manylinux1_x86_64.whl (19.1 MB)\n",
            "\u001b[2K     \u001b[90m━━━━━━━━━━━━━━━━━━━━━━━━━━━━━━━━━━━━━━━━\u001b[0m \u001b[32m19.1/19.1 MB\u001b[0m \u001b[31m47.3 MB/s\u001b[0m eta \u001b[36m0:00:00\u001b[0m\n",
            "\u001b[?25hCollecting pandas~=1.3.4\n",
            "  Downloading pandas-1.3.5-cp39-cp39-manylinux_2_17_x86_64.manylinux2014_x86_64.whl (11.5 MB)\n",
            "\u001b[2K     \u001b[90m━━━━━━━━━━━━━━━━━━━━━━━━━━━━━━━━━━━━━━━━\u001b[0m \u001b[32m11.5/11.5 MB\u001b[0m \u001b[31m61.0 MB/s\u001b[0m eta \u001b[36m0:00:00\u001b[0m\n",
            "\u001b[?25hCollecting torchaudio~=0.12.1\n",
            "  Downloading torchaudio-0.12.1-cp39-cp39-manylinux1_x86_64.whl (3.7 MB)\n",
            "\u001b[2K     \u001b[90m━━━━━━━━━━━━━━━━━━━━━━━━━━━━━━━━━━━━━━━━\u001b[0m \u001b[32m3.7/3.7 MB\u001b[0m \u001b[31m16.3 MB/s\u001b[0m eta \u001b[36m0:00:00\u001b[0m\n",
            "\u001b[?25hCollecting scikit-learn~=1.1.2\n",
            "  Downloading scikit_learn-1.1.3-cp39-cp39-manylinux_2_17_x86_64.manylinux2014_x86_64.whl (30.8 MB)\n",
            "\u001b[2K     \u001b[90m━━━━━━━━━━━━━━━━━━━━━━━━━━━━━━━━━━━━━━━━\u001b[0m \u001b[32m30.8/30.8 MB\u001b[0m \u001b[31m14.2 MB/s\u001b[0m eta \u001b[36m0:00:00\u001b[0m\n",
            "\u001b[?25hCollecting numpy~=1.23.1\n",
            "  Downloading numpy-1.23.5-cp39-cp39-manylinux_2_17_x86_64.manylinux2014_x86_64.whl (17.1 MB)\n",
            "\u001b[2K     \u001b[90m━━━━━━━━━━━━━━━━━━━━━━━━━━━━━━━━━━━━━━━━\u001b[0m \u001b[32m17.1/17.1 MB\u001b[0m \u001b[31m29.0 MB/s\u001b[0m eta \u001b[36m0:00:00\u001b[0m\n",
            "\u001b[?25hCollecting torchtext~=0.13.1\n",
            "  Downloading torchtext-0.13.1-cp39-cp39-manylinux1_x86_64.whl (1.9 MB)\n",
            "\u001b[2K     \u001b[90m━━━━━━━━━━━━━━━━━━━━━━━━━━━━━━━━━━━━━━━━\u001b[0m \u001b[32m1.9/1.9 MB\u001b[0m \u001b[31m26.9 MB/s\u001b[0m eta \u001b[36m0:00:00\u001b[0m\n",
            "\u001b[?25hCollecting einops~=0.4.1\n",
            "  Downloading einops-0.4.1-py3-none-any.whl (28 kB)\n",
            "Collecting torch~=1.12.1\n",
            "  Downloading torch-1.12.1-cp39-cp39-manylinux1_x86_64.whl (776.4 MB)\n",
            "\u001b[2K     \u001b[90m━━━━━━━━━━━━━━━━━━━━━━━━━━━━━━━━━━━━━━━\u001b[0m \u001b[32m776.4/776.4 MB\u001b[0m \u001b[31m1.4 MB/s\u001b[0m eta \u001b[36m0:00:00\u001b[0m\n",
            "\u001b[?25hCollecting scipy~=1.8.0\n",
            "  Downloading scipy-1.8.1-cp39-cp39-manylinux_2_17_x86_64.manylinux2014_x86_64.whl (42.2 MB)\n",
            "\u001b[2K     \u001b[90m━━━━━━━━━━━━━━━━━━━━━━━━━━━━━━━━━━━━━━━━\u001b[0m \u001b[32m42.2/42.2 MB\u001b[0m \u001b[31m19.2 MB/s\u001b[0m eta \u001b[36m0:00:00\u001b[0m\n",
            "\u001b[?25hRequirement already satisfied: torchsummary~=1.5.1 in /usr/local/lib/python3.9/dist-packages (from eeggan) (1.5.1)\n",
            "Collecting matplotlib~=3.5.0\n",
            "  Downloading matplotlib-3.5.3-cp39-cp39-manylinux_2_5_x86_64.manylinux1_x86_64.whl (11.2 MB)\n",
            "\u001b[2K     \u001b[90m━━━━━━━━━━━━━━━━━━━━━━━━━━━━━━━━━━━━━━━━\u001b[0m \u001b[32m11.2/11.2 MB\u001b[0m \u001b[31m79.3 MB/s\u001b[0m eta \u001b[36m0:00:00\u001b[0m\n",
            "\u001b[?25hRequirement already satisfied: python-dateutil>=2.7 in /usr/local/lib/python3.9/dist-packages (from matplotlib~=3.5.0->eeggan) (2.8.2)\n",
            "Requirement already satisfied: kiwisolver>=1.0.1 in /usr/local/lib/python3.9/dist-packages (from matplotlib~=3.5.0->eeggan) (1.4.4)\n",
            "Requirement already satisfied: pillow>=6.2.0 in /usr/local/lib/python3.9/dist-packages (from matplotlib~=3.5.0->eeggan) (8.4.0)\n",
            "Requirement already satisfied: packaging>=20.0 in /usr/local/lib/python3.9/dist-packages (from matplotlib~=3.5.0->eeggan) (23.0)\n",
            "Requirement already satisfied: fonttools>=4.22.0 in /usr/local/lib/python3.9/dist-packages (from matplotlib~=3.5.0->eeggan) (4.39.3)\n",
            "Requirement already satisfied: cycler>=0.10 in /usr/local/lib/python3.9/dist-packages (from matplotlib~=3.5.0->eeggan) (0.11.0)\n",
            "Requirement already satisfied: pyparsing>=2.2.1 in /usr/local/lib/python3.9/dist-packages (from matplotlib~=3.5.0->eeggan) (3.0.9)\n",
            "Requirement already satisfied: pytz>=2017.3 in /usr/local/lib/python3.9/dist-packages (from pandas~=1.3.4->eeggan) (2022.7.1)\n",
            "Requirement already satisfied: joblib>=1.0.0 in /usr/local/lib/python3.9/dist-packages (from scikit-learn~=1.1.2->eeggan) (1.2.0)\n",
            "Requirement already satisfied: threadpoolctl>=2.0.0 in /usr/local/lib/python3.9/dist-packages (from scikit-learn~=1.1.2->eeggan) (3.1.0)\n",
            "Requirement already satisfied: typing-extensions in /usr/local/lib/python3.9/dist-packages (from torch~=1.12.1->eeggan) (4.5.0)\n",
            "Requirement already satisfied: tqdm in /usr/local/lib/python3.9/dist-packages (from torchtext~=0.13.1->eeggan) (4.65.0)\n",
            "Requirement already satisfied: requests in /usr/local/lib/python3.9/dist-packages (from torchtext~=0.13.1->eeggan) (2.27.1)\n",
            "Requirement already satisfied: six>=1.5 in /usr/local/lib/python3.9/dist-packages (from python-dateutil>=2.7->matplotlib~=3.5.0->eeggan) (1.16.0)\n",
            "Requirement already satisfied: urllib3<1.27,>=1.21.1 in /usr/local/lib/python3.9/dist-packages (from requests->torchtext~=0.13.1->eeggan) (1.26.15)\n",
            "Requirement already satisfied: charset-normalizer~=2.0.0 in /usr/local/lib/python3.9/dist-packages (from requests->torchtext~=0.13.1->eeggan) (2.0.12)\n",
            "Requirement already satisfied: idna<4,>=2.5 in /usr/local/lib/python3.9/dist-packages (from requests->torchtext~=0.13.1->eeggan) (3.4)\n",
            "Requirement already satisfied: certifi>=2017.4.17 in /usr/local/lib/python3.9/dist-packages (from requests->torchtext~=0.13.1->eeggan) (2022.12.7)\n",
            "Installing collected packages: einops, torch, numpy, torchvision, torchtext, torchaudio, scipy, pandas, matplotlib, scikit-learn, eeggan\n",
            "  Attempting uninstall: torch\n",
            "    Found existing installation: torch 2.0.0+cu118\n",
            "    Uninstalling torch-2.0.0+cu118:\n",
            "      Successfully uninstalled torch-2.0.0+cu118\n",
            "  Attempting uninstall: numpy\n",
            "    Found existing installation: numpy 1.22.4\n",
            "    Uninstalling numpy-1.22.4:\n",
            "      Successfully uninstalled numpy-1.22.4\n",
            "  Attempting uninstall: torchvision\n",
            "    Found existing installation: torchvision 0.15.1+cu118\n",
            "    Uninstalling torchvision-0.15.1+cu118:\n",
            "      Successfully uninstalled torchvision-0.15.1+cu118\n",
            "  Attempting uninstall: torchtext\n",
            "    Found existing installation: torchtext 0.15.1\n",
            "    Uninstalling torchtext-0.15.1:\n",
            "      Successfully uninstalled torchtext-0.15.1\n",
            "  Attempting uninstall: torchaudio\n",
            "    Found existing installation: torchaudio 2.0.1+cu118\n",
            "    Uninstalling torchaudio-2.0.1+cu118:\n",
            "      Successfully uninstalled torchaudio-2.0.1+cu118\n",
            "  Attempting uninstall: scipy\n",
            "    Found existing installation: scipy 1.10.1\n",
            "    Uninstalling scipy-1.10.1:\n",
            "      Successfully uninstalled scipy-1.10.1\n",
            "  Attempting uninstall: pandas\n",
            "    Found existing installation: pandas 1.5.3\n",
            "    Uninstalling pandas-1.5.3:\n",
            "      Successfully uninstalled pandas-1.5.3\n",
            "  Attempting uninstall: matplotlib\n",
            "    Found existing installation: matplotlib 3.7.1\n",
            "    Uninstalling matplotlib-3.7.1:\n",
            "      Successfully uninstalled matplotlib-3.7.1\n",
            "  Attempting uninstall: scikit-learn\n",
            "    Found existing installation: scikit-learn 1.2.2\n",
            "    Uninstalling scikit-learn-1.2.2:\n",
            "      Successfully uninstalled scikit-learn-1.2.2\n",
            "\u001b[31mERROR: pip's dependency resolver does not currently take into account all the packages that are installed. This behaviour is the source of the following dependency conflicts.\n",
            "torchdata 0.6.0 requires torch==2.0.0, but you have torch 1.12.1 which is incompatible.\n",
            "google-colab 1.0.0 requires pandas~=1.5.3, but you have pandas 1.3.5 which is incompatible.\u001b[0m\u001b[31m\n",
            "\u001b[0mSuccessfully installed eeggan-0.0.22 einops-0.4.1 matplotlib-3.5.3 numpy-1.23.5 pandas-1.3.5 scikit-learn-1.1.3 scipy-1.8.1 torch-1.12.1 torchaudio-0.12.1 torchtext-0.13.1 torchvision-0.13.1\n"
          ]
        }
      ],
      "source": [
        "#%%capture\n",
        "\n",
        "!pip install eeggan\n"
      ]
    },
    {
      "cell_type": "markdown",
      "metadata": {
        "id": "zWKScaPAllfB"
      },
      "source": [
        "# Step 0.2. Loading Modules"
      ]
    },
    {
      "cell_type": "code",
      "execution_count": null,
      "metadata": {
        "id": "wlNGlhTckAZh"
      },
      "outputs": [],
      "source": [
        "#Load EEG-GAN module\n",
        "from eeggan import train_gan, visualize_gan, generate_samples, setup_tutorial\n",
        "\n",
        "#Load other modules specific to this notebook\n",
        "import numpy as np\n",
        "import matplotlib.pyplot as plt\n",
        "import shutil\n",
        "import os\n",
        "import random as rnd\n",
        "from scipy import signal\n",
        "from sklearn.preprocessing import scale\n",
        "from sklearn.model_selection import train_test_split, GridSearchCV\n",
        "from sklearn.svm import SVC\n",
        "from sklearn.neural_network import MLPClassifier\n",
        "from sklearn.metrics import classification_report\n",
        "import torch\n",
        "\n",
        "#Create a print formatting class\n",
        "class printFormat:\n",
        "    bold = '\\033[1m'\n",
        "    italic = '\\033[3m'\n",
        "    end = '\\033[0m'\n",
        "\n",
        "#Setup \n",
        "#This function downloads tutorial-required files (e.g., datasets) from the GitHub. These files can also be found within the package itself, but Google Colab has difficulty accessing it.\n",
        "#This function is only necessary when running the tutorial but it also creates three folders (data, trained_models, generated_samples) that are needed for the package, so still may be useful with your own data.\n",
        "setup_tutorial()"
      ]
    },
    {
      "cell_type": "markdown",
      "metadata": {
        "id": "634TyK0akAZj"
      },
      "source": [
        "# Step 1. EEG Data"
      ]
    },
    {
      "cell_type": "markdown",
      "metadata": {
        "id": "0jb5A16QkAZj"
      },
      "source": [
        "## Step 1.1. Load Data\n",
        "We will load the provided EEG training data and print some information about what this contains."
      ]
    },
    {
      "cell_type": "code",
      "execution_count": null,
      "metadata": {
        "colab": {
          "base_uri": "https://localhost:8080/"
        },
        "id": "qDTW61ZPkAZj",
        "outputId": "037cf78f-f0ce-4ee6-f0ec-63f01d2e00a9"
      },
      "outputs": [
        {
          "output_type": "stream",
          "name": "stdout",
          "text": [
            "\u001b[1mDisplay Header and first few rows/columns of data\n",
            " \u001b[0m\u001b[0m\n",
            "('ParticipantID', 'Condition', 'Trial', 'Time1', 'Time2', 'Time3')\n",
            "[[11.        0.        1.        2.287618 -4.448947 -0.980726]\n",
            " [11.        0.        2.       11.672745  0.669828  1.43829 ]\n",
            " [11.        0.        3.       10.510648 11.908067  8.671387]]\n",
            "\n",
            "------------------------------------------------------------------------------------------\n",
            "\u001b[1m\n",
            "Note the first three columns:\u001b[0m\n",
            "    ParticipantID - Indicates different participants\n",
            "    Condition - Indicates the condition (WIN = 0, LOSE = 1) to be classified\n",
            "    Trial - Indicates the trial number for that participant and condition\n",
            "\n",
            "The remaining columns are titled Time1 to Time100 - indicating 100 datapoints per sample.\n",
            "The samples span from -200 to 1000ms around the onset of a feedback stimulus.\n",
            "These are downsampled from the original data, which contained 600 datapoints per sample.\n",
            "\n",
            "------------------------------------------------------------------------------------------\n",
            "\n",
            "\u001b[1mOther characteristics of our data include:\u001b[0m\n",
            "-We have 15 participants in our training set\n",
            "-Participants have an average of 46 (SD: 7) trials per outcome (win, lose)\n"
          ]
        }
      ],
      "source": [
        "#Load the data\n",
        "empiricalHeaders = np.genfromtxt('data/gansEEGTrainingData.csv', delimiter=',', names=True).dtype.names\n",
        "empiricalEEG = np.genfromtxt('data/gansEEGTrainingData.csv', delimiter=',', skip_header=1)\n",
        "\n",
        "#Print the head of the data\n",
        "print(printFormat.bold + 'Display Header and first few rows/columns of data\\n \\033[0m' + printFormat.end)\n",
        "print(empiricalHeaders[:6])\n",
        "print(empiricalEEG[0:3,:6])\n",
        "\n",
        "#Print some information about the columns\n",
        "print('\\n------------------------------------------------------------------------------------------')\n",
        "print(printFormat.bold + '\\nNote the first three columns:' + printFormat.end +'\\n    ParticipantID - Indicates different participants\\n    Condition - Indicates the condition (WIN = 0, LOSE = 1) to be classified\\n    Trial - Indicates the trial number for that participant and condition')\n",
        "print('\\nThe remaining columns are titled Time1 to Time100 - indicating 100 datapoints per sample.\\nThe samples span from -200 to 1000ms around the onset of a feedback stimulus.\\nThese are downsampled from the original data, which contained 600 datapoints per sample.')\n",
        "\n",
        "#Print some meta-data\n",
        "print('\\n------------------------------------------------------------------------------------------')\n",
        "print('\\n' + printFormat.bold + 'Other characteristics of our data include:' + printFormat.end)\n",
        "print('-We have ' + str(len(set(empiricalEEG[:,0]))) + ' participants in our training set')\n",
        "print('-Participants have an average of ' + str(round(np.mean([np.max(empiricalEEG[empiricalEEG[:,0]==pID,2]) for pID in set(empiricalEEG[:,0])]))) + ' (SD: ' + str(round(np.std([np.max(empiricalEEG[empiricalEEG[:,0]==pID,2]) for pID in set(empiricalEEG[:,0])]))) + ')' + ' trials per outcome (win, lose)')"
      ]
    },
    {
      "cell_type": "markdown",
      "metadata": {
        "id": "VQ-b2IQ1kAZj"
      },
      "source": [
        "## Step 1.2. View Data \n",
        "Let's view the grand-averaged ERPs of our 15 participants."
      ]
    },
    {
      "cell_type": "code",
      "execution_count": null,
      "metadata": {
        "colab": {
          "base_uri": "https://localhost:8080/",
          "height": 427
        },
        "id": "NBTF1lOTkAZk",
        "outputId": "f984c3c9-a84c-4152-f983-2ade42e70a87"
      },
      "outputs": [
        {
          "output_type": "execute_result",
          "data": {
            "text/plain": [
              "<matplotlib.legend.Legend at 0x7fd6189a7070>"
            ]
          },
          "metadata": {},
          "execution_count": 3
        },
        {
          "output_type": "display_data",
          "data": {
            "text/plain": [
              "<Figure size 600x400 with 1 Axes>"
            ],
            "image/png": "[encoded data removed]"
          },
          "metadata": {}
        }
      ],
      "source": [
        "#Determine which rows are each condition\n",
        "lossIndex = np.where(empiricalEEG[:,1]==1)\n",
        "winIndex = np.where(empiricalEEG[:,1]==0)\n",
        "\n",
        "#Grand average the waveforms for each condition\n",
        "lossWaveform = np.mean(empiricalEEG[lossIndex,3:],axis=1)[0]\n",
        "winWaveform = np.mean(empiricalEEG[winIndex,3:],axis=1)[0]\n",
        "\n",
        "#Determine x axis of time\n",
        "time = np.linspace(-200,1000,100)\n",
        "\n",
        "#Setup figure\n",
        "f, (ax1) = plt.subplots(1, 1, figsize=(6, 4))\n",
        "\n",
        "#Plot each waveform\n",
        "ax1.plot(time, lossWaveform, label = 'Loss')\n",
        "ax1.plot(time, winWaveform, label = 'Win')\n",
        "\n",
        "#Format plot\n",
        "ax1.set_ylabel('Voltage ($\\mu$V)')\n",
        "ax1.set_xlabel('Time (ms)')\n",
        "ax1.set_title('Empirical', loc='left')\n",
        "ax1.spines[['right', 'top']].set_visible(False)\n",
        "ax1.legend(frameon=False)"
      ]
    },
    {
      "cell_type": "markdown",
      "metadata": {
        "id": "CGJjaeVakAZk"
      },
      "source": [
        "# Step 2. GAN"
      ]
    },
    {
      "cell_type": "markdown",
      "metadata": {
        "id": "Zx6nB3DakAZk"
      },
      "source": [
        "## Step 2.1. Exploring the Main GAN Package Functions\n",
        "<br><b>Functions</b><br>\n",
        "We will be using three functions from the GANs package:<br>\n",
        "&emsp;&emsp;```train_gan()``` - This trains a GAN <br>\n",
        "&emsp;&emsp;```visualize_gan()``` - This visualizes components of a trained GAN, such as the training losses <br>\n",
        "&emsp;&emsp;```generate_samples()``` - This generates synthetic samples using the trained GAN<br>\n",
        "\n",
        "<br><b>Arguments</b><br>\n",
        "\n",
        "Each function can take a single argument ```argv```, which should be a dictionary:<br>\n",
        "\n",
        "&emsp;&emsp;```argv = dict(```<br>\n",
        "&emsp;&emsp;&emsp;```path_dataset=data\\my_data.csv,```<br>\n",
        "&emsp;&emsp;&emsp;```n_epochs = 100```<br>\n",
        "&emsp;&emsp;```)```<br>\n",
        "\n",
        "&emsp;&emsp;```train_gan(argv)```\n",
        "\n",
        "<br><b>Help</b><br>\n",
        "\n",
        "You can use the help argument to see a list of possible arguments with a brief description:</b><br>\n",
        "&emsp;&emsp;```train_gan(dict(help = True))```<br>\n",
        "&emsp;&emsp;```visualize_gan(dict(help = True))```<br>\n",
        "&emsp;&emsp;```generate_samples(dict(help = True))```<br>"
      ]
    },
    {
      "cell_type": "markdown",
      "metadata": {
        "id": "51bGZZXfkAZl"
      },
      "source": [
        "### Step 2.1.1. GAN Training Help"
      ]
    },
    {
      "cell_type": "code",
      "execution_count": null,
      "metadata": {
        "colab": {
          "base_uri": "https://localhost:8080/"
        },
        "id": "7yoa4kyEkAZl",
        "outputId": "3a958cf6-bc0c-468c-a1f3-41b4cdebf1a1"
      },
      "outputs": [
        {
          "output_type": "stream",
          "name": "stdout",
          "text": [
            "\n",
            "-----------------------------------------\n",
            "Command line arguments:\n",
            "-----------------------------------------\n",
            "\n",
            "\n",
            "\n",
            "----------------------------------------------------------------------------------------------------------------------------------------------------\n",
            "INPUT HELP - These are the inputs that can be given from the command line\n",
            "----------------------------------------------------------------------------------------------------------------------------------------------------\n",
            "\n",
            "\n",
            "Input               | Type            | Description                                                                     | Default value               \n",
            "----------------------------------------------------------------------------------------------------------------------------------------------------\n",
            "ddp                 | <class 'bool'>  | Activate distributed training                                                   | False                       \n",
            "load_checkpoint     | <class 'bool'>  | Load a pre-trained GAN                                                          | False                       \n",
            "train_gan           | <class 'bool'>  | Train a GAN                                                                     | True                        \n",
            "filter_generator    | <class 'bool'>  | Use low-pass filter on the generator output                                     | False                       \n",
            "windows_slices      | <class 'bool'>  | Use sliding windows instead of whole sequences                                  | False                       \n",
            "n_epochs            | <class 'int'>   | Number of epochs                                                                | 100                         \n",
            "batch_size          | <class 'int'>   | Batch size                                                                      | 128                         \n",
            "patch_size          | <class 'int'>   | Patch size                                                                      | 20                          \n",
            "sequence_length     | <class 'int'>   | Used length of the datasets sequences; If None, then the whole sequence is used | -1                          \n",
            "seq_len_generated   | <class 'int'>   | Length of the generated sequence                                                | -1                          \n",
            "sample_interval     | <class 'int'>   | Interval of epochs between saving samples                                       | 10                          \n",
            "learning_rate       | <class 'float'> | Learning rate of the GAN                                                        | 0.0001                      \n",
            "path_dataset        | <class 'str'>   | Path to the dataset                                                             | data/gansEEGTrainingData.csv\n",
            "path_checkpoint     | <class 'str'>   | Path to the checkpoint                                                          | trained_models/checkpoint.pt\n",
            "ddp_backend         | <class 'str'>   | Backend for the DDP-Training; \"nccl\" for GPU; \"gloo\" for CPU;                   | nccl                        \n",
            "conditions          | <class 'str'>   | ** Conditions to be used                                                        | Condition                   \n",
            "kw_timestep_dataset | <class 'str'>   | Keyword for the time step of the dataset                                        | Time                        \n",
            "----------------------------------------------------------------------------------------------------------------------------------------------------\n",
            "\n",
            "\n",
            "----------------------------------------------------------------------------------------------------------------------------------------------------\n",
            "QUICK HELP - These are the special features:\n",
            "----------------------------------------------------------------------------------------------------------------------------------------------------\n",
            "General information: \n",
            "\n",
            "Boolean arguments are given as a single keyword:\n",
            "\tSet boolean keyword \"test_keyword\" to True\t->\tpython file.py test_keyword\n",
            "Command line arguments are given as a keyword followed by an equal sign and the value:\n",
            "\tSet command line argument \"test_keyword\" to \"test_value\"\t->\tpython file.py test_keyword=test_value\n",
            "\tWhitespaces are not allowed between a keyword and its value.\n",
            "Some keywords can be given list-like: \n",
            "\ttest_keyword=test_value1,test_value2\n",
            "\tThese keywords are marked with ** in the table.\n",
            "----------------------------------------------------------------------------------------------------------------------------------------------------\n",
            "1.\tThe training works with two levels of checkpoint files:\n",
            "\t1.1 During the training:\n",
            "\t\tCheckpoints are saved every \"sample_interval\" batches as either \"checkpoint_01.pt\"\n",
            "\t\tor \"checkpoint_02.pt\". These checkpoints are considered as low-level checkpoints since they are only \n",
            "\t\tnecessary in the case of training interruption. Hereby, they can be used to continue the training from \n",
            "\t\tthe most recent sample. To continue training, the most recent checkpoint file must be renamed to \n",
            "\t\t\"checkpoint.pt\".\n",
            "\t\tFurther, these low-level checkpoints carry the generated samples for inference purposes.\n",
            "\t1.2 After finishing the training:\n",
            "\t\tA high-level checkpoint is saved as \"checkpoint.pt\", which is used to \n",
            "\t\tcontinue training in another session. This high-level checkpoint does not carry the generated samples.\n",
            "\t\tTo continue training from this checkpoint file no further adjustments are necessary. \n",
            "\t\tSimply give the keyword \"load_checkpoint\" when calling the training process.\n",
            "\t\tThe low-level checkpoints are deleted after creating the high-level checkpoint.\n",
            "\t1.3 For inference purposes:\n",
            "\t\tAnother dictionary is saved as \"gan_{n_epochs}ep_{timestamp}.pt\".\n",
            "\t\tThis file contains everything the checkpoint file contains, plus the generated samples.\n",
            "2.\tUse \"ddp=True\" to activate distributed training. \n",
            "\tOnly if multiple GPUs are available for one node.\n",
            "\tAll available GPUs are used for training.\n",
            "\tEach GPUs trains on the whole dataset. \n",
            "\tHence, the number of training epochs is multiplied by the number of GPUs\n",
            "3.\tIf you want to load a pre-trained GAN, you can use the following command:\n",
            "\tpython train_gan.py load_checkpoint; The default file is \"trained_models/checkpoint.pt\"\n",
            "\tIf you want to use an other file, you can use the following command:\n",
            "\t\tpython train_gan.py load_checkpoint path_checkpoint=\"path/to/file.pt\"\n",
            "4.\tIf you want to use a different dataset, you can use the following command:\n",
            "\tpython train_gan.py path_dataset=\"path/to/file.csv\"\n",
            "\tThe default dataset is \"data/ganAverageERP.csv\"\n",
            "5.\tThe keyword \"sequence_length\" has two different meanings based on the keyword \"windows_slices\":\n",
            "\t5.1 \"windows_slices\" is set to \"False\": \n",
            "\t\tThe keyword \"sequence_length\" defines the length of the taken sequence from the dataset.\n",
            "\t\tHereby, only the first {sequence_length} data points are taken from each sample.\n",
            "\t\tThe default value is -1, which means that the whole sequence is taken.\n",
            "\t5.2 \"windows_slices\" is set to \"True\": \n",
            "\t\tThe keyword \"sequence_length\" defines the length of a single window taken from the dataset.\n",
            "\t\tHereby, a sample from the dataset is sliced into windows of length \"sequence_length\".\n",
            "\t\tEach window is then used as a single sample.\n",
            "\t\tThe samples are taken by moving the window with a specific stride (=5) over the samples.\n",
            "5.\tHave in mind to change the keyword patch_size if you use another value for the keyword sequence_length.\n",
            "\tThe condition sequence_length % patch_size == 0 must be fulfilled.\n",
            "\tOtherwise the sequence will be padded with zeros until the condition is fulfilled.\n",
            "6.\tThe keyword \"seq_len_generated\" describes the length of the generated sequences.\n",
            "\t6.1 The condition \"seq_len_generated\" <= \"sequence_length\" must be fulfilled.\n",
            "\t6.2 The generator works in the following manner:\n",
            "\t\tThe generator gets a sequence of length (\"sequence_length\"-\"seq_len_generated\") as a condition (input).\n",
            "\t\tThe generator generates a sequence of length \"seq_len_generated\" as output which is used as the \n",
            "\t\tsubsequent part of the input sequence.\n",
            "\t6.3 If (\"seq_len_generated\" == \"sequence_length\"):\n",
            "\t\tThe generator does not get any input sequence but generates an arbitrary sequence of length \"sequence_length\".\n",
            "\t\tArbitrary means hereby that the generator does not get any conditions on previous data points.\n",
            "\n",
            "\n",
            "----------------------------------------------------------------------------------------------------------------------------------------------------\n",
            "----------------------------------------------------------------------------------------------------------------------------------------------------\n",
            "\n",
            "\n"
          ]
        },
        {
          "output_type": "execute_result",
          "data": {
            "text/plain": [
              "[]"
            ]
          },
          "metadata": {},
          "execution_count": 4
        }
      ],
      "source": [
        "train_gan(dict(help = True))"
      ]
    },
    {
      "cell_type": "markdown",
      "metadata": {
        "id": "NscQLNyykAZl"
      },
      "source": [
        "### Step 2.1.2. Visualize Help"
      ]
    },
    {
      "cell_type": "code",
      "execution_count": null,
      "metadata": {
        "colab": {
          "base_uri": "https://localhost:8080/"
        },
        "id": "WX-09LRtkAZn",
        "outputId": "75b9ab95-315a-4542-db77-28fa793d91b0"
      },
      "outputs": [
        {
          "name": "stdout",
          "output_type": "stream",
          "text": [
            "\n",
            "-----------------------------------------\n",
            "Command line arguments:\n",
            "-----------------------------------------\n",
            "\n",
            "\n",
            "\n",
            "----------------------------------------------------------------------------------------------------------------------------------------------------\n",
            "INPUT HELP - These are the inputs that can be given from the command line\n",
            "----------------------------------------------------------------------------------------------------------------------------------------------------\n",
            "\n",
            "\n",
            "Input               | Type           | Description                                                               | Default value               \n",
            "----------------------------------------------------------------------------------------------------------------------------------------------------\n",
            "file                | <class 'str'>  | File to be used                                                           | trained_models/checkpoint.pt\n",
            "training_file       | <class 'str'>  | Path to the original data                                                 | data/ganAverageERP.csv      \n",
            "kw_timestep_dataset | <class 'str'>  | Keyword for the time step of the dataset                                  | Time                        \n",
            "conditions          | <class 'str'>  | ** Conditions to be used                                                  | Condition                   \n",
            "checkpoint          | <class 'bool'> | Use samples from training checkpoint file                                 | False                       \n",
            "experiment          | <class 'bool'> | Use samples from experimental data                                        | False                       \n",
            "csv_file            | <class 'bool'> | Use samples from csv-file                                                 | False                       \n",
            "plot_losses         | <class 'bool'> | Plot training losses                                                      | False                       \n",
            "averaged            | <class 'bool'> | Average over all samples to get one averaged curve                        | False                       \n",
            "pca                 | <class 'bool'> | Use PCA to reduce the dimensionality of the data                          | False                       \n",
            "tsne                | <class 'bool'> | Use t-SNE to reduce the dimensionality of the data                        | False                       \n",
            "spectogram          | <class 'bool'> | Use spectogram to visualize the frequency distribution of the data        | False                       \n",
            "fft_hist            | <class 'bool'> | Use a FFT-histogram to visualize the frequency distribution of the data   | False                       \n",
            "save                | <class 'bool'> | Save the generated plots in the directory \"plots\" instead of showing them | False                       \n",
            "bandpass            | <class 'bool'> | Use bandpass filter from models.TtsGeneratorFiltered.filter() on samples  | False                       \n",
            "n_conditions        | <class 'int'>  | Number of conditions as first columns in data                             | 1                           \n",
            "n_samples           | <class 'int'>  | Total number of samples to be plotted                                     | 10                          \n",
            "batch_size          | <class 'int'>  | Number of samples in one plot                                             | 10                          \n",
            "starting_row        | <class 'int'>  | Starting row of the dataset                                               | 0                           \n",
            "tsne_perplexity     | <class 'int'>  | Perplexity of t-SNE                                                       | 40                          \n",
            "tsne_iterations     | <class 'int'>  | Number of iterations of t-SNE                                             | 1000                        \n",
            "----------------------------------------------------------------------------------------------------------------------------------------------------\n",
            "\n",
            "\n",
            "----------------------------------------------------------------------------------------------------------------------------------------------------\n",
            "QUICK HELP - These are the special features:\n",
            "----------------------------------------------------------------------------------------------------------------------------------------------------\n",
            "General information: \n",
            "\n",
            "Boolean arguments are given as a single keyword:\n",
            "\tSet boolean keyword \"test_keyword\" to True\t->\tpython file.py test_keyword\n",
            "Command line arguments are given as a keyword followed by an equal sign and the value:\n",
            "\tSet command line argument \"test_keyword\" to \"test_value\"\t->\tpython file.py test_keyword=test_value\n",
            "\tWhitespaces are not allowed between a keyword and its value.\n",
            "Some keywords can be given list-like: \n",
            "\ttest_keyword=test_value1,test_value2\n",
            "\tThese keywords are marked with ** in the table.\n",
            "----------------------------------------------------------------------------------------------------------------------------------------------------\n",
            "1.\tThe keyword \"file\" carries some special features:\n",
            "\t1.1 It is possible to give only a file instead of a whole file path.\n",
            "\t\tIn this case, the default path is specified regarding the following keywords:\n",
            "\t\t\"checkpoint\"\t->\tpath = \"trained_models\"\n",
            "\t\t\"experiment\"\t->\tpath = \"data\"\n",
            "\t\t\"csv_file\"\t->\tpath = \"generated_samples\"\n",
            "\t1.2 Specification of the keyword \"file\":\n",
            "\t\tThe default file works only in combination with the keyword \"checkpoint\".\n",
            "\t\tIn any other case, the default file must be specified with a compatible file name.\n",
            "2.\tIf the keyword \"starting_row\" is given, the dataset will start from the given row.\n",
            "\tThis utility is useful to skip early training stage samples.\n",
            "\tThe value can also be negative to specify the last n entries \n",
            "\te.g. \"starting_row=-100\":\tThe last 100 samples of the dataset are used.\n",
            "4.\tThe keyword \"plot_losses\" works only with the keyword \"checkpoint\".\n",
            "5.\tWhen using the keywords \"pca\" or \"tsne\" the \"training_file\" can be defined.\n",
            "\tThe legend corresponds to the plotted samples according to:\n",
            "\t\tred\t->\tsamples from \"training_file\"\n",
            "\t\tblue\t->\tsamples from \"file\"\n",
            "\tTherefore, the blue samples can also correspond to samples from an experiment file.\n",
            "----------------------------------------------------------------------------------------------------------------------------------------------------\n",
            "\n",
            "\n"
          ]
        },
        {
          "data": {
            "text/plain": [
              "[]"
            ]
          },
          "execution_count": 6,
          "metadata": {},
          "output_type": "execute_result"
        }
      ],
      "source": [
        "visualize_gan(dict(help = True))"
      ]
    },
    {
      "cell_type": "markdown",
      "metadata": {
        "id": "aTxPJRfckAZn"
      },
      "source": [
        "### Step 2.1.3. Generate Samples Help"
      ]
    },
    {
      "cell_type": "code",
      "execution_count": null,
      "metadata": {
        "colab": {
          "base_uri": "https://localhost:8080/"
        },
        "id": "MXO6z0IZkAZn",
        "outputId": "77881156-ed7f-4f55-f8c4-d9fbe4946694"
      },
      "outputs": [
        {
          "name": "stdout",
          "output_type": "stream",
          "text": [
            "\n",
            "-----------------------------------------\n",
            "Command line arguments:\n",
            "-----------------------------------------\n",
            "\n",
            "\n",
            "\n",
            "----------------------------------------------------------------------------------------------------------------------------------------------------\n",
            "INPUT HELP - These are the inputs that can be given from the command line\n",
            "----------------------------------------------------------------------------------------------------------------------------------------------------\n",
            "\n",
            "\n",
            "Input                 | Type           | Description                                                                                  | Default value               \n",
            "----------------------------------------------------------------------------------------------------------------------------------------------------\n",
            "file                  | <class 'str'>  | File which contains the trained model and its configuration                                  | trained_models/checkpoint.pt\n",
            "path_samples          | <class 'str'>  | File where to store the generated samples; If None, then checkpoint name is used             | None                        \n",
            "kw_timestep_dataset   | <class 'str'>  | Keyword for the time step of the dataset; to determine the sequence length                   | Time                        \n",
            "sequence_length_total | <class 'int'>  | total sequence length of generated sample; if -1, then sequence length from training dataset | -1                          \n",
            "num_samples_total     | <class 'int'>  | total number of generated samples                                                            | 1000                        \n",
            "num_samples_parallel  | <class 'int'>  | number of samples generated in parallel                                                      | 50                          \n",
            "conditions            | <class 'int'>  | ** Specific condition; -1 -> random condition (only for binary condition)                    | -1                          \n",
            "average               | <class 'int'>  | Average over n latent variables to get an averaged one                                       | 1                           \n",
            "all_cond_per_z        | <class 'bool'> | PRELIMINARY; ONLY FOR SINGLE BINARY CONDITION; Generate all conditions per latent variable   | False                       \n",
            "----------------------------------------------------------------------------------------------------------------------------------------------------\n",
            "\n",
            "\n",
            "----------------------------------------------------------------------------------------------------------------------------------------------------\n",
            "QUICK HELP - These are the special features:\n",
            "----------------------------------------------------------------------------------------------------------------------------------------------------\n",
            "General information: \n",
            "\n",
            "Boolean arguments are given as a single keyword:\n",
            "\tSet boolean keyword \"test_keyword\" to True\t->\tpython file.py test_keyword\n",
            "Command line arguments are given as a keyword followed by an equal sign and the value:\n",
            "\tSet command line argument \"test_keyword\" to \"test_value\"\t->\tpython file.py test_keyword=test_value\n",
            "\tWhitespaces are not allowed between a keyword and its value.\n",
            "Some keywords can be given list-like: \n",
            "\ttest_keyword=test_value1,test_value2\n",
            "\tThese keywords are marked with ** in the table.\n",
            "----------------------------------------------------------------------------------------------------------------------------------------------------\n",
            "1.\tThe keyword \"file\" carries some special features:\n",
            "\t1.1 It is possible to give only a file instead of a whole file path\n",
            "\t\tIn this case, the default path is \"trained_models\"\n",
            "\t1.2 The specified file must be a checkpoint file which contains the generator state dict and its \n",
            "\t    corresponding configuration dict\n",
            "2.\tThe keyword \"sequence_length_total\" defines the length of the generated sequences\n",
            "\tThe default value is -1, which means that the max sequence length is chosen\n",
            "\tThe max sequence length is determined by the used training data set given by the configuration dict\n",
            "3.\tThe keyword \"condition\" defines the condition for the generator:\n",
            "\t3.1 Hereby, the value can be either a scalar or a comma-seperated list of scalars e.g., \"condition=1,3.234,0\"\n",
            "\t    Current implementation: The single elements must be numeric\n",
            "\t    The length of the condition must be equal to the \"n_condition\" parameter in the configuration dict\n",
            "\t3.2 The value -1 means that the condition is chosen randomly\n",
            "\t    This works currently only for binary conditions. \n",
            "4.\tThe keyword \"num_samples_parallel\" defines the number of generated samples in one batch\n",
            "\tThis parameter should be set according to the processing power of the used machine\n",
            "\tEspecially, the generation of large number of sequences can be boosted by increasing this parameter\n"
          ]
        },
        {
          "data": {
            "text/plain": [
              "[]"
            ]
          },
          "execution_count": 7,
          "metadata": {},
          "output_type": "execute_result"
        }
      ],
      "source": [
        "generate_samples(dict(help = True))"
      ]
    },
    {
      "cell_type": "markdown",
      "metadata": {
        "id": "TQqKdQIBkAZn"
      },
      "source": [
        "## Step 2.2. Training the GAN"
      ]
    },
    {
      "cell_type": "markdown",
      "metadata": {
        "id": "7BhdId0JkAZn"
      },
      "source": [
        "To train the GAN in this tutorial, we will be using the following arguments:\n",
        "- <b>path_dataset=data/gansEEGTrainingData.csv</b> : Determines the training dataset\n",
        "- <b>n_epochs=5</b> : Determines number of times to train the GAN<br>\n",
        "&emsp;&emsp;-*Here we only use 5 epochs to demonstrate the process but this will result in a very under-trained GAN. In the manuscript, we trained for 8000 epochs.*\n",
        "\n",
        "*Note: If the **ddp** argument is provided, GANs will be trained using GPUs rather than CPUs*"
      ]
    },
    {
      "cell_type": "code",
      "execution_count": null,
      "metadata": {
        "colab": {
          "base_uri": "https://localhost:8080/",
          "height": 504
        },
        "id": "XEl401f5kAZn",
        "outputId": "cce66c64-e43b-45d7-98b6-1ab4906f5a2f"
      },
      "outputs": [
        {
          "output_type": "stream",
          "name": "stdout",
          "text": [
            "\n",
            "-----------------------------------------\n",
            "Command line arguments:\n",
            "-----------------------------------------\n",
            "\n",
            "Dataset: data/gansEEGTrainingData.csv\n",
            "Number of epochs: 5\n",
            "\n",
            "-----------------------------------------\n",
            "System output:\n",
            "-----------------------------------------\n",
            "\n",
            "Generator and discriminator initialized.\n",
            "\n",
            "-----------------------------------------\n",
            "Training GAN...\n",
            "-----------------------------------------\n",
            "\n",
            "[Epoch 1/5] [D loss: 8.342270] [G loss: 0.171996]\n",
            "[Epoch 2/5] [D loss: 7.199574] [G loss: 0.587039]\n",
            "[Epoch 3/5] [D loss: 5.645170] [G loss: 1.041533]\n",
            "[Epoch 4/5] [D loss: 4.101204] [G loss: 1.683151]\n",
            "[Epoch 5/5] [D loss: 2.708827] [G loss: 2.192675]\n",
            "Managing checkpoints...\n",
            "GAN training finished.\n",
            "Generated samples saved to file.\n",
            "Model states saved to file.\n"
          ]
        },
        {
          "output_type": "execute_result",
          "data": {
            "text/plain": [
              "'\\nargv = dict(\\n    ddp = True,\\n    path_dataset=\"data/gansEEGTrainingData.csv\",\\n    n_epochs=5\\n)\\n\\ntrain_gan(argv)\\n'"
            ],
            "application/vnd.google.colaboratory.intrinsic+json": {
              "type": "string"
            }
          },
          "metadata": {},
          "execution_count": 4
        }
      ],
      "source": [
        "#Train the GAN on CPUs\n",
        "\n",
        "argv = dict(\n",
        "    path_dataset=\"data/gansEEGTrainingData.csv\",\n",
        "    n_epochs=5\n",
        ")\n",
        "\n",
        "train_gan(argv)\n",
        "\n",
        "#Train the GAN on GPUs\n",
        "#Note, on Google Colab you can start a GPU runtime by going to Runtime > Change runtime type > Hardware accelerator > GPU\n",
        "'''\n",
        "argv = dict(\n",
        "    ddp = True,\n",
        "    path_dataset=\"data/gansEEGTrainingData.csv\",\n",
        "    n_epochs=5\n",
        ")\n",
        "\n",
        "train_gan(argv)\n",
        "'''"
      ]
    },
    {
      "cell_type": "markdown",
      "metadata": {
        "id": "D-ghmBxIkAZn"
      },
      "source": [
        "# Step 2.3. Visualizing GAN Losses"
      ]
    },
    {
      "cell_type": "markdown",
      "metadata": {
        "id": "Lhf3BUiykAZo"
      },
      "source": [
        "The GAN trains for the number of epochs specified above; however, this does not ensure that it will train successfully. So, it is important to visualize our training success and ensure that it completed successfully. If it did, we can move forward with using the GAN, but if it did not then we would need to continue training the GAN. This latter case is not a problem though because the package was built so that you can continue training a previously trained GAN (rather than having to start over) if you use the ```load_checkpoint``` and ```path_checkpoint``` arguments with the ```train_gan.py``` function.  \n",
        "\n",
        "We will now visualize the generator and discriminator losses using the following arguments:\n",
        "- <b>plot_losses</b> : Determines that we will be viewing the losses\n",
        "- <b>checkpoint </b> : Specifies that we are visualizing a GAN\n",
        "- <b>file=ganEEGModel.pt</b> : Determines which GAN to visualize\n",
        "- <b>training_file=data\\gansEEGTrainingData.csv</b> : Points towards the data used to train the GAN\n",
        "\n",
        "We will know that training was successful if both the generator and discriminator losses hover around 0 at the end of training."
      ]
    },
    {
      "cell_type": "code",
      "execution_count": null,
      "metadata": {
        "colab": {
          "base_uri": "https://localhost:8080/",
          "height": 691
        },
        "id": "7pfQ0ymdkAZo",
        "outputId": "23e38d1a-61f0-4363-d205-431ac3869cb3"
      },
      "outputs": [
        {
          "output_type": "stream",
          "name": "stdout",
          "text": [
            "\n",
            "-----------------------------------------\n",
            "Command line arguments:\n",
            "-----------------------------------------\n",
            "\n",
            "Plotting training losses\n",
            "Using samples from checkpoint file\n",
            "File: gansEEGModel.pt\n",
            "Training dataset: data\\gansEEGTrainingData.csv\n",
            "\n",
            "-----------------------------------------\n",
            "System output:\n",
            "-----------------------------------------\n",
            "\n"
          ]
        },
        {
          "output_type": "display_data",
          "data": {
            "text/plain": [
              "<Figure size 640x480 with 1 Axes>"
            ],
            "image/png": "[encoded data removed]"
          },
          "metadata": {}
        },
        {
          "output_type": "execute_result",
          "data": {
            "text/plain": [
              "'\\nargv = dict(\\n    plot_losses = True,\\n    checkpoint = True,\\n    file = \"checkpoint.pt\",\\n    training_file = \"data\\\\gansEEGTrainingData.csv\"\\n)\\n\\nvisualize_gan(argv)\\n'"
            ],
            "application/vnd.google.colaboratory.intrinsic+json": {
              "type": "string"
            }
          },
          "metadata": {},
          "execution_count": 6
        }
      ],
      "source": [
        "#We trained our GAN for 5 epochs and this will result in a model that is severally under-trained, so we will instead use a pre-trained GAN that trained for 8000 epochs:\n",
        "argv = dict(\n",
        "    plot_losses = True,\n",
        "    checkpoint = True,\n",
        "    file = \"gansEEGModel.pt\",\n",
        "    training_file = \"data\\gansEEGTrainingData.csv\"\n",
        ")\n",
        "\n",
        "visualize_gan(argv)\n",
        "\n",
        "#The GAN training results fom the last step results in a file named checkpoint.pt. If you want to continue with this file, use the following line of code:\n",
        "'''\n",
        "argv = dict(\n",
        "    plot_losses = True,\n",
        "    checkpoint = True,\n",
        "    file = \"checkpoint.pt\",\n",
        "    training_file = \"data\\gansEEGTrainingData.csv\"\n",
        ")\n",
        "\n",
        "visualize_gan(argv)\n",
        "'''"
      ]
    },
    {
      "cell_type": "markdown",
      "metadata": {
        "id": "CVBr-LqdkAZp"
      },
      "source": [
        "## Step 2.4. Generating Synthetic Data"
      ]
    },
    {
      "cell_type": "markdown",
      "metadata": {
        "id": "3jRm5IUYkAZp"
      },
      "source": [
        "We will be using the following arguments:\n",
        "- <b> file=gansEEGModel.pt </b> : Determines which model to use<br>\n",
        "&emsp;&emsp;*The default trained GAN name is checkpoint.pt but we will instead use a pre-trained GAN named gansEEGModel.pt*\n",
        "- <b> path_samples=gansEEGSyntheticData.csv </b> : Where and what to save the generated samples as\n",
        "- <b> num_samples_total=10000 </b> : Number of samples to generate (half per condition)"
      ]
    },
    {
      "cell_type": "code",
      "execution_count": null,
      "metadata": {
        "colab": {
          "base_uri": "https://localhost:8080/",
          "height": 1000
        },
        "id": "iRmmQUIEkAZp",
        "outputId": "0452e4c1-c4a7-486d-c59a-35f33108e6b8"
      },
      "outputs": [
        {
          "output_type": "stream",
          "name": "stdout",
          "text": [
            "\n",
            "-----------------------------------------\n",
            "Command line arguments:\n",
            "-----------------------------------------\n",
            "\n",
            "File: gansEEGModel.pt\n",
            "Saving generated samples to file: gansEEGSyntheticData.csv\n",
            "Total number of generated samples: 10000\n",
            "\n",
            "-----------------------------------------\n",
            "System output:\n",
            "-----------------------------------------\n",
            "\n",
            "Initializing generator...\n",
            "Generating samples...\n",
            "Generating sequence 1 of 200...\n",
            "Generating sequence 2 of 200...\n",
            "Generating sequence 3 of 200...\n",
            "Generating sequence 4 of 200...\n",
            "Generating sequence 5 of 200...\n",
            "Generating sequence 6 of 200...\n",
            "Generating sequence 7 of 200...\n",
            "Generating sequence 8 of 200...\n",
            "Generating sequence 9 of 200...\n",
            "Generating sequence 10 of 200...\n",
            "Generating sequence 11 of 200...\n",
            "Generating sequence 12 of 200...\n",
            "Generating sequence 13 of 200...\n",
            "Generating sequence 14 of 200...\n",
            "Generating sequence 15 of 200...\n",
            "Generating sequence 16 of 200...\n",
            "Generating sequence 17 of 200...\n",
            "Generating sequence 18 of 200...\n",
            "Generating sequence 19 of 200...\n",
            "Generating sequence 20 of 200...\n",
            "Generating sequence 21 of 200...\n",
            "Generating sequence 22 of 200...\n",
            "Generating sequence 23 of 200...\n",
            "Generating sequence 24 of 200...\n",
            "Generating sequence 25 of 200...\n",
            "Generating sequence 26 of 200...\n",
            "Generating sequence 27 of 200...\n",
            "Generating sequence 28 of 200...\n",
            "Generating sequence 29 of 200...\n",
            "Generating sequence 30 of 200...\n",
            "Generating sequence 31 of 200...\n",
            "Generating sequence 32 of 200...\n",
            "Generating sequence 33 of 200...\n",
            "Generating sequence 34 of 200...\n",
            "Generating sequence 35 of 200...\n",
            "Generating sequence 36 of 200...\n",
            "Generating sequence 37 of 200...\n",
            "Generating sequence 38 of 200...\n",
            "Generating sequence 39 of 200...\n",
            "Generating sequence 40 of 200...\n",
            "Generating sequence 41 of 200...\n",
            "Generating sequence 42 of 200...\n",
            "Generating sequence 43 of 200...\n",
            "Generating sequence 44 of 200...\n",
            "Generating sequence 45 of 200...\n",
            "Generating sequence 46 of 200...\n",
            "Generating sequence 47 of 200...\n",
            "Generating sequence 48 of 200...\n",
            "Generating sequence 49 of 200...\n",
            "Generating sequence 50 of 200...\n",
            "Generating sequence 51 of 200...\n",
            "Generating sequence 52 of 200...\n",
            "Generating sequence 53 of 200...\n",
            "Generating sequence 54 of 200...\n",
            "Generating sequence 55 of 200...\n",
            "Generating sequence 56 of 200...\n",
            "Generating sequence 57 of 200...\n",
            "Generating sequence 58 of 200...\n",
            "Generating sequence 59 of 200...\n",
            "Generating sequence 60 of 200...\n",
            "Generating sequence 61 of 200...\n",
            "Generating sequence 62 of 200...\n",
            "Generating sequence 63 of 200...\n",
            "Generating sequence 64 of 200...\n",
            "Generating sequence 65 of 200...\n",
            "Generating sequence 66 of 200...\n",
            "Generating sequence 67 of 200...\n",
            "Generating sequence 68 of 200...\n",
            "Generating sequence 69 of 200...\n",
            "Generating sequence 70 of 200...\n",
            "Generating sequence 71 of 200...\n",
            "Generating sequence 72 of 200...\n",
            "Generating sequence 73 of 200...\n",
            "Generating sequence 74 of 200...\n",
            "Generating sequence 75 of 200...\n",
            "Generating sequence 76 of 200...\n",
            "Generating sequence 77 of 200...\n",
            "Generating sequence 78 of 200...\n",
            "Generating sequence 79 of 200...\n",
            "Generating sequence 80 of 200...\n",
            "Generating sequence 81 of 200...\n",
            "Generating sequence 82 of 200...\n",
            "Generating sequence 83 of 200...\n",
            "Generating sequence 84 of 200...\n",
            "Generating sequence 85 of 200...\n",
            "Generating sequence 86 of 200...\n",
            "Generating sequence 87 of 200...\n",
            "Generating sequence 88 of 200...\n",
            "Generating sequence 89 of 200...\n",
            "Generating sequence 90 of 200...\n",
            "Generating sequence 91 of 200...\n",
            "Generating sequence 92 of 200...\n",
            "Generating sequence 93 of 200...\n",
            "Generating sequence 94 of 200...\n",
            "Generating sequence 95 of 200...\n",
            "Generating sequence 96 of 200...\n",
            "Generating sequence 97 of 200...\n",
            "Generating sequence 98 of 200...\n",
            "Generating sequence 99 of 200...\n",
            "Generating sequence 100 of 200...\n",
            "Generating sequence 101 of 200...\n",
            "Generating sequence 102 of 200...\n",
            "Generating sequence 103 of 200...\n",
            "Generating sequence 104 of 200...\n",
            "Generating sequence 105 of 200...\n",
            "Generating sequence 106 of 200...\n",
            "Generating sequence 107 of 200...\n",
            "Generating sequence 108 of 200...\n",
            "Generating sequence 109 of 200...\n",
            "Generating sequence 110 of 200...\n",
            "Generating sequence 111 of 200...\n",
            "Generating sequence 112 of 200...\n",
            "Generating sequence 113 of 200...\n",
            "Generating sequence 114 of 200...\n",
            "Generating sequence 115 of 200...\n",
            "Generating sequence 116 of 200...\n",
            "Generating sequence 117 of 200...\n",
            "Generating sequence 118 of 200...\n",
            "Generating sequence 119 of 200...\n",
            "Generating sequence 120 of 200...\n",
            "Generating sequence 121 of 200...\n",
            "Generating sequence 122 of 200...\n",
            "Generating sequence 123 of 200...\n",
            "Generating sequence 124 of 200...\n",
            "Generating sequence 125 of 200...\n",
            "Generating sequence 126 of 200...\n",
            "Generating sequence 127 of 200...\n",
            "Generating sequence 128 of 200...\n",
            "Generating sequence 129 of 200...\n",
            "Generating sequence 130 of 200...\n",
            "Generating sequence 131 of 200...\n",
            "Generating sequence 132 of 200...\n",
            "Generating sequence 133 of 200...\n",
            "Generating sequence 134 of 200...\n",
            "Generating sequence 135 of 200...\n",
            "Generating sequence 136 of 200...\n",
            "Generating sequence 137 of 200...\n",
            "Generating sequence 138 of 200...\n",
            "Generating sequence 139 of 200...\n",
            "Generating sequence 140 of 200...\n",
            "Generating sequence 141 of 200...\n",
            "Generating sequence 142 of 200...\n",
            "Generating sequence 143 of 200...\n",
            "Generating sequence 144 of 200...\n",
            "Generating sequence 145 of 200...\n",
            "Generating sequence 146 of 200...\n",
            "Generating sequence 147 of 200...\n",
            "Generating sequence 148 of 200...\n",
            "Generating sequence 149 of 200...\n",
            "Generating sequence 150 of 200...\n",
            "Generating sequence 151 of 200...\n",
            "Generating sequence 152 of 200...\n",
            "Generating sequence 153 of 200...\n",
            "Generating sequence 154 of 200...\n",
            "Generating sequence 155 of 200...\n",
            "Generating sequence 156 of 200...\n",
            "Generating sequence 157 of 200...\n",
            "Generating sequence 158 of 200...\n",
            "Generating sequence 159 of 200...\n",
            "Generating sequence 160 of 200...\n",
            "Generating sequence 161 of 200...\n",
            "Generating sequence 162 of 200...\n",
            "Generating sequence 163 of 200...\n",
            "Generating sequence 164 of 200...\n",
            "Generating sequence 165 of 200...\n",
            "Generating sequence 166 of 200...\n",
            "Generating sequence 167 of 200...\n",
            "Generating sequence 168 of 200...\n",
            "Generating sequence 169 of 200...\n",
            "Generating sequence 170 of 200...\n",
            "Generating sequence 171 of 200...\n",
            "Generating sequence 172 of 200...\n",
            "Generating sequence 173 of 200...\n",
            "Generating sequence 174 of 200...\n",
            "Generating sequence 175 of 200...\n",
            "Generating sequence 176 of 200...\n",
            "Generating sequence 177 of 200...\n",
            "Generating sequence 178 of 200...\n",
            "Generating sequence 179 of 200...\n",
            "Generating sequence 180 of 200...\n",
            "Generating sequence 181 of 200...\n",
            "Generating sequence 182 of 200...\n",
            "Generating sequence 183 of 200...\n",
            "Generating sequence 184 of 200...\n",
            "Generating sequence 185 of 200...\n",
            "Generating sequence 186 of 200...\n",
            "Generating sequence 187 of 200...\n",
            "Generating sequence 188 of 200...\n",
            "Generating sequence 189 of 200...\n",
            "Generating sequence 190 of 200...\n",
            "Generating sequence 191 of 200...\n",
            "Generating sequence 192 of 200...\n",
            "Generating sequence 193 of 200...\n",
            "Generating sequence 194 of 200...\n",
            "Generating sequence 195 of 200...\n",
            "Generating sequence 196 of 200...\n",
            "Generating sequence 197 of 200...\n",
            "Generating sequence 198 of 200...\n",
            "Generating sequence 199 of 200...\n",
            "Generating sequence 200 of 200...\n",
            "Saving samples...\n",
            "Generated samples were saved to generated_samples/gansEEGSyntheticData.csv\n"
          ]
        },
        {
          "output_type": "execute_result",
          "data": {
            "text/plain": [
              "'\\nargv = dict(\\n    file = \"checkpoint.pt\",\\n    path_samples = \"gansEEGSyntheticData.csv\",\\n    num_samples_total = 10000\\n)\\n\\ngenerate_samples(argv)\\n'"
            ],
            "application/vnd.google.colaboratory.intrinsic+json": {
              "type": "string"
            }
          },
          "metadata": {},
          "execution_count": 5
        }
      ],
      "source": [
        "#We trained our GAN for 5 epochs and this will result in a model that is severally under-trained, so we will instead use a pre-trained GAN that trained for 8000 epochs:\n",
        "argv = dict(\n",
        "    file = \"gansEEGModel.pt\",\n",
        "    path_samples = \"gansEEGSyntheticData.csv\",\n",
        "    num_samples_total = 10000\n",
        ")\n",
        "\n",
        "generate_samples(argv)\n",
        "\n",
        "#The GAN training results fom the last step results in a file named checkpoint.pt. If you want to continue with this file, use the following line of code:\n",
        "'''\n",
        "argv = dict(\n",
        "    file = \"checkpoint.pt\",\n",
        "    path_samples = \"gansEEGSyntheticData.csv\",\n",
        "    num_samples_total = 10000\n",
        ")\n",
        "\n",
        "generate_samples(argv)\n",
        "'''"
      ]
    },
    {
      "cell_type": "markdown",
      "metadata": {
        "id": "ccXFDBtMkAZp"
      },
      "source": [
        "# Step 3. Synthetic Data"
      ]
    },
    {
      "cell_type": "markdown",
      "metadata": {
        "id": "Do1I6oHOkAZq"
      },
      "source": [
        "## Step 3.1. Load Data\n",
        "We will now load the synthetic data we just produced, and confirm the number of samples per condition"
      ]
    },
    {
      "cell_type": "code",
      "execution_count": null,
      "metadata": {
        "colab": {
          "base_uri": "https://localhost:8080/"
        },
        "id": "_nI-kEMHkAZq",
        "outputId": "01df4255-e077-466f-afcc-1b665c5c19bd"
      },
      "outputs": [
        {
          "output_type": "stream",
          "name": "stdout",
          "text": [
            "\u001b[1mDisplay first few rows/columns of data\u001b[0m\n",
            "['Condition', 'Time1', 'Time2', 'Time3', 'Time4', 'Time5']\n",
            "[[0.         0.4462961  0.43793494 0.41811001 0.40980363 0.43475217]\n",
            " [1.         0.42722881 0.44610953 0.4300316  0.45458001 0.45692587]\n",
            " [0.         0.38341969 0.35869789 0.37482953 0.40516382 0.4458825 ]]\n",
            "\n",
            "\u001b[1mDisplay trial counts for each condition\u001b[0m\n",
            "\u001b[1mWin: \u001b[0m5000\n",
            "\u001b[1mLose: \u001b[0m5000\n"
          ]
        }
      ],
      "source": [
        "#Load Data \n",
        "syntheticEEG = np.genfromtxt('generated_samples/gansEEGSyntheticData.csv', delimiter=',', skip_header=1)\n",
        "\n",
        "#Print head of the data\n",
        "print(printFormat.bold + 'Display first few rows/columns of data' + printFormat.end)\n",
        "print(['Condition','Time1','Time2','Time3','Time4','Time5'])\n",
        "print(syntheticEEG[0:3,0:6])\n",
        "\n",
        "#Print condition sample counts\n",
        "print('\\n' + printFormat.bold + 'Display trial counts for each condition' + printFormat.end)\n",
        "print(printFormat.bold +'Win: ' + printFormat.end + str(np.sum(syntheticEEG[:,0]==0)))\n",
        "print(printFormat.bold +'Lose: ' + printFormat.end + str(np.sum(syntheticEEG[:,0]==1)))"
      ]
    },
    {
      "cell_type": "markdown",
      "metadata": {
        "id": "GlpCh7Y2kAZq"
      },
      "source": [
        "## Step 3.2. View Data"
      ]
    },
    {
      "cell_type": "markdown",
      "metadata": {
        "id": "FlkxeBUDkAZq"
      },
      "source": [
        "### Step 3.2.1. View Trial-Level Data\n",
        "We will view 5 trial level data for both the empirical and synthetic data."
      ]
    },
    {
      "cell_type": "code",
      "execution_count": null,
      "metadata": {
        "colab": {
          "base_uri": "https://localhost:8080/",
          "height": 410
        },
        "id": "QIN8DXGEkAZr",
        "outputId": "03cd412a-231c-4fdc-a629-493e085140c0"
      },
      "outputs": [
        {
          "output_type": "display_data",
          "data": {
            "text/plain": [
              "<Figure size 1200x400 with 10 Axes>"
            ],
            "image/png": "[encoded data removed]"
          },
          "metadata": {}
        }
      ],
      "source": [
        "#Determine 5 random trials to plot\n",
        "empiricalIndex = rnd.sample(range(0, empiricalEEG.shape[0]), 5)\n",
        "syntheticIndex = rnd.sample(range(0, syntheticEEG.shape[0]), 5)\n",
        "\n",
        "#Plot trial data\n",
        "f, ax = plt.subplots(5, 2, figsize=(12, 4))\n",
        "for c in range(5):\n",
        "    ax[c,0].plot(time,empiricalEEG[empiricalIndex[c],3:]) #Note, we here add the same filter simply for visualization\n",
        "    ax[c,0].set_yticks([])\n",
        "    \n",
        "    ax[c,1].plot(time,syntheticEEG[syntheticIndex[c],1:])\n",
        "    ax[c,1].spines[['left', 'right', 'top']].set_visible(False)\n",
        "    ax[c,1].set_yticks([])\n",
        "    \n",
        "    if c == 0:\n",
        "        ax[c,0].set_title('Empirical', loc='left')\n",
        "        ax[c,1].set_title('Synthetic', loc='left')\n",
        "    else:\n",
        "        ax[c,0].set_title(' ')\n",
        "        ax[c,1].set_title(' ')\n",
        "        \n",
        "    if c != 4:\n",
        "        ax[c,0].spines[['bottom', 'left', 'right', 'top']].set_visible(False)\n",
        "        ax[c,1].spines[['bottom', 'left', 'right', 'top']].set_visible(False)\n",
        "        ax[c,0].set_xticks([])\n",
        "        ax[c,1].set_xticks([])\n",
        "    else:\n",
        "        ax[c,0].spines[['left', 'right', 'top']].set_visible(False)\n",
        "        ax[c,1].spines[['left', 'right', 'top']].set_visible(False)\n",
        "        ax[c,0].set_xlabel('Time (ms)')\n",
        "        ax[c,1].set_xlabel('Time (ms)')"
      ]
    },
    {
      "cell_type": "markdown",
      "metadata": {
        "id": "VmeASxcckAZs"
      },
      "source": [
        "## Step 3.2.2. View ERP Data\n",
        "We will now show the empirical and synthetic ERPs side-by-side for comparison."
      ]
    },
    {
      "cell_type": "code",
      "execution_count": null,
      "metadata": {
        "colab": {
          "base_uri": "https://localhost:8080/",
          "height": 427
        },
        "id": "_PDW0m_BkAZs",
        "outputId": "efa98ee4-2ae0-43fc-f3b9-36e3db4146e9"
      },
      "outputs": [
        {
          "output_type": "execute_result",
          "data": {
            "text/plain": [
              "<matplotlib.legend.Legend at 0x7fd61894ab50>"
            ]
          },
          "metadata": {},
          "execution_count": 9
        },
        {
          "output_type": "display_data",
          "data": {
            "text/plain": [
              "<Figure size 1200x400 with 2 Axes>"
            ],
            "image/png": "[encoded data removed]"
          },
          "metadata": {}
        }
      ],
      "source": [
        "#Grand average the synthetic waveforms for each condition\n",
        "synLossWaveform = np.mean(syntheticEEG[np.r_[syntheticEEG[:,0]==1],1:],axis=0)\n",
        "synWinWaveform = np.mean(syntheticEEG[np.r_[syntheticEEG[:,0]==0],1:],axis=0)\n",
        "\n",
        "#Set up figure\n",
        "f, (ax1, ax2) = plt.subplots(1, 2, figsize=(12, 4))\n",
        "\n",
        "#Plot each empirical waveform (note, we here add the same processing simply for visualization)\n",
        "ax1.plot(time, scale(winWaveform), label = 'Empirical')\n",
        "ax1.plot(time, scale(synWinWaveform), label = 'Synthetic')\n",
        "\n",
        "#Format plot\n",
        "ax1.set_ylabel('Voltage ($\\mu$V)')\n",
        "ax1.set_xlabel('Time (ms)')\n",
        "ax1.set_title('Win', loc='left')\n",
        "ax1.spines[['right', 'top']].set_visible(False)\n",
        "ax1.tick_params(left = False, labelleft = False)\n",
        "ax1.legend(frameon=False)\n",
        "\n",
        "#Plot each synthetic waveform\n",
        "ax2.plot(time, scale(lossWaveform), label = 'Empirical')\n",
        "ax2.plot(time, scale(synLossWaveform), label = 'Synthetic')\n",
        "\n",
        "#Format plot\n",
        "ax2.set_ylabel('Voltage ($\\mu$V)')\n",
        "ax2.set_xlabel('Time (ms)')\n",
        "ax2.set_title('Lose', loc='left')\n",
        "ax2.spines[['right', 'top']].set_visible(False)\n",
        "ax2.tick_params(left = False, labelleft = False)\n",
        "ax2.legend(frameon=False)"
      ]
    },
    {
      "cell_type": "markdown",
      "metadata": {
        "id": "vQakI-rzkAZs"
      },
      "source": [
        "# Step 4. Classification"
      ]
    },
    {
      "cell_type": "markdown",
      "metadata": {
        "id": "7CJVm8ywkAZt"
      },
      "source": [
        "## Step 4.1. Preparing Validation Data\n",
        "We also provide a validation dataset with samples not contained in the empirical dataset. Here, we prepare them for classification."
      ]
    },
    {
      "cell_type": "code",
      "execution_count": null,
      "metadata": {
        "id": "uUeQQDeakAZt"
      },
      "outputs": [],
      "source": [
        "#Set seed for a bit of reproducibility\n",
        "rnd.seed(1618)\n",
        "\n",
        "#This function averages trial-level empirical data for each participant and condition\n",
        "def averageEEG(EEG):\n",
        "    participants = np.unique(EEG[:,0])\n",
        "    averagedEEG = []\n",
        "    for participant in participants:\n",
        "        for condition in range(2):\n",
        "            averagedEEG.append(np.mean(EEG[(EEG[:,0]==participant)&(EEG[:,1]==condition),:], axis=0))\n",
        "    return np.array(averagedEEG)\n",
        "\n",
        "#Load test data to predict (data that neither the GAN nor the classifier will ever see in training)\n",
        "EEGDataTest = np.genfromtxt('data/gansEEGValidationData.csv', delimiter=',', skip_header=1)\n",
        "EEGDataTest = averageEEG(EEGDataTest)[:,1:]\n",
        "\n",
        "#Extract test outcome and predictor data\n",
        "y_test = EEGDataTest[:,0]\n",
        "x_test = EEGDataTest[:,2:]\n",
        "x_test = scale(x_test,axis = 1)"
      ]
    },
    {
      "cell_type": "markdown",
      "metadata": {
        "id": "XpxEbNrKkAZt"
      },
      "source": [
        "## Step 4.2. Preparing Empirical Data\n",
        "We now prepare the empirical training set. Our predictors will be the entire time series of 100 datapoints, however, in the manuscript we also ran parallel classifications with three extracted EEG features. "
      ]
    },
    {
      "cell_type": "code",
      "execution_count": null,
      "metadata": {
        "id": "MFjeY43DkAZt"
      },
      "outputs": [],
      "source": [
        "#Create participant by condition averages\n",
        "Emp_train = averageEEG(empiricalEEG)[:,1:]\n",
        "\n",
        "#Extract the outcomes\n",
        "Emp_Y_train = Emp_train[:,0]\n",
        "\n",
        "#Scale the predictors\n",
        "Emp_X_train = scale(Emp_train[:,2:], axis=1)\n",
        "\n",
        "#Shuffle the order of samples\n",
        "trainShuffle = rnd.sample(range(len(Emp_X_train)),len(Emp_X_train))\n",
        "Emp_Y_train = Emp_Y_train[trainShuffle]\n",
        "Emp_X_train = Emp_X_train[trainShuffle,:]"
      ]
    },
    {
      "cell_type": "markdown",
      "metadata": {
        "id": "BVVgZ-qHkAZt"
      },
      "source": [
        "## Step 4.3. Preparing Augmented Data\n",
        "We will prepare the augmented dataset by first processing the synthetic data as we did with the empirical data, then combining both the empirical and synthetic dataset to create an augmented dataset."
      ]
    },
    {
      "cell_type": "code",
      "execution_count": null,
      "metadata": {
        "id": "WKxsV0u-kAZt"
      },
      "outputs": [],
      "source": [
        "#This function averages trial-level synthetic data in bundles of 50 trials, constrained to each condition\n",
        "def averageSynthetic(synData):\n",
        "    samplesToAverage = 50\n",
        "\n",
        "    lossSynData = synData[synData[:,0]==0,:]\n",
        "    winSynData = synData[synData[:,0]==1,:]\n",
        "\n",
        "    lossTimeIndices = np.arange(0,lossSynData.shape[0],samplesToAverage)\n",
        "    winTimeIndices = np.arange(0,winSynData.shape[0],samplesToAverage)\n",
        "    \n",
        "    newLossSynData = [np.insert(np.mean(lossSynData[int(trialIndex):int(trialIndex)+samplesToAverage,1:],axis=0),0,0) for trialIndex in lossTimeIndices]\n",
        "    newWinSynData = [np.insert(np.mean(winSynData[int(trialIndex):int(trialIndex)+samplesToAverage,1:],axis=0),0,1) for trialIndex in winTimeIndices]\n",
        "\n",
        "    avgSynData = np.vstack((np.asarray(newLossSynData),np.asarray(newWinSynData)))\n",
        "    \n",
        "    return avgSynData\n",
        "\n",
        "#Create 'participant' by condition averages\n",
        "Syn_train = averageSynthetic(syntheticEEG)\n",
        "\n",
        "#Extract the outcomes\n",
        "Syn_Y_train = Syn_train[:,0]\n",
        "\n",
        "#Scale the predictors\n",
        "Syn_X_train = scale(Syn_train[:,1:], axis=1)\n",
        "\n",
        "#Combine empirical and synthetic datasets to create an augmented dataset\n",
        "Aug_Y_train = np.concatenate((Emp_Y_train,Syn_Y_train))\n",
        "Aug_X_train = np.concatenate((Emp_X_train,Syn_X_train))\n",
        "\n",
        "#Shuffle the order of samples\n",
        "trainShuffle = rnd.sample(range(len(Aug_X_train)),len(Aug_X_train))\n",
        "Aug_Y_train = Aug_Y_train[trainShuffle]\n",
        "Aug_X_train = Aug_X_train[trainShuffle,:]"
      ]
    },
    {
      "cell_type": "markdown",
      "metadata": {
        "id": "tZGHTbbrkAZu"
      },
      "source": [
        "# Step 5. Support Vector Machine"
      ]
    },
    {
      "cell_type": "markdown",
      "metadata": {
        "id": "6WapE0PYkAZu"
      },
      "source": [
        "## Step 5.1. Define Search Space"
      ]
    },
    {
      "cell_type": "code",
      "execution_count": null,
      "metadata": {
        "id": "KQzYLGa9kAZu"
      },
      "outputs": [],
      "source": [
        "#Determine SVM search space\n",
        "param_grid_SVM = [\n",
        "    {'C': [0.1, 1, 10, 100],\n",
        "    'gamma': [1, 0.1, 0.01, 0.001],\n",
        "    'kernel': ['rbf', 'poly', 'sigmoid']}]"
      ]
    },
    {
      "cell_type": "markdown",
      "metadata": {
        "id": "Jw7WVyfPkAZu"
      },
      "source": [
        "## Step 5.2. Classify Empirical Data"
      ]
    },
    {
      "cell_type": "code",
      "execution_count": null,
      "metadata": {
        "id": "D0TIIo26kAZv"
      },
      "outputs": [],
      "source": [
        "#Setup tracking variable\n",
        "predictionScores_SVM = []\n",
        "\n",
        "#Setup SVM grid search\n",
        "optimal_params = GridSearchCV(\n",
        "    SVC(), \n",
        "    param_grid_SVM, \n",
        "    refit = True, \n",
        "    verbose = False)\n",
        "\n",
        "#Conduct classification\n",
        "optimal_params.fit(Emp_X_train, Emp_Y_train)\n",
        "SVMOutput = optimal_params.predict(x_test)\n",
        "\n",
        "#Determine performance\n",
        "predictResults = classification_report(y_test, SVMOutput, output_dict=True)\n",
        "predictionScores_SVM.append(round(predictResults['accuracy']*100))"
      ]
    },
    {
      "cell_type": "markdown",
      "metadata": {
        "id": "hyz5VRdBkAZv"
      },
      "source": [
        "## Step 5.3. Classify Augmented Data"
      ]
    },
    {
      "cell_type": "code",
      "execution_count": null,
      "metadata": {
        "colab": {
          "base_uri": "https://localhost:8080/"
        },
        "id": "ZJoR3V67kAZv",
        "outputId": "6577df3a-6a9f-4590-8a80-2296b92949ea"
      },
      "outputs": [
        {
          "output_type": "stream",
          "name": "stdout",
          "text": [
            "Empirical Classification Accuracy: 52%\n",
            "Augmented Classification Accuracy: 66%\n"
          ]
        }
      ],
      "source": [
        "#Setup SVM grid search\n",
        "optimal_params = GridSearchCV(\n",
        "    SVC(), \n",
        "    param_grid_SVM, \n",
        "    refit = True, \n",
        "    verbose = False)\n",
        "\n",
        "#Conduct classification\n",
        "optimal_params.fit(Aug_X_train, Aug_Y_train)\n",
        "SVMOutput = optimal_params.predict(x_test)\n",
        "\n",
        "#Determine performance\n",
        "predictResults = classification_report(y_test, SVMOutput, output_dict=True)\n",
        "predictionScores_SVM.append(round(predictResults['accuracy']*100))\n",
        "\n",
        "#Report results\n",
        "print('Empirical Classification Accuracy: ' + str(predictionScores_SVM[0]) + '%')\n",
        "print('Augmented Classification Accuracy: ' + str(predictionScores_SVM[1]) + '%')"
      ]
    },
    {
      "cell_type": "markdown",
      "metadata": {
        "id": "PgeSJw4CkAZv"
      },
      "source": [
        "# Step 6. Neural Network"
      ]
    },
    {
      "cell_type": "markdown",
      "metadata": {
        "id": "6i5cdV-ckAZv"
      },
      "source": [
        "## Step 6.1. Define Search Space"
      ]
    },
    {
      "cell_type": "code",
      "execution_count": null,
      "metadata": {
        "id": "5PdPkSnfkAZw"
      },
      "outputs": [],
      "source": [
        "#Determine neural network search space\n",
        "param_grid_NN = [\n",
        "    {'hidden_layer_sizes': [(25,), (50,), (25, 25), (50,50), (50,25,50)],\n",
        "    'activation': ['logistic', 'tanh', 'relu'],\n",
        "    'solver': ['sgd', 'adam'],\n",
        "    'alpha': [0.0001, 0.05],\n",
        "    'learning_rate': ['constant', 'invscaling', 'adaptive'],\n",
        "    'max_iter' : [10000]}]"
      ]
    },
    {
      "cell_type": "markdown",
      "metadata": {
        "id": "cODIgDR1kAZw"
      },
      "source": [
        "## Step 6.2. Classify Empirical Data"
      ]
    },
    {
      "cell_type": "code",
      "execution_count": null,
      "metadata": {
        "colab": {
          "base_uri": "https://localhost:8080/"
        },
        "id": "uA8lC51CkAZw",
        "outputId": "c68d3838-de3a-462e-9b14-e8ba108a8014"
      },
      "outputs": [
        {
          "output_type": "stream",
          "name": "stdout",
          "text": [
            "This may take a few minutes...\n",
            "Fitting 5 folds for each of 180 candidates, totalling 900 fits\n"
          ]
        }
      ],
      "source": [
        "#Signify computational time\n",
        "print('This may take a few minutes...')\n",
        "\n",
        "#Setup tracking variable\n",
        "predictionScores_NN = []\n",
        "\n",
        "#Setup neural network grid search\n",
        "optimal_params = GridSearchCV(\n",
        "    MLPClassifier(), \n",
        "    param_grid_NN, \n",
        "    verbose = True,\n",
        "    n_jobs = -1)\n",
        "\n",
        "#Conduct classification\n",
        "optimal_params.fit(Emp_X_train, Emp_Y_train);\n",
        "neuralNetOutput = MLPClassifier(hidden_layer_sizes=optimal_params.best_params_['hidden_layer_sizes'], \n",
        "                            activation=optimal_params.best_params_['activation'],\n",
        "                            solver = optimal_params.best_params_['solver'], \n",
        "                            alpha = optimal_params.best_params_['alpha'], \n",
        "                            learning_rate = optimal_params.best_params_['learning_rate'], \n",
        "                            max_iter = optimal_params.best_params_['max_iter'])\n",
        "neuralNetOutput.fit(Emp_X_train, Emp_Y_train)\n",
        "y_true, y_pred = y_test , neuralNetOutput.predict(x_test)\n",
        "\n",
        "#Determine performance\n",
        "predictResults = classification_report(y_true, y_pred, output_dict=True)\n",
        "predictScore = round(predictResults['accuracy']*100)\n",
        "predictionScores_NN.append(predictScore)"
      ]
    },
    {
      "cell_type": "markdown",
      "metadata": {
        "id": "AEkqLerPkAZw"
      },
      "source": [
        "## Step 6.3. Classify Augmented Data"
      ]
    },
    {
      "cell_type": "code",
      "execution_count": null,
      "metadata": {
        "id": "XAelrf1AkAZw",
        "colab": {
          "base_uri": "https://localhost:8080/"
        },
        "outputId": "05f32040-e742-4c18-f5fe-117f919cbfff"
      },
      "outputs": [
        {
          "output_type": "stream",
          "name": "stdout",
          "text": [
            "This may take twice as long as the empirical neural network classification...\n",
            "Fitting 5 folds for each of 180 candidates, totalling 900 fits\n",
            "Empirical Classification Accuracy: 70%\n",
            "Augmented Classification Accuracy: 69%\n"
          ]
        }
      ],
      "source": [
        "#Signify computational time\n",
        "print('This may take twice as long as the empirical neural network classification...')\n",
        "\n",
        "#Setup neural network grid search\n",
        "optimal_params = GridSearchCV(\n",
        "    MLPClassifier(), \n",
        "    param_grid_NN, \n",
        "    verbose = True,\n",
        "    n_jobs = -1)\n",
        "\n",
        "#Conduct classification\n",
        "optimal_params.fit(Aug_X_train, Aug_Y_train);\n",
        "neuralNetOutput = MLPClassifier(hidden_layer_sizes=optimal_params.best_params_['hidden_layer_sizes'], \n",
        "                            activation=optimal_params.best_params_['activation'],\n",
        "                            solver = optimal_params.best_params_['solver'], \n",
        "                            alpha = optimal_params.best_params_['alpha'], \n",
        "                            learning_rate = optimal_params.best_params_['learning_rate'], \n",
        "                            max_iter = optimal_params.best_params_['max_iter'])\n",
        "neuralNetOutput.fit(Aug_X_train, Aug_Y_train)\n",
        "y_true, y_pred = y_test , neuralNetOutput.predict(x_test)\n",
        "\n",
        "#Determine performance\n",
        "predictResults = classification_report(y_true, y_pred, output_dict=True)\n",
        "predictScore = round(predictResults['accuracy']*100)\n",
        "predictionScores_NN.append(predictScore)\n",
        "\n",
        "#Report results\n",
        "print('Empirical Classification Accuracy: ' + str(predictionScores_NN[0]) + '%')\n",
        "print('Augmented Classification Accuracy: ' + str(predictionScores_NN[1]) + '%')"
      ]
    },
    {
      "cell_type": "markdown",
      "metadata": {
        "id": "YW1Kac7zkAZx"
      },
      "source": [
        "# Step 7. Final Report"
      ]
    },
    {
      "cell_type": "markdown",
      "metadata": {
        "id": "HKEO-OSZkAZx"
      },
      "source": [
        "## Step 7.1. Present Classification Performance\n",
        "We present the performance accuracies in text."
      ]
    },
    {
      "cell_type": "code",
      "execution_count": null,
      "metadata": {
        "id": "PTz8C9PYkAZx",
        "colab": {
          "base_uri": "https://localhost:8080/"
        },
        "outputId": "513cef4b-c64c-4cc0-a7d5-6234282461bf"
      },
      "outputs": [
        {
          "output_type": "stream",
          "name": "stdout",
          "text": [
            "\u001b[1mSVM Classification Results:\u001b[0m\n",
            "Empirical Classification Accuracy: 52%\n",
            "Augmented Classification Accuracy: 66%\n",
            "\n",
            "\u001b[1mNeural Network Classification Results:\u001b[0m\n",
            "Empirical Classification Accuracy: 60%\n",
            "Augmented Classification Accuracy: 68%\n",
            "\n",
            "\u001b[3mNote: Due to randomization in this process, these accuracies will vary.\u001b[0m\n"
          ]
        }
      ],
      "source": [
        "#Report results\n",
        "print(printFormat.bold + 'SVM Classification Results:' + printFormat.end)\n",
        "print('Empirical Classification Accuracy: ' + str(predictionScores_SVM[0]) + '%')\n",
        "print('Augmented Classification Accuracy: ' + str(predictionScores_SVM[1]) + '%')\n",
        "\n",
        "#Report results\n",
        "print('\\n' + printFormat.bold + 'Neural Network Classification Results:' + printFormat.end)\n",
        "print('Empirical Classification Accuracy: ' + str(predictionScores_NN[0]) + '%')\n",
        "print('Augmented Classification Accuracy: ' + str(predictionScores_NN[1]) + '%')\n",
        "print('\\n' + printFormat.italic + 'Note: Due to randomization in this process, these accuracies will vary.'+ printFormat.end)\n"
      ]
    },
    {
      "cell_type": "markdown",
      "metadata": {
        "id": "--zWc4u8kAZx"
      },
      "source": [
        "## Step 7.2. Plot Classification Performance\n",
        "We present the performance accuracies in a plot."
      ]
    },
    {
      "cell_type": "code",
      "execution_count": null,
      "metadata": {
        "id": "mgVdDQookAZx",
        "colab": {
          "base_uri": "https://localhost:8080/",
          "height": 435
        },
        "outputId": "3440044d-8dce-4336-d0db-f55c62003c09"
      },
      "outputs": [
        {
          "output_type": "display_data",
          "data": {
            "text/plain": [
              "<Figure size 640x480 with 1 Axes>"
            ],
            "image/png": "[encoded data removed]"
          },
          "metadata": {}
        }
      ],
      "source": [
        "ax = plt.subplot(111) \n",
        "plt.bar([.9,1.9],[predictionScores_SVM[0],predictionScores_NN[0]], width=.2)\n",
        "plt.bar([1.1,2.1],[predictionScores_SVM[1],predictionScores_NN[1]], width=.2)\n",
        "plt.ylim([0,round((np.max([predictionScores_SVM,predictionScores_NN])+20)/10)*10])\n",
        "predictionScores = predictionScores_SVM+predictionScores_NN\n",
        "for xi, x in enumerate([.86,1.06,1.86,2.06]):\n",
        "    plt.text(x,predictionScores[xi]+1,str(predictionScores[xi])+'%')\n",
        "plt.xticks([1,2], labels = ['SVM', 'Neural Network'])\n",
        "plt.legend(['Empirical','Augmented'], loc='upper right', frameon=False)\n",
        "ax.spines[['right', 'top']].set_visible(False)"
      ]
    }
  ],
  "metadata": {
    "colab": {
      "provenance": []
    },
    "gpuClass": "standard",
    "kernelspec": {
      "display_name": "gansEEGEnvironment",
      "language": "python",
      "name": "python3"
    },
    "language_info": {
      "codemirror_mode": {
        "name": "ipython",
        "version": 3
      },
      "file_extension": ".py",
      "mimetype": "text/x-python",
      "name": "python",
      "nbconvert_exporter": "python",
      "pygments_lexer": "ipython3",
      "version": "3.10.10"
    },
    "accelerator": "GPU"
  },
  "nbformat": 4,
  "nbformat_minor": 0
}