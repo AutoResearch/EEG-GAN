{
 "cells": [
  {
   "attachments": {},
   "cell_type": "markdown",
   "metadata": {},
   "source": [
    "# Augmenting EEG with Generative Adversarial Networks\n",
    "$Williams^{*1}$, $Weinhardt^{*2}$, $Wirzberger^{2}$, & $Musslick^{1}$ (*submitted, 2023*)<br>\n",
    "**Co-First Authors*<br>\n",
    "$^{1}$ *Brainstorm, Carney Institute for Brain Science, Brown University*<br>\n",
    "$^{2}$ *University of Stuttgart* <br>\n",
    "\n",
    "*Although this tutorial is built in the context of the above-mentioned manuscript, the package is built to generally work with any time-series data - including non-EEG data.*\n",
    "\n",
    "---\n",
    "---\n",
    "\n",
    "We here use Generative Adversarial Networks (GANs) to create trial-level synthetic EEG samples. We can then use these samples as extra data to train whichever classifier we want to use (e.g.,  Support Vector Machine, Neural Network).\n",
    "\n",
    "GANs are machine learning frameworks that consist of two adversarial neural network agents, namely the generator and the discriminator. The generator is trained to create novel samples that are indiscernible from real samples. In the current context, the generator produces realistic continuous EEG activity, conditioned on a set of experimental variables, which contain underlying neural features representative of the outcomes being classified. For example, depression manifests as increased alpha oscillatory activity in the EEG signal, and thus, an ideal generator would produce continuous EEG that includes these alpha signatures. In contrast to the generator, the discriminator determines whether a given sample is real or synthetically produced by the generator. The core insight of GANs is that the generator can effectively learn from the discriminator. Specifically, the generator will consecutively produce more realistic synthetic samples with the goal of “fooling” the discriminator into believing them as real. Once it has achieved realistic samples that the discriminator cannot discern, it can be used to generate synthetic data—or in this context, synthetic EEG data.\n",
    "\n",
    "The dataset provided is a subset of data from Williams et al., 2021 (*Psychophysics*). In this study, participants completed a two-armed bandit gambling task where they needed to discern which of two coloured squares were more often rewarding through trial-and-error. Each trial presented two coloured squares that the participants were to choose from, and provided performance feedback as “WIN” or “LOSE”, yielding two conditions of interest, cwin, close. For each pair of squares, one had a win rate of 60% while the other had a win rate of 10%. Participants saw each pair of colours twenty times consecutively. There were a total of five pairs of squares (with colours randomly determined), resulting in one hundred trials per participant. This paradigm elicits well-known frontal neural differences when contrasting the win and lose outcomes, namely in the reward positivity, delta oscillations, and theta oscillations (see Williams et al., 2021; Psychophysics).\n",
    "\n",
    "In this tutorial, we will classify the WIN and LOSE conditions using both Support Vector Machine and Neural Network classifiers. We will:\n",
    "1. Train a GAN on trial-level EEG data\n",
    "2. Generate synthetic EEG data \n",
    "3. Create an augmented EEG dataset\n",
    "4. Determine classification performance using both the empirical and augmented datasets\n",
    "    - Empirical Dataset: We train the classifer on the empirical data that was used to train the GANs\n",
    "    - Augmented Dataset: We train the classifer on the empirical data with the appended synthetic samples \n",
    "\n",
    "---\n",
    "---\n",
    "## Table of Contents\n",
    "    Step 0. Installing and Loading Modules\n",
    "        Step 0.1. Setting Up a Jupyter Kernel\n",
    "        Step 0.2. Loading Modules\n",
    "    Step 1. EEG Data\n",
    "        Step 1.1. Load Data\n",
    "        Step 1.2. Copy Data\n",
    "        Step 1.3. View Data\n",
    "    Step 2. GAN\n",
    "        Step 2.1. Exploring the Main GAN Package Functions\n",
    "            Step 2.1.1. GAN Training Help\n",
    "            Step 2.1.2. Generate Samples Help\n",
    "        Step 2.2. Training the GAN\n",
    "        Step 2.3. Generating Synthetic Data\n",
    "    Step 3. Synthetic Data\n",
    "        Step 3.1. Load Data\n",
    "        Step 3.2. Process Data\n",
    "        Step 3.3. View ERP Data\n",
    "    Step 4. Classification Setup\n",
    "        Step 4.1. Preparing Validation Data\n",
    "        Step 4.2. Preparing Empirical Data\n",
    "        Step 4.3. Preparing Augmented Data\n",
    "    Step 5. Support Vector Machine\n",
    "        Step 5.1. Define Search Space\n",
    "        Step 5.2. Classify Empirical Data\n",
    "        Step 5.3. Classify Augmented Data\n",
    "    Step 6. Neural Network\n",
    "        Step 6.1. Define Search Space\n",
    "        Step 6.2. Classify Empirical Data\n",
    "        Step 6.3. Classify Augmented Data\n",
    "    Step 7. Final Report\n",
    "        Step 7.1. Present Classification Performance\n",
    "        Step 7.2. Plot Classification Performance\n",
    "\n",
    "*Note: you can also view an interactive table of contents in your sidebar*"
   ]
  },
  {
   "attachments": {},
   "cell_type": "markdown",
   "metadata": {},
   "source": [
    "# Step 0. Installing and Loading Modules"
   ]
  },
  {
   "attachments": {},
   "cell_type": "markdown",
   "metadata": {},
   "source": [
    "## Step 0.1. Setting Up a Jupyter Kernel"
   ]
  },
  {
   "attachments": {},
   "cell_type": "markdown",
   "metadata": {},
   "source": [
    "First basic things you will need are:\n",
    "1. Python (https://www.python.org/downloads/)\n",
    "2. Pip (https://pip.pypa.io/en/stable/installation/)\n",
    "3. Git (https://git-scm.com/book/en/v2/Getting-Started-Installing-Git)\n",
    "4. Python Virtual Environment (https://virtualenv.pypa.io/en/latest/installation.html)\n",
    "\n",
    "Before we can use this notebook, we must:\n",
    "\n",
    "1. Download the GAN package\n",
    "2. Create a virtual environment\n",
    "3. Create a Jupyter Notebook kernel\n",
    "\n",
    "Unfortunately, these cannot be done within a Jupyter Notebook itself, so we will use our terminal to do it:\n",
    "\n",
    "1. Open your terminal <br>\n",
    "    ```Named Terminal on Macs and Command Line in Windows/Linux```\n",
    "2. Navigate to the directory containing this file, for example: <br>\n",
    "    ```cd GitHub/gansEEGTutorial```\n",
    "3. Clone the GAN package repository:<br>\n",
    "    ```git clone https://github.com/AutoResearch/GAN-in-Neuro.git```\n",
    "4. Create a virtual environment:<br>\n",
    "    ```python -m venv gansEEGEnvironment```\n",
    "5. Activate the environment<br>\n",
    "    For Windows: ```gansEEGEnvironment\\Scripts\\activate``` <br>\n",
    "    For Mac/Linux: ```source gansEEGEnvironment/bin/activate```\n",
    "6. Install dependencies<br>\n",
    "    ```pip install -r GAN-in-Neuro/requirements.txt``` <br>\n",
    "    ```pip install jupyter```\n",
    "7. Create Jupyter Notebook kernel<br>\n",
    "    ```ipython kernel install --name \"gansEEGEnvironment\"```\n",
    "8. Launch Jupyter Notebook:<br>\n",
    "    ```jupyter notebook```\n",
    "\n",
    "If done correctly, this will open a Jupyter Notebook in your browser with the proper directory open. Click the ```gansEEGTurorial.ipynb``` file.\n",
    "\n",
    "Once it is open, go to ```Kernel > Change kernel > gansEEGEnvironment```\n",
    "\n",
    "You are now ready for the tutorial!"
   ]
  },
  {
   "attachments": {},
   "cell_type": "markdown",
   "metadata": {},
   "source": [
    "## Step 0.2. Loading Modules\n",
    "This tutorial relies on a variety of modules (all installed above using the requirements.txt file), so let's load them now."
   ]
  },
  {
   "cell_type": "code",
   "execution_count": 4,
   "metadata": {},
   "outputs": [],
   "source": [
    "#Load modules\n",
    "import numpy as np\n",
    "import matplotlib.pyplot as plt\n",
    "import shutil\n",
    "import os\n",
    "import random as rnd\n",
    "from scipy import signal\n",
    "from sklearn.preprocessing import scale\n",
    "from sklearn.model_selection import train_test_split, GridSearchCV\n",
    "from sklearn.svm import SVC\n",
    "from sklearn.neural_network import MLPClassifier\n",
    "from sklearn.metrics import classification_report\n",
    "\n",
    "#Create a print formatting class\n",
    "class printFormat:\n",
    "    bold = '\\033[1m'\n",
    "    italic = '\\033[3m'\n",
    "    end = '\\033[0m'"
   ]
  },
  {
   "cell_type": "markdown",
   "metadata": {},
   "source": [
    "# Step 1. EEG Data"
   ]
  },
  {
   "attachments": {},
   "cell_type": "markdown",
   "metadata": {},
   "source": [
    "## Step 1.1. Load Data\n",
    "We will load the provided EEG training data and print some information about what this contains."
   ]
  },
  {
   "cell_type": "code",
   "execution_count": 5,
   "metadata": {},
   "outputs": [
    {
     "name": "stdout",
     "output_type": "stream",
     "text": [
      "\u001b[1mDisplay Header and first few rows/columns of data\n",
      " \u001b[0m\u001b[0m\n",
      "('ParticipantID', 'Condition', 'Trial', 'Time1', 'Time2', 'Time3')\n",
      "[[11.        0.        1.        2.287618 -4.448947 -0.980726]\n",
      " [11.        0.        2.       11.672745  0.669828  1.43829 ]\n",
      " [11.        0.        3.       10.510648 11.908067  8.671387]]\n",
      "\n",
      "------------------------------------------------------------------------------------------\n",
      "\u001b[1m\n",
      "Note the first three columns:\u001b[0m\n",
      "    ParticipantID - Indicates different participants\n",
      "    Condition - Indicates the condition (WIN = 0, LOSE = 1) to be classified\n",
      "    Trial - Indicates the trial number for that participant and condition\n",
      "\n",
      "The remaining columns are titled Time1 to Time100 - indicating 100 datapoints per sample.\n",
      "The samples span from -200 to 1000ms around the onset of a feedback stimulus.\n",
      "These are downsampled from the original data, which contained 600 datapoints per sample.\n",
      "\n",
      "------------------------------------------------------------------------------------------\n",
      "\n",
      "\u001b[1mOther characteristics of our data include:\u001b[0m\n",
      "-We have 15 participants in our training set\n",
      "-Participants have an average of 42 (SD: 7) trials per outcome (win, lose)\n"
     ]
    }
   ],
   "source": [
    "#Load the data\n",
    "empiricalHeaders = np.genfromtxt('Data/gansEEGTrainingData.csv', delimiter=',', names=True).dtype.names\n",
    "empiricalEEG = np.genfromtxt('Data/gansEEGTrainingData.csv', delimiter=',', skip_header=1)\n",
    "\n",
    "#Print the head of the data\n",
    "print(printFormat.bold + 'Display Header and first few rows/columns of data\\n \\033[0m' + printFormat.end)\n",
    "print(empiricalHeaders[:6])\n",
    "print(empiricalEEG[0:3,:6])\n",
    "\n",
    "#Print some information about the columns\n",
    "print('\\n------------------------------------------------------------------------------------------')\n",
    "print(printFormat.bold + '\\nNote the first three columns:' + printFormat.end +'\\n    ParticipantID - Indicates different participants\\n    Condition - Indicates the condition (WIN = 0, LOSE = 1) to be classified\\n    Trial - Indicates the trial number for that participant and condition')\n",
    "print('\\nThe remaining columns are titled Time1 to Time100 - indicating 100 datapoints per sample.\\nThe samples span from -200 to 1000ms around the onset of a feedback stimulus.\\nThese are downsampled from the original data, which contained 600 datapoints per sample.')\n",
    "\n",
    "#Print some meta-data\n",
    "print('\\n------------------------------------------------------------------------------------------')\n",
    "print('\\n' + printFormat.bold + 'Other characteristics of our data include:' + printFormat.end)\n",
    "print('-We have ' + str(len(set(empiricalEEG[:,0]))) + ' participants in our training set')\n",
    "print('-Participants have an average of ' + str(round(np.mean([np.max(empiricalEEG[empiricalEEG[:,0]==pID,2]) for pID in set(empiricalEEG[:,0])]))) + ' (SD: ' + str(round(np.std([np.max(empiricalEEG[empiricalEEG[:,0]==pID,2]) for pID in set(empiricalEEG[:,0])]))) + ')' + ' trials per outcome (win, lose)')"
   ]
  },
  {
   "attachments": {},
   "cell_type": "markdown",
   "metadata": {},
   "source": [
    "## Step 1.2. Copy Data\n",
    "\n",
    "We will move a copy of the data into the GAN package directory. We will also move a trained GAN model that we will use later in this tutorial. This is not necessary, but will help us avoid using long path names to get to our data and models later."
   ]
  },
  {
   "cell_type": "code",
   "execution_count": 6,
   "metadata": {},
   "outputs": [],
   "source": [
    "#Check if you are already in the GAN directory, and back out if so\n",
    "if 'GAN-in-Neuro' in os.getcwd():\n",
    "    os.chdir('../')\n",
    "\n",
    "#Move files into the correct GAN directories\n",
    "shutil.copy('Data/gansEEGTrainingData.csv','GAN-in-Neuro/data/gansEEGTrainingData.csv')\n",
    "shutil.copy('TrainedGAN/gansEEGModel.pt','GAN-in-Neuro/trained_models/gansEEGModel.pt')\n",
    "\n",
    "#Enter the GAN directory\n",
    "os.chdir('GAN-in-Neuro')"
   ]
  },
  {
   "attachments": {},
   "cell_type": "markdown",
   "metadata": {},
   "source": [
    "## Step 1.3. View Data \n",
    "Let's view the grand-averaged ERPs of our 15 participants."
   ]
  },
  {
   "cell_type": "code",
   "execution_count": 7,
   "metadata": {},
   "outputs": [
    {
     "data": {
      "text/plain": [
       "<matplotlib.legend.Legend at 0x12782869690>"
      ]
     },
     "execution_count": 7,
     "metadata": {},
     "output_type": "execute_result"
    },
    {
     "data": {
      "image/png": "[encoded data removed]",
      "text/plain": [
       "<Figure size 600x400 with 1 Axes>"
      ]
     },
     "metadata": {},
     "output_type": "display_data"
    }
   ],
   "source": [
    "#Determine which rows are each condition\n",
    "lossIndex = np.where(empiricalEEG[:,1]==1)\n",
    "winIndex = np.where(empiricalEEG[:,1]==0)\n",
    "\n",
    "#Grand average the waveforms for each condition\n",
    "lossWaveform = np.mean(empiricalEEG[lossIndex,3:],axis=1)[0]\n",
    "winWaveform = np.mean(empiricalEEG[winIndex,3:],axis=1)[0]\n",
    "\n",
    "#Determine x axis of time\n",
    "time = np.linspace(-200,1000,100)\n",
    "\n",
    "#Setup figure\n",
    "f, (ax1) = plt.subplots(1, 1, figsize=(6, 4))\n",
    "\n",
    "#Plot each waveform\n",
    "ax1.plot(time, lossWaveform, label = 'Loss')\n",
    "ax1.plot(time, winWaveform, label = 'Win')\n",
    "\n",
    "#Format plot\n",
    "ax1.set_ylabel('Voltage ($\\mu$V)')\n",
    "ax1.set_xlabel('Time (ms)')\n",
    "ax1.set_title('Empirical', loc='left')\n",
    "ax1.spines[['right', 'top']].set_visible(False)\n",
    "ax1.legend(frameon=False)"
   ]
  },
  {
   "attachments": {},
   "cell_type": "markdown",
   "metadata": {},
   "source": [
    "# Step 2. GAN"
   ]
  },
  {
   "attachments": {},
   "cell_type": "markdown",
   "metadata": {},
   "source": [
    "## Step 2.1. Exploring the Main GAN Package Functions\n",
    "\n",
    "We will be using two scripts from the GANs package:<br>\n",
    "&emsp;&emsp;```gan_training_main.py``` - This trains a GAN <br>\n",
    "&emsp;&emsp;```generate_samples_main.py``` - This generates synthetic samples using the trained GAN\n",
    "\n",
    "These files are both meant to be run using terminal. In Jupyter, we can run a command in terminal by first adding an ! to the script, for example:<br>\n",
    "&emsp;&emsp;```!python ./GAN-in-Neuro/gan_training_main.py```<br>\n",
    "&emsp;&emsp;```!python ./GAN-in-Neuro/generate_samples_main.py```\n",
    "    \n",
    "Arguments for these files are stated after the script filename, for example:<br>\n",
    "&emsp;&emsp;```!python ./GAN-in-Neuro/gan_training_main.py n_epochs=100```\n",
    "\n",
    "For the files in this package, you can use the help argument to see a list of possible arguments with a brief description:<br>\n",
    "&emsp;&emsp;```!python ./GAN-in-Neuro/gan_training_main.py help```\n"
   ]
  },
  {
   "attachments": {},
   "cell_type": "markdown",
   "metadata": {},
   "source": [
    "### Step 2.1.1. GAN Training Help"
   ]
  },
  {
   "cell_type": "code",
   "execution_count": 185,
   "metadata": {},
   "outputs": [
    {
     "name": "stdout",
     "output_type": "stream",
     "text": [
      "\n",
      "-----------------------------------------\n",
      "Command line arguments:\n",
      "-----------------------------------------\n",
      "\n",
      "\n",
      "\n",
      "----------------------------------------------------------------------------------------------------------------------------------------------------\n",
      "INPUT HELP - These are the inputs that can be given from the command line\n",
      "----------------------------------------------------------------------------------------------------------------------------------------------------\n",
      "\n",
      "\n",
      "Input               | Type            | Description                                                                     | Default value                \n",
      "----------------------------------------------------------------------------------------------------------------------------------------------------\n",
      "ddp                 | <class 'bool'>  | Activate distributed training                                                   | False                        \n",
      "load_checkpoint     | <class 'bool'>  | Load a pre-trained GAN                                                          | False                        \n",
      "train_gan           | <class 'bool'>  | Train a GAN                                                                     | True                         \n",
      "filter_generator    | <class 'bool'>  | Use low-pass filter on the generator output                                     | False                        \n",
      "windows_slices      | <class 'bool'>  | Use sliding windows instead of whole sequences                                  | False                        \n",
      "n_epochs            | <class 'int'>   | Number of epochs                                                                | 100                          \n",
      "batch_size          | <class 'int'>   | Batch size                                                                      | 128                          \n",
      "patch_size          | <class 'int'>   | Patch size                                                                      | 20                           \n",
      "sequence_length     | <class 'int'>   | Used length of the datasets sequences; If None, then the whole sequence is used | -1                           \n",
      "seq_len_generated   | <class 'int'>   | Length of the generated sequence                                                | -1                           \n",
      "sample_interval     | <class 'int'>   | Interval of epochs between saving samples                                       | 10                           \n",
      "learning_rate       | <class 'float'> | Learning rate of the GAN                                                        | 0.0001                       \n",
      "path_dataset        | <class 'str'>   | Path to the dataset                                                             | data\\ganAverageERP_len100.csv\n",
      "path_checkpoint     | <class 'str'>   | Path to the checkpoint                                                          | trained_models\\checkpoint.pt \n",
      "ddp_backend         | <class 'str'>   | Backend for the DDP-Training; \"nccl\" for GPU; \"gloo\" for CPU;                   | nccl                         \n",
      "conditions          | <class 'str'>   | ** Conditions to be used                                                        | Condition                    \n",
      "kw_timestep_dataset | <class 'str'>   | Keyword for the time step of the dataset                                        | Time                         \n",
      "----------------------------------------------------------------------------------------------------------------------------------------------------\n",
      "\n",
      "\n",
      "----------------------------------------------------------------------------------------------------------------------------------------------------\n",
      "QUICK HELP - These are the special features:\n",
      "----------------------------------------------------------------------------------------------------------------------------------------------------\n",
      "General information: \n",
      "\n",
      "Boolean arguments are given as a single keyword:\n",
      "\tSet boolean keyword \"test_keyword\" to True\t->\tpython file.py test_keyword\n",
      "Command line arguments are given as a keyword followed by an equal sign and the value:\n",
      "\tSet command line argument \"test_keyword\" to \"test_value\"\t->\tpython file.py test_keyword=test_value\n",
      "\tWhitespaces are not allowed between a keyword and its value.\n",
      "Some keywords can be given list-like: \n",
      "\ttest_keyword=test_value1,test_value2\n",
      "\tThese keywords are marked with ** in the table.\n",
      "----------------------------------------------------------------------------------------------------------------------------------------------------\n",
      "1.\tThe training works with two levels of checkpoint files:\n",
      "\t1.1 During the training:\n",
      "\t\tCheckpoints are saved every \"sample_interval\" batches as either \"checkpoint_01.pt\"\n",
      "\t\tor \"checkpoint_02.pt\". These checkpoints are considered as low-level checkpoints since they are only \n",
      "\t\tnecessary in the case of training interruption. Hereby, they can be used to continue the training from \n",
      "\t\tthe most recent sample. To continue training, the most recent checkpoint file must be renamed to \n",
      "\t\t\"checkpoint.pt\".\n",
      "\t\tFurther, these low-level checkpoints carry the generated samples for inference purposes.\n",
      "\t1.2 After finishing the training:\n",
      "\t\tA high-level checkpoint is saved as \"checkpoint.pt\", which is used to \n",
      "\t\tcontinue training in another session. This high-level checkpoint does not carry the generated samples.\n",
      "\t\tTo continue training from this checkpoint file no further adjustments are necessary. \n",
      "\t\tSimply give the keyword \"load_checkpoint\" when calling the training process.\n",
      "\t\tThe low-level checkpoints are deleted after creating the high-level checkpoint.\n",
      "\t1.3 For inference purposes:\n",
      "\t\tAnother dictionary is saved as \"gan_{n_epochs}ep_{timestamp}.pt\".\n",
      "\t\tThis file contains everything the checkpoint file contains, plus the generated samples.\n",
      "2.\tUse \"ddp=True\" to activate distributed training. \n",
      "\tOnly if multiple GPUs are available for one node.\n",
      "\tAll available GPUs are used for training.\n",
      "\tEach GPUs trains on the whole dataset. \n",
      "\tHence, the number of training epochs is multiplied by the number of GPUs\n",
      "3.\tIf you want to load a pre-trained GAN, you can use the following command:\n",
      "\tpython gan_training_main.py load_checkpoint; The default file is \"trained_models/checkpoint.pt\"\n",
      "\tIf you want to use an other file, you can use the following command:\n",
      "\t\tpython gan_training_main.py load_checkpoint path_checkpoint=\"path/to/file.pt\"\n",
      "4.\tIf you want to use a different dataset, you can use the following command:\n",
      "\tpython gan_training_main.py path_dataset=\"path/to/file.csv\"\n",
      "\tThe default dataset is \"data/ganAverageERP.csv\"\n",
      "5.\tThe keyword \"sequence_length\" has two different meanings based on the keyword \"windows_slices\":\n",
      "\t5.1 \"windows_slices\" is set to \"False\": \n",
      "\t\tThe keyword \"sequence_length\" defines the length of the taken sequence from the dataset.\n",
      "\t\tHereby, only the first {sequence_length} data points are taken from each sample.\n",
      "\t\tThe default value is -1, which means that the whole sequence is taken.\n",
      "\t5.2 \"windows_slices\" is set to \"True\": \n",
      "\t\tThe keyword \"sequence_length\" defines the length of a single window taken from the dataset.\n",
      "\t\tHereby, a sample from the dataset is sliced into windows of length \"sequence_length\".\n",
      "\t\tEach window is then used as a single sample.\n",
      "\t\tThe samples are taken by moving the window with a specific stride (=5) over the samples.\n",
      "5.\tHave in mind to change the keyword patch_size if you use another value for the keyword sequence_length.\n",
      "\tThe condition sequence_length % patch_size == 0 must be fulfilled.\n",
      "\tOtherwise the sequence will be padded with zeros until the condition is fulfilled.\n",
      "6.\tThe keyword \"seq_len_generated\" describes the length of the generated sequences.\n",
      "\t6.1 The condition \"seq_len_generated\" <= \"sequence_length\" must be fulfilled.\n",
      "\t6.2 The generator works in the following manner:\n",
      "\t\tThe generator gets a sequence of length (\"sequence_length\"-\"seq_len_generated\") as a condition (input).\n",
      "\t\tThe generator generates a sequence of length \"seq_len_generated\" as output which is used as the \n",
      "\t\tsubsequent part of the input sequence.\n",
      "\t6.3 If (\"seq_len_generated\" == \"sequence_length\"):\n",
      "\t\tThe generator does not get any input sequence but generates an arbitrary sequence of length \"sequence_length\".\n",
      "\t\tArbitrary means hereby that the generator does not get any conditions on previous data points.\n",
      "\n",
      "\n",
      "----------------------------------------------------------------------------------------------------------------------------------------------------\n",
      "----------------------------------------------------------------------------------------------------------------------------------------------------\n",
      "\n",
      "\n"
     ]
    },
    {
     "name": "stderr",
     "output_type": "stream",
     "text": [
      "C:\\Users\\cwill\\GitHub\\gansEEGTutorial\\gansEEGEnvironment\\lib\\site-packages\\torchaudio\\backend\\utils.py:62: UserWarning: No audio backend is available.\n",
      "  warnings.warn(\"No audio backend is available.\")\n"
     ]
    }
   ],
   "source": [
    "!python ./gan_training_main.py help"
   ]
  },
  {
   "attachments": {},
   "cell_type": "markdown",
   "metadata": {},
   "source": [
    "### Step 2.1.2. Generate Samples Help"
   ]
  },
  {
   "cell_type": "code",
   "execution_count": 186,
   "metadata": {},
   "outputs": [
    {
     "name": "stdout",
     "output_type": "stream",
     "text": [
      "\n",
      "-----------------------------------------\n",
      "Command line arguments:\n",
      "-----------------------------------------\n",
      "\n",
      "\n",
      "\n",
      "----------------------------------------------------------------------------------------------------------------------------------------------------\n",
      "INPUT HELP - These are the inputs that can be given from the command line\n",
      "----------------------------------------------------------------------------------------------------------------------------------------------------\n",
      "\n",
      "\n",
      "Input                 | Type           | Description                                                                                  | Default value               \n",
      "----------------------------------------------------------------------------------------------------------------------------------------------------\n",
      "file                  | <class 'str'>  | File which contains the trained model and its configuration                                  | trained_models\\checkpoint.pt\n",
      "path_samples          | <class 'str'>  | File where to store the generated samples; If None, then checkpoint name is used             | None                        \n",
      "kw_timestep_dataset   | <class 'str'>  | Keyword for the time step of the dataset; to determine the sequence length                   | Time                        \n",
      "sequence_length_total | <class 'int'>  | total sequence length of generated sample; if -1, then sequence length from training dataset | -1                          \n",
      "num_samples_total     | <class 'int'>  | total number of generated samples                                                            | 1000                        \n",
      "num_samples_parallel  | <class 'int'>  | number of samples generated in parallel                                                      | 50                          \n",
      "conditions            | <class 'int'>  | ** Specific condition; -1 -> random condition (only for binary condition)                    | -1                          \n",
      "average               | <class 'int'>  | Average over n latent variables to get an averaged one                                       | 1                           \n",
      "all_cond_per_z        | <class 'bool'> | PRELIMINARY; ONLY FOR SINGLE BINARY CONDITION; Generate all conditions per latent variable   | False                       \n",
      "----------------------------------------------------------------------------------------------------------------------------------------------------\n",
      "\n",
      "\n",
      "----------------------------------------------------------------------------------------------------------------------------------------------------\n",
      "QUICK HELP - These are the special features:\n",
      "----------------------------------------------------------------------------------------------------------------------------------------------------\n",
      "General information: \n",
      "\n",
      "Boolean arguments are given as a single keyword:\n",
      "\tSet boolean keyword \"test_keyword\" to True\t->\tpython file.py test_keyword\n",
      "Command line arguments are given as a keyword followed by an equal sign and the value:\n",
      "\tSet command line argument \"test_keyword\" to \"test_value\"\t->\tpython file.py test_keyword=test_value\n",
      "\tWhitespaces are not allowed between a keyword and its value.\n",
      "Some keywords can be given list-like: \n",
      "\ttest_keyword=test_value1,test_value2\n",
      "\tThese keywords are marked with ** in the table.\n",
      "----------------------------------------------------------------------------------------------------------------------------------------------------\n",
      "1.\tThe keyword \"file\" carries some special features:\n",
      "\t1.1 It is possible to give only a file instead of a whole file path\n",
      "\t\tIn this case, the default path is \"trained_models\"\n",
      "\t1.2 The specified file must be a checkpoint file which contains the generator state dict and its \n",
      "\t    corresponding configuration dict\n",
      "2.\tThe keyword \"sequence_length_total\" defines the length of the generated sequences\n",
      "\tThe default value is -1, which means that the max sequence length is chosen\n",
      "\tThe max sequence length is determined by the used training data set given by the configuration dict\n",
      "3.\tThe keyword \"condition\" defines the condition for the generator:\n",
      "\t3.1 Hereby, the value can be either a scalar or a comma-seperated list of scalars e.g., \"condition=1,3.234,0\"\n",
      "\t    Current implementation: The single elements must be numeric\n",
      "\t    The length of the condition must be equal to the \"n_condition\" parameter in the configuration dict\n",
      "\t3.2 The value -1 means that the condition is chosen randomly\n",
      "\t    This works currently only for binary conditions. \n",
      "4.\tThe keyword \"num_samples_parallel\" defines the number of generated samples in one batch\n",
      "\tThis parameter should be set according to the processing power of the used machine\n",
      "\tEspecially, the generation of large number of sequences can be boosted by increasing this parameter\n"
     ]
    },
    {
     "name": "stderr",
     "output_type": "stream",
     "text": [
      "C:\\Users\\cwill\\GitHub\\gansEEGTutorial\\gansEEGEnvironment\\lib\\site-packages\\torchaudio\\backend\\utils.py:62: UserWarning: No audio backend is available.\n",
      "  warnings.warn(\"No audio backend is available.\")\n"
     ]
    }
   ],
   "source": [
    "!python ./generate_samples_main.py help"
   ]
  },
  {
   "attachments": {},
   "cell_type": "markdown",
   "metadata": {},
   "source": [
    "## Step 2.2. Training the GAN"
   ]
  },
  {
   "attachments": {},
   "cell_type": "markdown",
   "metadata": {},
   "source": [
    "Although we used the help argument above, in jupyter notebook, the entire list of arguments gets cut off, so here they are in their entirety:\n",
    "\n",
    "<div>\n",
    "<img src=\"Images/gan_training_main_help.png\" width=\"1000\"/>\n",
    "</div>\n",
    "\n",
    "We will be using the following arguments:\n",
    "- <b>path_dataset=data/gansEEGTrainingData.csv</b> : Determines the training dataset\n",
    "- <b>filter_generator</b> : This adds a 0.1 to 30Hz bandpass filter on the data within the GAN training (which matches the training dataset processing)<br>\n",
    "&emsp;&emsp;-*This filter may not be necessary or appropriate for other datasets*\n",
    "- <b>n_epochs=5</b> : Determines number of times to train the GAN<br>\n",
    "&emsp;&emsp;-*Here we only use 5 epochs to demonstrate the process but this will result in a very under-trained GAN. In the manuscript, we trained for 8000 epochs.*\n",
    "\n",
    "*Note: If the **ddp** argument is provided, GANs will be trained using GPUs rather than CPUs*"
   ]
  },
  {
   "cell_type": "code",
   "execution_count": 187,
   "metadata": {},
   "outputs": [
    {
     "name": "stdout",
     "output_type": "stream",
     "text": [
      "\n",
      "-----------------------------------------\n",
      "Command line arguments:\n",
      "-----------------------------------------\n",
      "\n",
      "Dataset: data/gansEEGTrainingData.csv\n",
      "Using a low-pass filter on the GAN output\n",
      "Number of epochs: 5\n",
      "\n",
      "-----------------------------------------\n",
      "System output:\n",
      "-----------------------------------------\n",
      "\n",
      "Generator and discriminator initialized.\n",
      "\n",
      "-----------------------------------------\n",
      "Training GAN...\n",
      "-----------------------------------------\n",
      "\n",
      "[Epoch 1/5] [D loss: 9.401308] [G loss: 0.267125]\n",
      "[Epoch 2/5] [D loss: 9.116120] [G loss: 0.224245]\n",
      "[Epoch 3/5] [D loss: 8.608364] [G loss: 0.171331]\n",
      "[Epoch 4/5] [D loss: 7.995234] [G loss: 0.069858]\n",
      "[Epoch 5/5] [D loss: 7.326000] [G loss: 0.076365]\n",
      "Managing checkpoints...\n",
      "GAN training finished.\n",
      "Generated samples saved to file.\n",
      "Model states saved to file.\n"
     ]
    },
    {
     "name": "stderr",
     "output_type": "stream",
     "text": [
      "C:\\Users\\cwill\\GitHub\\gansEEGTutorial\\gansEEGEnvironment\\lib\\site-packages\\torchaudio\\backend\\utils.py:62: UserWarning: No audio backend is available.\n",
      "  warnings.warn(\"No audio backend is available.\")\n"
     ]
    }
   ],
   "source": [
    "#Train the GAN on CPUs\n",
    "!python gan_training_main.py path_dataset=data/gansEEGTrainingData.csv filter_generator n_epochs=5\n",
    "\n",
    "#Train the GAN on GPUs\n",
    "#!python gan_training_main.py ddp path_dataset=data/gansEEGTrainingData.csv filter_generator n_epochs=5"
   ]
  },
  {
   "attachments": {},
   "cell_type": "markdown",
   "metadata": {},
   "source": [
    "## Step 2.3. Generating Synthetic Data"
   ]
  },
  {
   "attachments": {},
   "cell_type": "markdown",
   "metadata": {},
   "source": [
    "We will be using the following arguments:\n",
    "- <b> file=gansEEGModel.pt </b> : Determines which model to use<br>\n",
    "&emsp;&emsp;*The default trained GAN name is checkpoint.pt but we will instead use a pre-trained GAN named gansEEGModel.pt*\n",
    "- <b> path_samples=gansEEGSyntheticData.csv </b> : Where and what to save the generated samples as\n",
    "- <b> num_samples_total=10000 </b> : Number of samples to generate (half per condition)"
   ]
  },
  {
   "cell_type": "code",
   "execution_count": 188,
   "metadata": {},
   "outputs": [
    {
     "name": "stdout",
     "output_type": "stream",
     "text": [
      "\n",
      "-----------------------------------------\n",
      "Command line arguments:\n",
      "-----------------------------------------\n",
      "\n",
      "File: gansEEGModel.pt\n",
      "Saving generated samples to file: gansEEGSyntheticData.csv\n",
      "Total number of generated samples: 10000\n",
      "\n",
      "-----------------------------------------\n",
      "System output:\n",
      "-----------------------------------------\n",
      "\n",
      "Initializing generator...\n",
      "Generating samples...\n",
      "Generating sequence 1 of 200...\n",
      "Generating sequence 2 of 200...\n",
      "Generating sequence 3 of 200...\n",
      "Generating sequence 4 of 200...\n",
      "Generating sequence 5 of 200...\n",
      "Generating sequence 6 of 200...\n",
      "Generating sequence 7 of 200...\n",
      "Generating sequence 8 of 200...\n",
      "Generating sequence 9 of 200...\n",
      "Generating sequence 10 of 200...\n",
      "Generating sequence 11 of 200...\n",
      "Generating sequence 12 of 200...\n",
      "Generating sequence 13 of 200...\n",
      "Generating sequence 14 of 200...\n",
      "Generating sequence 15 of 200...\n",
      "Generating sequence 16 of 200...\n",
      "Generating sequence 17 of 200...\n",
      "Generating sequence 18 of 200...\n",
      "Generating sequence 19 of 200...\n",
      "Generating sequence 20 of 200...\n",
      "Generating sequence 21 of 200...\n",
      "Generating sequence 22 of 200...\n",
      "Generating sequence 23 of 200...\n",
      "Generating sequence 24 of 200...\n",
      "Generating sequence 25 of 200...\n",
      "Generating sequence 26 of 200...\n",
      "Generating sequence 27 of 200...\n",
      "Generating sequence 28 of 200...\n",
      "Generating sequence 29 of 200...\n",
      "Generating sequence 30 of 200...\n",
      "Generating sequence 31 of 200...\n",
      "Generating sequence 32 of 200...\n",
      "Generating sequence 33 of 200...\n",
      "Generating sequence 34 of 200...\n",
      "Generating sequence 35 of 200...\n",
      "Generating sequence 36 of 200...\n",
      "Generating sequence 37 of 200...\n",
      "Generating sequence 38 of 200...\n",
      "Generating sequence 39 of 200...\n",
      "Generating sequence 40 of 200...\n",
      "Generating sequence 41 of 200...\n",
      "Generating sequence 42 of 200...\n",
      "Generating sequence 43 of 200...\n",
      "Generating sequence 44 of 200...\n",
      "Generating sequence 45 of 200...\n",
      "Generating sequence 46 of 200...\n",
      "Generating sequence 47 of 200...\n",
      "Generating sequence 48 of 200...\n",
      "Generating sequence 49 of 200...\n",
      "Generating sequence 50 of 200...\n",
      "Generating sequence 51 of 200...\n",
      "Generating sequence 52 of 200...\n",
      "Generating sequence 53 of 200...\n",
      "Generating sequence 54 of 200...\n",
      "Generating sequence 55 of 200...\n",
      "Generating sequence 56 of 200...\n",
      "Generating sequence 57 of 200...\n",
      "Generating sequence 58 of 200...\n",
      "Generating sequence 59 of 200...\n",
      "Generating sequence 60 of 200...\n",
      "Generating sequence 61 of 200...\n",
      "Generating sequence 62 of 200...\n",
      "Generating sequence 63 of 200...\n",
      "Generating sequence 64 of 200...\n",
      "Generating sequence 65 of 200...\n",
      "Generating sequence 66 of 200...\n",
      "Generating sequence 67 of 200...\n",
      "Generating sequence 68 of 200...\n",
      "Generating sequence 69 of 200...\n",
      "Generating sequence 70 of 200...\n",
      "Generating sequence 71 of 200...\n",
      "Generating sequence 72 of 200...\n",
      "Generating sequence 73 of 200...\n",
      "Generating sequence 74 of 200...\n",
      "Generating sequence 75 of 200...\n",
      "Generating sequence 76 of 200...\n",
      "Generating sequence 77 of 200...\n",
      "Generating sequence 78 of 200...\n",
      "Generating sequence 79 of 200...\n",
      "Generating sequence 80 of 200...\n",
      "Generating sequence 81 of 200...\n",
      "Generating sequence 82 of 200...\n",
      "Generating sequence 83 of 200...\n",
      "Generating sequence 84 of 200...\n",
      "Generating sequence 85 of 200...\n",
      "Generating sequence 86 of 200...\n",
      "Generating sequence 87 of 200...\n",
      "Generating sequence 88 of 200...\n",
      "Generating sequence 89 of 200...\n",
      "Generating sequence 90 of 200...\n",
      "Generating sequence 91 of 200...\n",
      "Generating sequence 92 of 200...\n",
      "Generating sequence 93 of 200...\n",
      "Generating sequence 94 of 200...\n",
      "Generating sequence 95 of 200...\n",
      "Generating sequence 96 of 200...\n",
      "Generating sequence 97 of 200...\n",
      "Generating sequence 98 of 200...\n",
      "Generating sequence 99 of 200...\n",
      "Generating sequence 100 of 200...\n",
      "Generating sequence 101 of 200...\n",
      "Generating sequence 102 of 200...\n",
      "Generating sequence 103 of 200...\n",
      "Generating sequence 104 of 200...\n",
      "Generating sequence 105 of 200...\n",
      "Generating sequence 106 of 200...\n",
      "Generating sequence 107 of 200...\n",
      "Generating sequence 108 of 200...\n",
      "Generating sequence 109 of 200...\n",
      "Generating sequence 110 of 200...\n",
      "Generating sequence 111 of 200...\n",
      "Generating sequence 112 of 200...\n",
      "Generating sequence 113 of 200...\n",
      "Generating sequence 114 of 200...\n",
      "Generating sequence 115 of 200...\n",
      "Generating sequence 116 of 200...\n",
      "Generating sequence 117 of 200...\n",
      "Generating sequence 118 of 200...\n",
      "Generating sequence 119 of 200...\n",
      "Generating sequence 120 of 200...\n",
      "Generating sequence 121 of 200...\n",
      "Generating sequence 122 of 200...\n",
      "Generating sequence 123 of 200...\n",
      "Generating sequence 124 of 200...\n",
      "Generating sequence 125 of 200...\n",
      "Generating sequence 126 of 200...\n",
      "Generating sequence 127 of 200...\n",
      "Generating sequence 128 of 200...\n",
      "Generating sequence 129 of 200...\n",
      "Generating sequence 130 of 200...\n",
      "Generating sequence 131 of 200...\n",
      "Generating sequence 132 of 200...\n",
      "Generating sequence 133 of 200...\n",
      "Generating sequence 134 of 200...\n",
      "Generating sequence 135 of 200...\n",
      "Generating sequence 136 of 200...\n",
      "Generating sequence 137 of 200...\n",
      "Generating sequence 138 of 200...\n",
      "Generating sequence 139 of 200...\n",
      "Generating sequence 140 of 200...\n",
      "Generating sequence 141 of 200...\n",
      "Generating sequence 142 of 200...\n",
      "Generating sequence 143 of 200...\n",
      "Generating sequence 144 of 200...\n",
      "Generating sequence 145 of 200...\n",
      "Generating sequence 146 of 200...\n",
      "Generating sequence 147 of 200...\n",
      "Generating sequence 148 of 200...\n",
      "Generating sequence 149 of 200...\n",
      "Generating sequence 150 of 200...\n",
      "Generating sequence 151 of 200...\n",
      "Generating sequence 152 of 200...\n",
      "Generating sequence 153 of 200...\n",
      "Generating sequence 154 of 200...\n",
      "Generating sequence 155 of 200...\n",
      "Generating sequence 156 of 200...\n",
      "Generating sequence 157 of 200...\n",
      "Generating sequence 158 of 200...\n",
      "Generating sequence 159 of 200...\n",
      "Generating sequence 160 of 200...\n",
      "Generating sequence 161 of 200...\n",
      "Generating sequence 162 of 200...\n",
      "Generating sequence 163 of 200...\n",
      "Generating sequence 164 of 200...\n",
      "Generating sequence 165 of 200...\n",
      "Generating sequence 166 of 200...\n",
      "Generating sequence 167 of 200...\n",
      "Generating sequence 168 of 200...\n",
      "Generating sequence 169 of 200...\n",
      "Generating sequence 170 of 200...\n",
      "Generating sequence 171 of 200...\n",
      "Generating sequence 172 of 200...\n",
      "Generating sequence 173 of 200...\n",
      "Generating sequence 174 of 200...\n",
      "Generating sequence 175 of 200...\n",
      "Generating sequence 176 of 200...\n",
      "Generating sequence 177 of 200...\n",
      "Generating sequence 178 of 200...\n",
      "Generating sequence 179 of 200...\n",
      "Generating sequence 180 of 200...\n",
      "Generating sequence 181 of 200...\n",
      "Generating sequence 182 of 200...\n",
      "Generating sequence 183 of 200...\n",
      "Generating sequence 184 of 200...\n",
      "Generating sequence 185 of 200...\n",
      "Generating sequence 186 of 200...\n",
      "Generating sequence 187 of 200...\n",
      "Generating sequence 188 of 200...\n",
      "Generating sequence 189 of 200...\n",
      "Generating sequence 190 of 200...\n",
      "Generating sequence 191 of 200...\n",
      "Generating sequence 192 of 200...\n",
      "Generating sequence 193 of 200...\n",
      "Generating sequence 194 of 200...\n",
      "Generating sequence 195 of 200...\n",
      "Generating sequence 196 of 200...\n",
      "Generating sequence 197 of 200...\n",
      "Generating sequence 198 of 200...\n",
      "Generating sequence 199 of 200...\n",
      "Generating sequence 200 of 200...\n",
      "Saving samples...\n",
      "Generated samples were saved to generated_samples\\gansEEGSyntheticData.csv\n"
     ]
    },
    {
     "name": "stderr",
     "output_type": "stream",
     "text": [
      "C:\\Users\\cwill\\GitHub\\gansEEGTutorial\\gansEEGEnvironment\\lib\\site-packages\\torchaudio\\backend\\utils.py:62: UserWarning: No audio backend is available.\n",
      "  warnings.warn(\"No audio backend is available.\")\n"
     ]
    }
   ],
   "source": [
    "#The GAN training results in a file named checkpoint.pt. If you want to continue with this file, use the following line of code:\n",
    "#!python generate_samples_main.py file=checkpoint.pt path_samples=gansEEGSyntheticData.csv num_samples_total=10000\n",
    "\n",
    "#However, that file was severally under-trained, so we will instead use a pre-trained GAN that trained for 8000 epochs:\n",
    "!python generate_samples_main.py file=gansEEGModel.pt path_samples=gansEEGSyntheticData.csv num_samples_total=10000"
   ]
  },
  {
   "attachments": {},
   "cell_type": "markdown",
   "metadata": {},
   "source": [
    "# Step 3. Synthetic Data"
   ]
  },
  {
   "attachments": {},
   "cell_type": "markdown",
   "metadata": {},
   "source": [
    "## Step 3.1. Load Data\n",
    "We will now load the synthetic data we just produced, and confirm the number of samples per condition"
   ]
  },
  {
   "cell_type": "code",
   "execution_count": 8,
   "metadata": {},
   "outputs": [
    {
     "name": "stdout",
     "output_type": "stream",
     "text": [
      "\u001b[1mDisplay first few rows/columns of data\u001b[0m\n",
      "['Condition', 'Time1', 'Time2', 'Time3', 'Time4', 'Time5']\n",
      "[[0.         0.51990777 0.55606842 0.54614633 0.53713953 0.56847197]\n",
      " [1.         0.51990777 0.55606842 0.58527315 0.60824186 0.62576598]\n",
      " [0.         0.48009226 0.48353735 0.48666242 0.48947501 0.49198559]]\n",
      "\n",
      "\u001b[1mDisplay trial counts for each condition\u001b[0m\n",
      "\u001b[1mWin: \u001b[0m5000\n",
      "\u001b[1mLose: \u001b[0m5000\n"
     ]
    }
   ],
   "source": [
    "#Load Data \n",
    "syntheticEEG = np.genfromtxt('./generated_samples/gansEEGSyntheticData.csv', delimiter=',', skip_header=1)\n",
    "\n",
    "#Print head of the data\n",
    "print(printFormat.bold + 'Display first few rows/columns of data' + printFormat.end)\n",
    "print(['Condition','Time1','Time2','Time3','Time4','Time5'])\n",
    "print(syntheticEEG[0:3,0:6])\n",
    "\n",
    "#Print condition sample counts\n",
    "print('\\n' + printFormat.bold + 'Display trial counts for each condition' + printFormat.end)\n",
    "print(printFormat.bold +'Win: ' + printFormat.end + str(np.sum(syntheticEEG[:,0]==0)))\n",
    "print(printFormat.bold +'Lose: ' + printFormat.end + str(np.sum(syntheticEEG[:,0]==1)))\n"
   ]
  },
  {
   "attachments": {},
   "cell_type": "markdown",
   "metadata": {},
   "source": [
    "## Step 3.2. Process Data\n",
    "Although the empirical data had been filtered using a Butterworth pass-band filter (0.1 to 30Hz, order 4), there were no constraints on the frequencies that the GAN could produce. Thus, we applied the same filter to the synthetic samples. We also baseline-corrected the data using the -200 to 0ms time window."
   ]
  },
  {
   "cell_type": "code",
   "execution_count": 9,
   "metadata": {},
   "outputs": [],
   "source": [
    "#Define filter function\n",
    "def filterSyntheticEEG(EEG):\n",
    "    #Bandpass\n",
    "    w = [x / 83.34 for x in [0.1, 30]]\n",
    "    b, a = signal.butter(4, w, 'band')\n",
    "\n",
    "    #Process\n",
    "    filteredEEG = [signal.filtfilt(b, a, EEG[trial,:]) for trial in range(len(EEG))]\n",
    "         \n",
    "    return filteredEEG\n",
    "\n",
    "#Define the baseline correction function\n",
    "def baselineCorrect(EEG):\n",
    "    #Baseline\n",
    "    baselineRange = [0, 20]\n",
    "\n",
    "    #process\n",
    "    baselinedEEG = [(EEG[trial] - (np.mean(EEG[trial][baselineRange[0]:baselineRange[1]]))) for trial in range(len(EEG))]\n",
    "\n",
    "    return baselinedEEG\n",
    "\n",
    "#Extract outcomes\n",
    "syntheticOutcomes = syntheticEEG[:,0]\n",
    "\n",
    "#Apply processing\n",
    "tempSynData = filterSyntheticEEG(syntheticEEG[:,1:]) \n",
    "tempSynData = baselineCorrect(tempSynData)\n",
    "\n",
    "#Recreate dataframe\n",
    "syntheticEEG = np.zeros((len(tempSynData),101))\n",
    "syntheticEEG[:,0] = syntheticOutcomes\n",
    "syntheticEEG[:,1:] = np.array(tempSynData)"
   ]
  },
  {
   "attachments": {},
   "cell_type": "markdown",
   "metadata": {},
   "source": [
    "## Step 3.3. View ERP Data\n",
    "We will now show the empirical and synthetic ERPs side-by-side for comparison."
   ]
  },
  {
   "cell_type": "code",
   "execution_count": 10,
   "metadata": {},
   "outputs": [
    {
     "data": {
      "text/plain": [
       "<matplotlib.legend.Legend at 0x12782577640>"
      ]
     },
     "execution_count": 10,
     "metadata": {},
     "output_type": "execute_result"
    },
    {
     "data": {
      "image/png": "[encoded data removed]",
      "text/plain": [
       "<Figure size 1200x400 with 2 Axes>"
      ]
     },
     "metadata": {},
     "output_type": "display_data"
    }
   ],
   "source": [
    "#Grand average the synthetic waveforms for each condition\n",
    "synLossWaveform = np.mean(syntheticEEG[np.r_[syntheticEEG[:,0]==1],1:],axis=0)\n",
    "synWinWaveform = np.mean(syntheticEEG[np.r_[syntheticEEG[:,0]==0],1:],axis=0)\n",
    "\n",
    "#Set up figure\n",
    "f, (ax1, ax2) = plt.subplots(1, 2, figsize=(12, 4))\n",
    "\n",
    "#Plot each empirical waveform\n",
    "ax1.plot(time, winWaveform, label = 'Win')\n",
    "ax1.plot(time, lossWaveform, label = 'Lose')\n",
    "\n",
    "#Format plot\n",
    "ax1.set_ylabel('Voltage ($\\mu$V)')\n",
    "ax1.set_xlabel('Time (ms)')\n",
    "ax1.set_title('Empirical', loc='left')\n",
    "ax1.spines[['right', 'top']].set_visible(False)\n",
    "ax1.tick_params(left = False, labelleft = False)\n",
    "ax1.legend(frameon=False)\n",
    "\n",
    "#Plot each synthetic waveform\n",
    "ax2.plot(time, synWinWaveform, label = 'Win')\n",
    "ax2.plot(time, synLossWaveform, label = 'Lose')\n",
    "\n",
    "#Format plot\n",
    "ax2.set_ylabel('Voltage ($\\mu$V)')\n",
    "ax2.set_xlabel('Time (ms)')\n",
    "ax2.set_title('Synthetic', loc='left')\n",
    "ax2.spines[['right', 'top']].set_visible(False)\n",
    "ax2.tick_params(left = False, labelleft = False)\n",
    "ax2.legend(frameon=False)"
   ]
  },
  {
   "attachments": {},
   "cell_type": "markdown",
   "metadata": {},
   "source": [
    "# Step 4. Classification"
   ]
  },
  {
   "attachments": {},
   "cell_type": "markdown",
   "metadata": {},
   "source": [
    "## Step 4.1. Preparing Validation Data\n",
    "We also provide a validation dataset with samples not contained in the empirical dataset. Here, we prepare them for classification."
   ]
  },
  {
   "cell_type": "code",
   "execution_count": 11,
   "metadata": {},
   "outputs": [],
   "source": [
    "#Set seed for a bit of reproducibility\n",
    "rnd.seed(1618)\n",
    "\n",
    "#This function averages trial-level empirical data for each participant and condition\n",
    "def averageEEG(EEG):\n",
    "    participants = np.unique(EEG[:,0])\n",
    "    averagedEEG = []\n",
    "    for participant in participants:\n",
    "        for condition in range(2):\n",
    "            averagedEEG.append(np.mean(EEG[(EEG[:,0]==participant)&(EEG[:,1]==condition),:], axis=0))\n",
    "    return np.array(averagedEEG)\n",
    "\n",
    "#Load test data to predict (data that neither the GAN nor the classifier will ever see in training)\n",
    "EEGDataTest = np.genfromtxt('../Data/gansEEGValidationData.csv', delimiter=',', skip_header=1)\n",
    "EEGDataTest = averageEEG(EEGDataTest)[:,1:]\n",
    "\n",
    "#Extract test outcome and predictor data\n",
    "y_test = EEGDataTest[:,0]\n",
    "x_test = EEGDataTest[:,2:]\n",
    "x_test = scale(x_test,axis = 1)"
   ]
  },
  {
   "attachments": {},
   "cell_type": "markdown",
   "metadata": {},
   "source": [
    "## Step 4.2. Preparing Empirical Data\n",
    "We now prepare the empirical training set. Our predictors will be the entire time series of 100 datapoints, however, in the manuscript we also ran parallel classifications with three extracted EEG features. "
   ]
  },
  {
   "cell_type": "code",
   "execution_count": 12,
   "metadata": {},
   "outputs": [],
   "source": [
    "#Create participant by condition averages\n",
    "Emp_train = averageEEG(empiricalEEG)[:,1:]\n",
    "\n",
    "#Extract the outcomes\n",
    "Emp_Y_train = Emp_train[:,0]\n",
    "\n",
    "#Scale the predictors\n",
    "Emp_X_train = scale(Emp_train[:,2:], axis=1)\n",
    "\n",
    "#Shuffle the order of samples\n",
    "trainShuffle = rnd.sample(range(len(Emp_X_train)),len(Emp_X_train))\n",
    "Emp_Y_train = Emp_Y_train[trainShuffle]\n",
    "Emp_X_train = Emp_X_train[trainShuffle,:]"
   ]
  },
  {
   "attachments": {},
   "cell_type": "markdown",
   "metadata": {},
   "source": [
    "## Step 4.3. Preparing Augmented Data\n",
    "We will prepare the augmented dataset by first processing the synthetic data as we did with the empirical data, then combining both the empirical and synthetic dataset to create an augmented dataset."
   ]
  },
  {
   "cell_type": "code",
   "execution_count": 13,
   "metadata": {},
   "outputs": [],
   "source": [
    "#This function averages trial-level synthetic data in bundles of 50 trials, constrained to each condition\n",
    "def averageSynthetic(synData):\n",
    "    samplesToAverage = 50\n",
    "\n",
    "    lossSynData = synData[synData[:,0]==0,:]\n",
    "    winSynData = synData[synData[:,0]==1,:]\n",
    "\n",
    "    lossTimeIndices = np.arange(0,lossSynData.shape[0],samplesToAverage)\n",
    "    winTimeIndices = np.arange(0,winSynData.shape[0],samplesToAverage)\n",
    "    \n",
    "    newLossSynData = [np.insert(np.mean(lossSynData[int(trialIndex):int(trialIndex)+samplesToAverage,1:],axis=0),0,0) for trialIndex in lossTimeIndices]\n",
    "    newWinSynData = [np.insert(np.mean(winSynData[int(trialIndex):int(trialIndex)+samplesToAverage,1:],axis=0),0,1) for trialIndex in winTimeIndices]\n",
    "\n",
    "    avgSynData = np.vstack((np.asarray(newLossSynData),np.asarray(newWinSynData)))\n",
    "    \n",
    "    return avgSynData\n",
    "\n",
    "#Create 'participant' by condition averages\n",
    "Syn_train = averageSynthetic(syntheticEEG)\n",
    "\n",
    "#Extract the outcomes\n",
    "Syn_Y_train = Syn_train[:,0]\n",
    "\n",
    "#Scale the predictors\n",
    "Syn_X_train = scale(Syn_train[:,1:], axis=1)\n",
    "\n",
    "#Combine empirical and synthetic datasets to create an augmented dataset\n",
    "Aug_Y_train = np.concatenate((Emp_Y_train,Syn_Y_train))\n",
    "Aug_X_train = np.concatenate((Emp_X_train,Syn_X_train))\n",
    "\n",
    "#Shuffle the order of samples\n",
    "trainShuffle = rnd.sample(range(len(Aug_X_train)),len(Aug_X_train))\n",
    "Aug_Y_train = Aug_Y_train[trainShuffle]\n",
    "Aug_X_train = Aug_X_train[trainShuffle,:]"
   ]
  },
  {
   "attachments": {},
   "cell_type": "markdown",
   "metadata": {},
   "source": [
    "# Step 5. Support Vector Machine"
   ]
  },
  {
   "attachments": {},
   "cell_type": "markdown",
   "metadata": {},
   "source": [
    "## Step 5.1. Define Search Space"
   ]
  },
  {
   "cell_type": "code",
   "execution_count": 14,
   "metadata": {},
   "outputs": [],
   "source": [
    "#Determine SVM search space\n",
    "param_grid_SVM = [\n",
    "    {'C': [0.1, 1, 10, 100],\n",
    "    'gamma': [1, 0.1, 0.01, 0.001],\n",
    "    'kernel': ['rbf', 'poly', 'sigmoid']}]"
   ]
  },
  {
   "attachments": {},
   "cell_type": "markdown",
   "metadata": {},
   "source": [
    "## Step 5.2. Classify Empirical Data"
   ]
  },
  {
   "cell_type": "code",
   "execution_count": 16,
   "metadata": {},
   "outputs": [],
   "source": [
    "#Setup tracking variable\n",
    "predictionScores_SVM = []\n",
    "\n",
    "#Setup SVM grid search\n",
    "optimal_params = GridSearchCV(\n",
    "    SVC(), \n",
    "    param_grid_SVM, \n",
    "    refit = True, \n",
    "    verbose = False)\n",
    "\n",
    "#Conduct classification\n",
    "optimal_params.fit(Emp_X_train, Emp_Y_train)\n",
    "SVMOutput = optimal_params.predict(x_test)\n",
    "\n",
    "#Determine performance\n",
    "predictResults = classification_report(y_test, SVMOutput, output_dict=True)\n",
    "predictionScores_SVM.append(round(predictResults['accuracy']*100))"
   ]
  },
  {
   "attachments": {},
   "cell_type": "markdown",
   "metadata": {},
   "source": [
    "## Step 5.3. Classify Augmented Data"
   ]
  },
  {
   "cell_type": "code",
   "execution_count": 17,
   "metadata": {},
   "outputs": [
    {
     "name": "stdout",
     "output_type": "stream",
     "text": [
      "Empirical Classification Accuracy: 61%\n",
      "Augmented Classification Accuracy: 70%\n"
     ]
    }
   ],
   "source": [
    "#Setup SVM grid search\n",
    "optimal_params = GridSearchCV(\n",
    "    SVC(), \n",
    "    param_grid_SVM, \n",
    "    refit = True, \n",
    "    verbose = False)\n",
    "\n",
    "#Conduct classification\n",
    "optimal_params.fit(Aug_X_train, Aug_Y_train)\n",
    "SVMOutput = optimal_params.predict(x_test)\n",
    "\n",
    "#Determine performance\n",
    "predictResults = classification_report(y_test, SVMOutput, output_dict=True)\n",
    "predictionScores_SVM.append(round(predictResults['accuracy']*100))\n",
    "\n",
    "#Report results\n",
    "print('Empirical Classification Accuracy: ' + str(predictionScores_SVM[0]) + '%')\n",
    "print('Augmented Classification Accuracy: ' + str(predictionScores_SVM[1]) + '%')"
   ]
  },
  {
   "attachments": {},
   "cell_type": "markdown",
   "metadata": {},
   "source": [
    "# Step 6. Neural Network"
   ]
  },
  {
   "attachments": {},
   "cell_type": "markdown",
   "metadata": {},
   "source": [
    "## Step 6.1. Define Search Space"
   ]
  },
  {
   "cell_type": "code",
   "execution_count": 205,
   "metadata": {},
   "outputs": [],
   "source": [
    "#Determine neural network search space\n",
    "param_grid_NN = [\n",
    "    {'hidden_layer_sizes': [(25,), (50,), (25, 25), (50,50), (50,25,50)],\n",
    "    'activation': ['logistic', 'tanh', 'relu'],\n",
    "    'solver': ['sgd', 'adam'],\n",
    "    'alpha': [0.0001, 0.05],\n",
    "    'learning_rate': ['constant', 'invscaling', 'adaptive'],\n",
    "    'max_iter' : [5000, 10000, 20000, 50000]}]"
   ]
  },
  {
   "attachments": {},
   "cell_type": "markdown",
   "metadata": {},
   "source": [
    "## Step 6.2. Classify Empirical Data"
   ]
  },
  {
   "cell_type": "code",
   "execution_count": 206,
   "metadata": {},
   "outputs": [
    {
     "name": "stdout",
     "output_type": "stream",
     "text": [
      "This may take a couple of minutes...\n",
      "Fitting 5 folds for each of 720 candidates, totalling 3600 fits\n"
     ]
    }
   ],
   "source": [
    "#Signify computational time\n",
    "print('This may take a couple of minutes...')\n",
    "\n",
    "#Setup tracking variable\n",
    "predictionScores_NN = []\n",
    "\n",
    "#Setup neural network grid search\n",
    "optimal_params = GridSearchCV(\n",
    "    MLPClassifier(), \n",
    "    param_grid_NN, \n",
    "    verbose = True,\n",
    "    n_jobs = -1)\n",
    "\n",
    "#Conduct classification\n",
    "optimal_params.fit(Emp_X_train, Emp_Y_train);\n",
    "neuralNetOutput = MLPClassifier(hidden_layer_sizes=optimal_params.best_params_['hidden_layer_sizes'], \n",
    "                            activation=optimal_params.best_params_['activation'],\n",
    "                            solver = optimal_params.best_params_['solver'], \n",
    "                            alpha = optimal_params.best_params_['alpha'], \n",
    "                            learning_rate = optimal_params.best_params_['learning_rate'], \n",
    "                            max_iter = optimal_params.best_params_['max_iter'])\n",
    "neuralNetOutput.fit(Emp_X_train, Emp_Y_train)\n",
    "y_true, y_pred = y_test , neuralNetOutput.predict(x_test)\n",
    "\n",
    "#Determine performance\n",
    "predictResults = classification_report(y_true, y_pred, output_dict=True)\n",
    "predictScore = round(predictResults['accuracy']*100)\n",
    "predictionScores_NN.append(predictScore)"
   ]
  },
  {
   "attachments": {},
   "cell_type": "markdown",
   "metadata": {},
   "source": [
    "## Step 6.3. Classify Augmented Data"
   ]
  },
  {
   "cell_type": "code",
   "execution_count": 207,
   "metadata": {},
   "outputs": [
    {
     "name": "stdout",
     "output_type": "stream",
     "text": [
      "This may take twice as long as the empirical neural network classification...\n",
      "Fitting 5 folds for each of 720 candidates, totalling 3600 fits\n",
      "Empirical Classification Accuracy: 57%\n",
      "Augmented Classification Accuracy: 70%\n"
     ]
    }
   ],
   "source": [
    "#Signify computational time\n",
    "print('This may take twice as long as the empirical neural network classification...')\n",
    "\n",
    "#Setup neural network grid search\n",
    "\n",
    "optimal_params = GridSearchCV(\n",
    "    MLPClassifier(), \n",
    "    param_grid_NN, \n",
    "    verbose = True,\n",
    "    n_jobs = -1)\n",
    "\n",
    "\n",
    "\n",
    "#Conduct classification\n",
    "optimal_params.fit(Aug_X_train, Aug_Y_train);\n",
    "neuralNetOutput = MLPClassifier(hidden_layer_sizes=optimal_params.best_params_['hidden_layer_sizes'], \n",
    "                            activation=optimal_params.best_params_['activation'],\n",
    "                            solver = optimal_params.best_params_['solver'], \n",
    "                            alpha = optimal_params.best_params_['alpha'], \n",
    "                            learning_rate = optimal_params.best_params_['learning_rate'], \n",
    "                            max_iter = optimal_params.best_params_['max_iter'])\n",
    "neuralNetOutput.fit(Aug_X_train, Aug_Y_train)\n",
    "y_true, y_pred = y_test , neuralNetOutput.predict(x_test)\n",
    "\n",
    "#Determine performance\n",
    "predictResults = classification_report(y_true, y_pred, output_dict=True)\n",
    "predictScore = round(predictResults['accuracy']*100)\n",
    "predictionScores_NN.append(predictScore)\n",
    "\n",
    "#Report results\n",
    "print('Empirical Classification Accuracy: ' + str(predictionScores_NN[0]) + '%')\n",
    "print('Augmented Classification Accuracy: ' + str(predictionScores_NN[1]) + '%')"
   ]
  },
  {
   "attachments": {},
   "cell_type": "markdown",
   "metadata": {},
   "source": [
    "# Step 7. Final Report"
   ]
  },
  {
   "attachments": {},
   "cell_type": "markdown",
   "metadata": {},
   "source": [
    "## Step 7.1. Present Classification Performance\n",
    "We present the performance accuracies in text."
   ]
  },
  {
   "cell_type": "code",
   "execution_count": 208,
   "metadata": {},
   "outputs": [
    {
     "name": "stdout",
     "output_type": "stream",
     "text": [
      "\u001b[1mSVM Classification Results:\u001b[0m\n",
      "Empirical Classification Accuracy: 61%\n",
      "Augmented Classification Accuracy: 72%\n",
      "\n",
      "\u001b[1mNeural Network Classification Results:\u001b[0m\n",
      "Empirical Classification Accuracy: 57%\n",
      "Augmented Classification Accuracy: 70%\n",
      "\n",
      "\u001b[3mNote: Due to randomization in this process, these accuracies will vary.\u001b[0m\n"
     ]
    }
   ],
   "source": [
    "#Report results\n",
    "print(printFormat.bold + 'SVM Classification Results:' + printFormat.end)\n",
    "print('Empirical Classification Accuracy: ' + str(predictionScores_SVM[0]) + '%')\n",
    "print('Augmented Classification Accuracy: ' + str(predictionScores_SVM[1]) + '%')\n",
    "\n",
    "#Report results\n",
    "print('\\n' + printFormat.bold + 'Neural Network Classification Results:' + printFormat.end)\n",
    "print('Empirical Classification Accuracy: ' + str(predictionScores_NN[0]) + '%')\n",
    "print('Augmented Classification Accuracy: ' + str(predictionScores_NN[1]) + '%')\n",
    "print('\\n' + printFormat.italic + 'Note: Due to randomization in this process, these accuracies will vary.'+ printFormat.end)\n"
   ]
  },
  {
   "attachments": {},
   "cell_type": "markdown",
   "metadata": {},
   "source": [
    "## Step 7.2. Plot Classification Performance\n",
    "We present the performance accuracies in a plot."
   ]
  },
  {
   "cell_type": "code",
   "execution_count": 209,
   "metadata": {},
   "outputs": [
    {
     "data": {
      "image/png": "[encoded data removed]",
      "text/plain": [
       "<Figure size 640x480 with 1 Axes>"
      ]
     },
     "metadata": {},
     "output_type": "display_data"
    }
   ],
   "source": [
    "ax = plt.subplot(111) \n",
    "plt.bar([.9,1.9],[predictionScores_SVM[0],predictionScores_NN[0]], width=.2)\n",
    "plt.bar([1.1,2.1],[predictionScores_SVM[1],predictionScores_NN[1]], width=.2)\n",
    "plt.ylim([0,round((np.max([predictionScores_SVM,predictionScores_NN])+20)/10)*10])\n",
    "predictionScores = predictionScores_SVM+predictionScores_NN\n",
    "for xi, x in enumerate([.86,1.06,1.86,2.06]):\n",
    "    plt.text(x,predictionScores[xi]+1,str(predictionScores[xi])+'%')\n",
    "plt.xticks([1,2], labels = ['SVM', 'Neural Network'])\n",
    "plt.legend(['Empirical','Augmented'], loc='upper right', frameon=False)\n",
    "ax.spines[['right', 'top']].set_visible(False)"
   ]
  }
 ],
 "metadata": {
  "kernelspec": {
   "display_name": "gansEEGEnvironment",
   "language": "python",
   "name": "python3"
  },
  "language_info": {
   "codemirror_mode": {
    "name": "ipython",
    "version": 3
   },
   "file_extension": ".py",
   "mimetype": "text/x-python",
   "name": "python",
   "nbconvert_exporter": "python",
   "pygments_lexer": "ipython3",
   "version": "3.10.10"
  }
 },
 "nbformat": 4,
 "nbformat_minor": 2
}
