{
 "cells": [
  {
   "cell_type": "markdown",
   "metadata": {},
   "source": [
    "<a target=\"_blank\" href=\"https://colab.research.google.com/github/AutoResearch/EEG-GAN/blob/pip_release_eeggan_2_0_0/docs/Research/EEG-GAN%20v2%20interactive.ipynb\">\n",
    "  <img src=\"https://colab.research.google.com/assets/colab-badge.svg\" alt=\"Open In Colab\"/>\n",
    "</a>\n",
    "<br>\n",
    "\n",
    "# Online Interactive Figure\n",
    "\n",
    "EEG-GAN uses Generative Adversarial Networks (GANs) to create trial-level synthetic EEG samples. We can then use these samples as extra data to train whichever classifier we want to use (e.g., Support Vector Machine, Neural Network).\n",
    "\n",
    "## Data Augmentation\n",
    "Although we have shown GANs to be successful in augmenting classification performance, we have not thoroughly tested it's impact compared to any benchmarks... until now. The following plot will allow you to visualize the performance of our classifications across many analyses:\n",
    "\n",
    "<br>\n",
    "\n",
    "<u>**Non-Augmented**</u>: These are the data untouched\n",
    "*   **Empirical**: This is non-augmented data. A baseline to test augmentation \n",
    "*   **Oversampled**: This technique simply duplicates samples to increase training\n",
    "\n",
    "<br>\n",
    "\n",
    "<u>**Generative Augmentation**</u>: These are generative models that are used to create 'synthetic participants', which increases the training dataset size.\n",
    "*   **GAN-Augmented**: This is augmentation using GANs via the EEG-GAN package\n",
    "*   **VAE-Augmented**: This is augmentation using variational autoencoders\n",
    "\n",
    "<br>\n",
    "\n",
    "<u>**Transformation Augmentation**</u>: These are standard transformations of the data that are traditionally used to augment datasets for classification.\n",
    "*   **Gaussian-Augmented**: Adding guassian noise to samples\n",
    "*   **Flip-Augmented**: Flip the polarity/sign of the data\n",
    "*   **Reverse-Augmented**: Reverses the timeseries \n",
    "*   **Smooth-Augmented**: Removes portions of the data\n",
    "\n",
    "## Using This Interactive Plot\n",
    "\n",
    "The plot will default to a bar chart including all aforementioned analyses/augmentations across 5 classifiers (neural network, support vector machine, logistic regression, random forest, k-nearest neighbors) and 4-7 sample sizes (5, 10, 15, 20, 30, 60, 100) for the corresponding dataset. \n",
    "\n",
    "You will see a dropdown to select the Dataset, a series of checkboxes to include or remove a data augmentation technique, two dropdown for more fine-tuned comparisons, and a checkbox to format the plots. For the comparisons, if one is selected then the plots on the right will be their absolute performance. If two are selected, then the plots will show the difference between the two. \n",
    "\n",
    "Try it out!"
   ]
  },
  {
   "cell_type": "code",
   "execution_count": null,
   "metadata": {},
   "outputs": [],
   "source": [
    "###############################################\n",
    "## IMPORT MODULES                            ##\n",
    "###############################################\n",
    "\n",
    "#Download and unzip dataset and functions if in Google Colab\n",
    "try: #If in Google Colab\n",
    "    import google.colab #Test if in Google Colab\n",
    "    import urllib.request #Package for downloading files\n",
    "    import os #Package for interacting with the operating system\n",
    "    import shutil\n",
    "    if not os.path.isdir('Classification Results'): #If the dataset isn't downloaded\n",
    "        print('Downloading dataset and functions...')\n",
    "        urllib.request.urlretrieve(\"https://github.com/AutoResearch/EEG-GAN/raw/manuscript-results/classification/classification_results.zip\", \"classification_results.zip\") #Download the dataset\n",
    "        urllib.request.urlretrieve(\"https://raw.githubusercontent.com/AutoResearch/EEG-GAN/manuscript-results/classification/main_plot_functions.py\", \"main_plot_functions.py\") #Download the functions\n",
    "        !unzip classification_results #Unzip the dataset\n",
    "\n",
    "        #Move task classification folders out of parent and delete parent directory\n",
    "        root = '.'\n",
    "        for filename in os.listdir(os.path.join(root, 'classification_results')):\n",
    "            shutil.move(os.path.join(root, 'classification_results', filename), os.path.join('.', filename))\n",
    "        os.rmdir(os.path.join(root, 'classification_results'))\n",
    "except: \n",
    "    pass\n",
    "\n",
    "#Import the functions\n",
    "from main_plot_functions import InteractivePlot\n",
    "\n",
    "#Create the interactive plot\n",
    "interactive_plot = InteractivePlot()"
   ]
  }
 ],
 "metadata": {
  "kernelspec": {
   "display_name": "eegganCarpenterEnv",
   "language": "python",
   "name": "python3"
  },
  "language_info": {
   "codemirror_mode": {
    "name": "ipython",
    "version": 3
   },
   "file_extension": ".py",
   "mimetype": "text/x-python",
   "name": "python",
   "nbconvert_exporter": "python",
   "pygments_lexer": "ipython3",
   "version": "3.10.11"
  }
 },
 "nbformat": 4,
 "nbformat_minor": 2
}
