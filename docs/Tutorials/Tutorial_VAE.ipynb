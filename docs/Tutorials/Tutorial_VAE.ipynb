{
  "cells": [
    {
      "cell_type": "markdown",
      "metadata": {
        "id": "view-in-github",
        "colab_type": "text"
      },
      "source": [
        "<a href=\"https://colab.research.google.com/github/AutoResearch/EEG-GAN/blob/3-release-as-pip-package/docs/Tutorials/Tutorial_VAE.ipynb\" target=\"_parent\"><img src=\"https://colab.research.google.com/assets/colab-badge.svg\" alt=\"Open In Colab\"/></a>"
      ]
    },
    {
      "cell_type": "markdown",
      "metadata": {
        "id": "Ijp0w3vokAZc"
      },
      "source": [
        "# Augmenting EEG with Generative Adversarial Networks<br>\n",
        "\n",
        "*Created by Daniel Weinhardt, Chad Williams, & Sebastian Musslick*\n",
        "\n",
        "---\n",
        "---\n",
        "\n",
        "We here use Variational Autoencoders (VAEs) to create trial-level synthetic EEG samples. We can then use these samples as extra data to train whichever classifier we want to use (e.g.,  Support Vector Machine, Neural Network).\n",
        "\n",
        "The dataset provided is a subset of data from Williams et al., 2021 (*Psychophysics*). In this study, participants completed a two-armed bandit gambling task where they needed to discern which of two coloured squares were more often rewarding through trial-and-error. Each trial presented two coloured squares that the participants were to choose from, and provided performance feedback as “WIN” or “LOSE”, yielding two conditions of interest, cwin, close. For each pair of squares, one had a win rate of 60% while the other had a win rate of 10%. Participants saw each pair of colours twenty times consecutively. There were a total of five pairs of squares (with colours randomly determined), resulting in one hundred trials per participant. This paradigm elicits well-known frontal neural differences when contrasting the win and lose outcomes, namely in the reward positivity, delta oscillations, and theta oscillations (see Williams et al., 2021; Psychophysics).\n",
        "\n",
        "In this tutorial, we will classify the WIN and LOSE conditions using both Support Vector Machine and Neural Network classifiers. We will:\n",
        "1. Train a VAE on trial-level EEG data\n",
        "2. Generate synthetic EEG data\n",
        "3. Create an augmented EEG dataset\n",
        "4. Determine classification performance using both the empirical and augmented datasets\n",
        "    - Empirical Dataset: We train the classifer on the empirical data that was used to train the VAEs\n",
        "    - Augmented Dataset: We train the classifer on the empirical data with the appended synthetic samples\n",
        "\n",
        "---\n",
        "---\n",
        "## Evaluation of EEG-GAN\n",
        "**Augmenting EEG with Generative Adversarial Networks Enhances Brain Decoding Across Classifiers and Sample Sizes**<br>\n",
        "$Williams^{*1}$, $Weinhardt^{*2}$, $Wirzberger^{2}$, & $Musslick^{1}$ (*submitted, 2023*)<br>\n",
        "**Co-First Authors*<br>\n",
        "$^{1}$ *Brainstorm, Carney Institute for Brain Science, Brown University*<br>\n",
        "$^{2}$ *University of Stuttgart* <br>\n",
        "\n",
        "---\n",
        "---\n",
        "## Table of Contents\n",
        "    Step 0. Installing and Loading Modules\n",
        "        Step 0.1. Installing Modules\n",
        "        Step 0.2. Loading Modules\n",
        "    Step 1. EEG Data\n",
        "        Step 1.1. Load Data\n",
        "        Step 1.2. View Data\n",
        "    Step 2. GAN\n",
        "        Step 2.1. Exploring the Main GAN Package Functions\n",
        "            Step 2.1.1. GAN Training Help\n",
        "            Step 2.1.2. Visualize Help\n",
        "            Step 2.1.3. Generate Samples Help\n",
        "        Step 2.2. Training the GAN\n",
        "        Step 2.3. Visualizing GAN Losses\n",
        "        Step 2.4. Generating Synthetic Data\n",
        "    Step 3. Synthetic Data\n",
        "        Step 3.1. Load Data\n",
        "        Step 3.2. View Data\n",
        "            Step 3.2.1. View Trial-Level Data\n",
        "            Step 3.2.2. View ERP Data\n",
        "    Step 4. Classification Setup\n",
        "        Step 4.1. Preparing Validation Data\n",
        "        Step 4.2. Preparing Empirical Data\n",
        "        Step 4.3. Preparing Augmented Data\n",
        "    Step 5. Support Vector Machine\n",
        "        Step 5.1. Define Search Space\n",
        "        Step 5.2. Classify Empirical Data\n",
        "        Step 5.3. Classify Augmented Data\n",
        "    Step 6. Neural Network\n",
        "        Step 6.1. Define Search Space\n",
        "        Step 6.2. Classify Empirical Data\n",
        "        Step 6.3. Classify Augmented Data\n",
        "    Step 7. Final Report\n",
        "        Step 7.1. Present Classification Performance\n",
        "        Step 7.2. Plot Classification Performance\n",
        "\n",
        "*Note: you can also view an interactive table of contents in your sidebar*"
      ]
    },
    {
      "cell_type": "markdown",
      "metadata": {
        "id": "7CmtEZlWkAZf"
      },
      "source": [
        "# Step 0. Installing and Loading Modules"
      ]
    },
    {
      "cell_type": "markdown",
      "metadata": {
        "id": "FVLsJ6FFkAZh"
      },
      "source": [
        "## Step 0.1. Installing Modules\n",
        "We will now download and install the EEG-GAN package\n"
      ]
    },
    {
      "cell_type": "code",
      "execution_count": 1,
      "metadata": {
        "id": "QlMWXHxNkVJI"
      },
      "outputs": [],
      "source": [
        "%%capture\n",
        "\n",
        "#Pull Repo\n",
        "!git clone -b dev https://github.com/AutoResearch/EEG-GAN.git --single-branch\n",
        "\n",
        "#Install Requirements\n",
        "!pip3 install torch torchvision torchaudio torchsummary\n",
        "!pip install pandas==1.3.4\n",
        "!pip install numpy==1.21.4\n",
        "!pip install matplotlib==3.5.0\n",
        "!pip install scipy==1.8.0\n",
        "!pip install einops==0.4.1\n",
        "!pip install scikit-learn==1.1.2\n",
        "!pip install tqdm"
      ]
    },
    {
      "cell_type": "markdown",
      "metadata": {
        "id": "zWKScaPAllfB"
      },
      "source": [
        "# Step 0.2. Loading Modules"
      ]
    },
    {
      "cell_type": "code",
      "execution_count": 2,
      "metadata": {
        "id": "wlNGlhTckAZh",
        "colab": {
          "base_uri": "https://localhost:8080/"
        },
        "outputId": "43ac37da-e0f7-4e05-e75e-1cf1ffc56129"
      },
      "outputs": [
        {
          "output_type": "stream",
          "name": "stderr",
          "text": [
            "/usr/local/lib/python3.10/dist-packages/scipy/__init__.py:146: UserWarning: A NumPy version >=1.17.3 and <1.25.0 is required for this version of SciPy (detected version 1.25.2\n",
            "  warnings.warn(f\"A NumPy version >={np_minversion} and <{np_maxversion}\"\n"
          ]
        }
      ],
      "source": [
        "#Load other modules specific to this notebook\n",
        "import numpy as np\n",
        "import matplotlib.pyplot as plt\n",
        "import shutil\n",
        "import os\n",
        "import random as rnd\n",
        "from scipy import signal\n",
        "from sklearn.preprocessing import scale\n",
        "from sklearn.model_selection import train_test_split, GridSearchCV\n",
        "from sklearn.svm import SVC\n",
        "from sklearn.neural_network import MLPClassifier\n",
        "from sklearn.metrics import classification_report\n",
        "import torch\n",
        "\n",
        "#Create a print formatting class\n",
        "class printFormat:\n",
        "    bold = '\\033[1m'\n",
        "    italic = '\\033[3m'\n",
        "    end = '\\033[0m'"
      ]
    },
    {
      "cell_type": "markdown",
      "metadata": {
        "id": "634TyK0akAZj"
      },
      "source": [
        "# Step 1. EEG Data"
      ]
    },
    {
      "cell_type": "markdown",
      "metadata": {
        "id": "0jb5A16QkAZj"
      },
      "source": [
        "## Step 1.1. Load Data\n",
        "We will load the provided EEG training data and print some information about what this contains."
      ]
    },
    {
      "cell_type": "code",
      "execution_count": null,
      "metadata": {
        "id": "qDTW61ZPkAZj",
        "colab": {
          "base_uri": "https://localhost:8080/"
        },
        "outputId": "6a9199a1-cb5a-411d-b80c-18d212d79c86"
      },
      "outputs": [
        {
          "metadata": {
            "tags": null
          },
          "name": "stdout",
          "output_type": "stream",
          "text": [
            "\u001b[1mDisplay Header and first few rows/columns of data\n",
            " \u001b[0m\u001b[0m\n",
            "('ParticipantID', 'Condition', 'Trial', 'Time1', 'Time2', 'Time3')\n",
            "[[11.        0.        1.        2.287618 -4.448947 -0.980726]\n",
            " [11.        0.        2.       11.672745  0.669828  1.43829 ]\n",
            " [11.        0.        3.       10.510648 11.908067  8.671387]]\n",
            "\n",
            "------------------------------------------------------------------------------------------\n",
            "\u001b[1m\n",
            "Note the first three columns:\u001b[0m\n",
            "    ParticipantID - Indicates different participants\n",
            "    Condition - Indicates the condition (WIN = 0, LOSE = 1) to be classified\n",
            "    Trial - Indicates the trial number for that participant and condition\n",
            "\n",
            "The remaining columns are titled Time1 to Time100 - indicating 100 datapoints per sample.\n",
            "The samples span from -200 to 1000ms around the onset of a feedback stimulus.\n",
            "These are downsampled from the original data, which contained 600 datapoints per sample.\n",
            "\n",
            "------------------------------------------------------------------------------------------\n",
            "\n",
            "\u001b[1mOther characteristics of our data include:\u001b[0m\n",
            "-We have 15 participants in our training set\n",
            "-Participants have an average of 46 (SD: 7) trials per outcome (win, lose)\n"
          ]
        }
      ],
      "source": [
        "#Load the data\n",
        "empiricalHeaders = np.genfromtxt('EEG-GAN/data/gansEEGTrainingData.csv', delimiter=',', names=True).dtype.names\n",
        "empiricalEEG = np.genfromtxt('EEG-GAN/data/gansEEGTrainingData.csv', delimiter=',', skip_header=1)\n",
        "\n",
        "#Print the head of the data\n",
        "print(printFormat.bold + 'Display Header and first few rows/columns of data\\n \\033[0m' + printFormat.end)\n",
        "print(empiricalHeaders[:6])\n",
        "print(empiricalEEG[0:3,:6])\n",
        "\n",
        "#Print some information about the columns\n",
        "print('\\n------------------------------------------------------------------------------------------')\n",
        "print(printFormat.bold + '\\nNote the first three columns:' + printFormat.end +'\\n    ParticipantID - Indicates different participants\\n    Condition - Indicates the condition (WIN = 0, LOSE = 1) to be classified\\n    Trial - Indicates the trial number for that participant and condition')\n",
        "print('\\nThe remaining columns are titled Time1 to Time100 - indicating 100 datapoints per sample.\\nThe samples span from -200 to 1000ms around the onset of a feedback stimulus.\\nThese are downsampled from the original data, which contained 600 datapoints per sample.')\n",
        "\n",
        "#Print some meta-data\n",
        "print('\\n------------------------------------------------------------------------------------------')\n",
        "print('\\n' + printFormat.bold + 'Other characteristics of our data include:' + printFormat.end)\n",
        "print('-We have ' + str(len(set(empiricalEEG[:,0]))) + ' participants in our training set')\n",
        "print('-Participants have an average of ' + str(round(np.mean([np.max(empiricalEEG[empiricalEEG[:,0]==pID,2]) for pID in set(empiricalEEG[:,0])]))) + ' (SD: ' + str(round(np.std([np.max(empiricalEEG[empiricalEEG[:,0]==pID,2]) for pID in set(empiricalEEG[:,0])]))) + ')' + ' trials per outcome (win, lose)')"
      ]
    },
    {
      "cell_type": "markdown",
      "metadata": {
        "id": "VQ-b2IQ1kAZj"
      },
      "source": [
        "## Step 1.2. View Data\n",
        "Let's view the grand-averaged ERPs of our 15 participants."
      ]
    },
    {
      "cell_type": "code",
      "execution_count": null,
      "metadata": {
        "id": "NBTF1lOTkAZk",
        "colab": {
          "base_uri": "https://localhost:8080/",
          "height": 427
        },
        "outputId": "dd1bfad3-a1aa-4840-fd29-a7e5d8a8c2f5"
      },
      "outputs": [
        {
          "data": {
            "text/plain": [
              "<matplotlib.legend.Legend at 0x7b136d3ed900>"
            ]
          },
          "execution_count": 4,
          "metadata": {},
          "output_type": "execute_result"
        },
        {
          "data": {
            "image/png": "[encoded data removed]",
            "text/plain": [
              "<Figure size 600x400 with 1 Axes>"
            ]
          },
          "metadata": {},
          "output_type": "display_data"
        }
      ],
      "source": [
        "#Determine which rows are each condition\n",
        "lossIndex = np.where(empiricalEEG[:,1]==1)\n",
        "winIndex = np.where(empiricalEEG[:,1]==0)\n",
        "\n",
        "#Grand average the waveforms for each condition\n",
        "lossWaveform = np.mean(empiricalEEG[lossIndex,3:],axis=1)[0]\n",
        "winWaveform = np.mean(empiricalEEG[winIndex,3:],axis=1)[0]\n",
        "\n",
        "#Determine x axis of time\n",
        "time = np.linspace(-200,1000,100)\n",
        "\n",
        "#Setup figure\n",
        "f, (ax1) = plt.subplots(1, 1, figsize=(6, 4))\n",
        "\n",
        "#Plot each waveform\n",
        "ax1.plot(time, lossWaveform, label = 'Loss')\n",
        "ax1.plot(time, winWaveform, label = 'Win')\n",
        "\n",
        "#Format plot\n",
        "ax1.set_ylabel('Voltage ($\\mu$V)')\n",
        "ax1.set_xlabel('Time (ms)')\n",
        "ax1.set_title('Empirical', loc='left')\n",
        "ax1.spines[['right', 'top']].set_visible(False)\n",
        "ax1.legend(frameon=False)"
      ]
    },
    {
      "cell_type": "markdown",
      "metadata": {
        "id": "CGJjaeVakAZk"
      },
      "source": [
        "# Step 2. GAN"
      ]
    },
    {
      "cell_type": "markdown",
      "metadata": {
        "id": "Zx6nB3DakAZk"
      },
      "source": [
        "## Step 2.1. Exploring the Main GAN Package Functions\n",
        "<br><b>Functions</b><br>\n",
        "We will be using three functions from the GANs package:<br>\n",
        "&emsp;&emsp;```train_gan()``` - This trains a GAN <br>\n",
        "&emsp;&emsp;```visualize_gan()``` - This visualizes components of a trained GAN, such as the training losses <br>\n",
        "&emsp;&emsp;```generate_samples()``` - This generates synthetic samples using the trained GAN<br>\n",
        "\n",
        "<br><b>Arguments</b><br>\n",
        "\n",
        "Each function can take a single argument ```argv```, which should be a dictionary:<br>\n",
        "\n",
        "&emsp;&emsp;```argv = dict(```<br>\n",
        "&emsp;&emsp;&emsp;```path_dataset=data\\my_data.csv,```<br>\n",
        "&emsp;&emsp;&emsp;```n_epochs = 100```<br>\n",
        "&emsp;&emsp;```)```<br>\n",
        "\n",
        "&emsp;&emsp;```train_gan(argv)```\n",
        "\n",
        "<br><b>Help</b><br>\n",
        "\n",
        "You can use the help argument to see a list of possible arguments with a brief description:</b><br>\n",
        "&emsp;&emsp;```train_gan(dict(help = True))```<br>\n",
        "&emsp;&emsp;```visualize_gan(dict(help = True))```<br>\n",
        "&emsp;&emsp;```generate_samples(dict(help = True))```<br>"
      ]
    },
    {
      "cell_type": "markdown",
      "metadata": {
        "id": "51bGZZXfkAZl"
      },
      "source": [
        "### Step 2.1.1. VAE Training Help"
      ]
    },
    {
      "cell_type": "code",
      "execution_count": 3,
      "metadata": {
        "colab": {
          "base_uri": "https://localhost:8080/"
        },
        "id": "7yoa4kyEkAZl",
        "outputId": "395bda70-0737-4df9-de84-2c63fc0c7753"
      },
      "outputs": [
        {
          "output_type": "stream",
          "name": "stdout",
          "text": [
            "\n",
            "-----------------------------------------\n",
            "Command line arguments:\n",
            "-----------------------------------------\n",
            "\n",
            "\n",
            "\n",
            "----------------------------------------------------------------------------------------------------------------------------------------------------\n",
            "INPUT HELP - These are the inputs that can be given from the command line\n",
            "----------------------------------------------------------------------------------------------------------------------------------------------------\n",
            "\n",
            "\n",
            "Input           | Type            | Description                                                                                 | Default value                                    \n",
            "----------------------------------------------------------------------------------------------------------------------------------------------------\n",
            "load_checkpoint | <class 'bool'>  | Load a pre-trained AE                                                                       | False                                            \n",
            "data            | <class 'str'>   | Path to the dataset                                                                         | data/ganTrialElectrodeERP_p500_e1_SS100_Run00.csv\n",
            "path_checkpoint | <class 'str'>   | Path to a trained model to continue training                                                | trained_ae/checkpoint.pt                         \n",
            "save_name       | <class 'str'>   | Name to save model                                                                          | None                                             \n",
            "sample_interval | <class 'int'>   | Interval of epochs between saving samples                                                   | 100                                              \n",
            "kw_channel      | <class 'str'>   | Column name to detect used channels                                                         |                                                  \n",
            "kw_conditions   | <class 'str'>   | ** Conditions to be used                                                                    | Condition                                        \n",
            "kw_time         | <class 'str'>   | Keyword for the time step of the dataset                                                    | Time                                             \n",
            "activation      | <class 'str'>   | Activation function of the AE components; Options: [relu, leakyrelu, sigmoid, tanh, linear] | tanh                                             \n",
            "n_epochs        | <class 'int'>   | Number of epochs to train for                                                               | 1000                                             \n",
            "batch_size      | <class 'int'>   | Batch size                                                                                  | 128                                              \n",
            "hidden_dim      | <class 'int'>   | Hidden dimension of the network                                                             | 256                                              \n",
            "encoded_dim     | <class 'int'>   | Encoded dimension of mu and sigma                                                           | 25                                               \n",
            "learning_rate   | <class 'float'> | Learning rate of the VAE                                                                    | 0.0003                                           \n",
            "kl_alpha        | <class 'float'> | Weight of the KL divergence in loss                                                         | 5e-05                                            \n",
            "----------------------------------------------------------------------------------------------------------------------------------------------------\n",
            "\n",
            "\n",
            "----------------------------------------------------------------------------------------------------------------------------------------------------\n",
            "QUICK HELP - These are the special features:\n",
            "----------------------------------------------------------------------------------------------------------------------------------------------------\n",
            "General information: \n",
            "\n",
            "Boolean arguments are given as a single keyword:\n",
            "\tSet boolean keyword \"test_keyword\" to True\t->\tpython file.py test_keyword\n",
            "Command line arguments are given as a keyword followed by an equal sign and the value:\n",
            "\tSet command line argument \"test_keyword\" to \"test_value\"\t->\tpython file.py test_keyword=test_value\n",
            "\tWhitespaces are not allowed between a keyword and its value.\n",
            "Some keywords can be given list-like: \n",
            "\ttest_keyword=test_value1,test_value2\n",
            "\tThese keywords are marked with ** in the table.\n",
            "----------------------------------------------------------------------------------------------------------------------------------------------------\n",
            "1.\tThe training works with two levels of checkpoint files:\n",
            "\t1.1 During the training:\n",
            "\t\tCheckpoints are saved every \"sample_interval\" batches as either \"checkpoint_01.pt\"\n",
            "\t\tor \"checkpoint_02.pt\". These checkpoints are considered as low-level checkpoints since they are only \n",
            "\t\tnecessary in the case of training interruption. Hereby, they can be used to continue the training from \n",
            "\t\tthe most recent sample. To continue training, the most recent checkpoint file must be renamed to \n",
            "\t\t\"checkpoint.pt\".\n",
            "\t\tFurther, these low-level checkpoints carry the generated samples for inference purposes.\n",
            "\t1.2 After finishing the training:\n",
            "\t\tA high-level checkpoint is saved as \"checkpoint.pt\", which is used to \n",
            "\t\tcontinue training in another session. This high-level checkpoint does not carry the generated samples.\n",
            "\t\tTo continue training from this checkpoint file no further adjustments are necessary. \n",
            "\t\tSimply give the keyword \"load_checkpoint\" when calling the training process.\n",
            "\t\tThe low-level checkpoints are deleted after creating the high-level checkpoint.\n",
            "\t1.3 For inference purposes:\n",
            "\t\tAnother dictionary is saved as \"vae_{n_epochs}ep_{timestamp}.pt\".\n",
            "\t\tThis file contains everything the checkpoint file contains, plus the generated samples.\n",
            "2.\tUse \"ddp\" to activate distributed training. \n",
            "\tOnly if multiple GPUs are available for one node.\n",
            "\tAll available GPUs are used for training.\n",
            "\tEach GPU trains on the whole dataset. \n",
            "\tHence, the number of training epochs is multiplied by the number of GPUs\n",
            "3.\tIf you want to load a pre-trained VAE, you can use the following command:\n",
            "\tpython gan_training_main.py load_checkpoint; The default file is \"trained_models/checkpoint.pt\"\n",
            "\tIf you want to use another file, you can use the following command:\n",
            "\t\tpython vae_training_main.py load_checkpoint path_checkpoint=\"path/to/file.pt\"\n",
            "4.\tIf you want to use a different dataset, you can use the following command:\n",
            "\tpython gan_training_main.py path_dataset=\"path/to/file.csv\"\n",
            "\tThe default dataset is \"data/gansEEGTrainingData.csv\"\n",
            "\n",
            "\n",
            "----------------------------------------------------------------------------------------------------------------------------------------------------\n",
            "----------------------------------------------------------------------------------------------------------------------------------------------------\n",
            "\n",
            "\n"
          ]
        }
      ],
      "source": [
        "!python EEG-GAN/vae_training_main.py help"
      ]
    },
    {
      "cell_type": "markdown",
      "metadata": {
        "id": "NscQLNyykAZl"
      },
      "source": [
        "### Step 2.1.2. Visualize Help"
      ]
    },
    {
      "cell_type": "code",
      "execution_count": null,
      "metadata": {
        "colab": {
          "base_uri": "https://localhost:8080/"
        },
        "id": "WX-09LRtkAZn",
        "outputId": "dbb6219c-f4fe-47a8-e4db-891d220fcb5b"
      },
      "outputs": [
        {
          "output_type": "stream",
          "name": "stdout",
          "text": [
            "\n",
            "-----------------------------------------\n",
            "Command line arguments:\n",
            "-----------------------------------------\n",
            "\n",
            "\n",
            "\n",
            "----------------------------------------------------------------------------------------------------------------------------------------------------\n",
            "INPUT HELP - These are the inputs that can be given from the command line\n",
            "----------------------------------------------------------------------------------------------------------------------------------------------------\n",
            "\n",
            "\n",
            "Input           | Type           | Description                                                                              | Default value         \n",
            "----------------------------------------------------------------------------------------------------------------------------------------------------\n",
            "loss            | <class 'bool'> | Plot training loss                                                                       | False                 \n",
            "average         | <class 'bool'> | Average over all samples to get one averaged curve (per condition, if any is given)      | False                 \n",
            "pca             | <class 'bool'> | Use PCA to reduce the dimensionality of the data                                         | False                 \n",
            "tsne            | <class 'bool'> | Use t-SNE to reduce the dimensionality of the data                                       | False                 \n",
            "spectogram      | <class 'bool'> | Use spectogram to visualize the frequency distribution of the data                       | False                 \n",
            "fft             | <class 'bool'> | Use a FFT-histogram to visualize the frequency distribution of the data                  | False                 \n",
            "channel_plots   | <class 'bool'> | Plot each channel in a separate column                                                   | False                 \n",
            "model           | <class 'str'>  | Use samples from checkpoint file                                                         |                       \n",
            "data            | <class 'str'>  | Use samples from csv-file                                                                |                       \n",
            "comp_data       | <class 'str'>  | Path to a csv dataset for comparison; comparison only for t-SNE or PCA;                  | data/ganAverageERP.csv\n",
            "kw_conditions   | <class 'str'>  | ** Conditions to be used                                                                 |                       \n",
            "kw_time         | <class 'str'>  | Keyword to detect the time steps of the dataset; e.g. if [Time1, Time2, ...] -> use Time | Time                  \n",
            "kw_channel      | <class 'str'>  | Keyword to detect used channels                                                          |                       \n",
            "n_samples       | <class 'int'>  | Total number of samples to be plotted                                                    | 0                     \n",
            "channel_index   | <class 'int'>  | **Index of the channel to be plotted; If -1, all channels will be plotted;               | -1                    \n",
            "tsne_perplexity | <class 'int'>  | Perplexity of t-SNE                                                                      | 40                    \n",
            "tsne_iterations | <class 'int'>  | Number of iterations of t-SNE                                                            | 1000                  \n",
            "----------------------------------------------------------------------------------------------------------------------------------------------------\n",
            "\n",
            "\n",
            "----------------------------------------------------------------------------------------------------------------------------------------------------\n",
            "QUICK HELP - These are the special features:\n",
            "----------------------------------------------------------------------------------------------------------------------------------------------------\n",
            "General information: \n",
            "\n",
            "Boolean arguments are given as a single keyword:\n",
            "\tSet boolean keyword \"test_keyword\" to True\t->\tpython file.py test_keyword\n",
            "Command line arguments are given as a keyword followed by an equal sign and the value:\n",
            "\tSet command line argument \"test_keyword\" to \"test_value\"\t->\tpython file.py test_keyword=test_value\n",
            "\tWhitespaces are not allowed between a keyword and its value.\n",
            "Some keywords can be given list-like: \n",
            "\ttest_keyword=test_value1,test_value2\n",
            "\tThese keywords are marked with ** in the table.\n",
            "----------------------------------------------------------------------------------------------------------------------------------------------------\n",
            "1.\tEither the keyword \"model\" or \"data\" must be given.\n",
            "\t1.1 If the keyword \"model\" is given\n",
            "\t\t\"model\" must point to a pt-file.\n",
            "\t\t\"model\" may point to a GAN or an Autoencoder checkpoint file.\n",
            "\t\tthe keyword \"kw_conditions\" will be ignored since the conditions are taken from the checkpoint file.\n",
            "\t\tthe keyword \"kw_channel\" will be ignored since the samples are already sorted channel-wise.\n",
            "\t\tthe samples are drawn evenly from the saved samples to show the training progress.\n",
            "\t1.2 If the keyword \"data\" is given\n",
            "\t\t\"data\" must point to a csv-file.\n",
            "\t\tthe keyword \"kw_conditions\" must be given to identify the condition column(s).\n",
            "\t\tthe samples will be drawn randomly from the dataset.\n",
            "2.\tThe keyword \"loss\" works only with the keyword \"checkpoint\".\n",
            "3.\tThe keyword \"average\" averages either\n",
            "\tall the samples (if no condition is given)\n",
            "\talong each combination of conditions that is given. The conditions are shown in the legend.\n",
            "4.\tWhen using the keywords \"pca\" or \"tsne\" the keyword \"comp_data\" must be defined.\n",
            "\tExcept for the case \"model\" is given and the checkpoint file is an Autoencoder file.\n",
            "\tIn this case, the comparison dataset (original data) is taken from the Autoencoder file directly.\n",
            "5.\tThe keyword \"channel_plots\" can be used to enhace the visualization.\n",
            "\tThis way, the channels are shown in different subplots along the columns.\n",
            "6.\tThe keyword \"channel_index\" can be defined to plot only a subset of channels.\n",
            "\tIf the keyword \"channel_index\" is not given, all channels are plotted.\n",
            "\tSeveral channels can be defined list-like e.g., \"channel_index=0,4,6,8\".\n",
            "----------------------------------------------------------------------------------------------------------------------------------------------------\n",
            "\n",
            "\n"
          ]
        }
      ],
      "source": [
        "!python EEG-GAN/visualize_main.py help"
      ]
    },
    {
      "cell_type": "markdown",
      "metadata": {
        "id": "aTxPJRfckAZn"
      },
      "source": [
        "### Step 2.1.3. Generate Samples Help"
      ]
    },
    {
      "cell_type": "code",
      "execution_count": null,
      "metadata": {
        "colab": {
          "base_uri": "https://localhost:8080/"
        },
        "id": "MXO6z0IZkAZn",
        "outputId": "72d27008-6870-4dc3-dcc0-f44021d92395"
      },
      "outputs": [
        {
          "output_type": "stream",
          "name": "stdout",
          "text": [
            "Traceback (most recent call last):\n",
            "  File \"/content/EEG-GAN/generate_samples_main.py\", line 14, in <module>\n",
            "    from nn_architecture.models import DecoderGenerator, TransformerGenerator, AutoencoderGenerator\n",
            "ImportError: cannot import name 'TransformerGenerator' from 'nn_architecture.models' (/content/EEG-GAN/nn_architecture/models.py)\n"
          ]
        }
      ],
      "source": [
        "!python EEG-GAN/generate_samples_main.py help"
      ]
    },
    {
      "cell_type": "markdown",
      "metadata": {
        "id": "TQqKdQIBkAZn"
      },
      "source": [
        "## Step 2.2. Training the VAE"
      ]
    },
    {
      "cell_type": "markdown",
      "metadata": {
        "id": "7BhdId0JkAZn"
      },
      "source": [
        "To train the GAN in this tutorial, we will be using the following arguments:\n",
        "- <b>path_dataset=data/gansEEGTrainingData.csv</b> : Determines the training dataset\n",
        "- <b>n_epochs=5</b> : Determines number of times to train the GAN<br>\n",
        "&emsp;&emsp;-*Here we only use 5 epochs to demonstrate the process but this will result in a very under-trained GAN. In the manuscript, we trained for 8000 epochs.*\n",
        "\n",
        "*Note: If the **ddp** argument is provided, GANs will be trained using GPUs rather than CPUs*"
      ]
    },
    {
      "cell_type": "code",
      "execution_count": 17,
      "metadata": {
        "colab": {
          "base_uri": "https://localhost:8080/"
        },
        "id": "XEl401f5kAZn",
        "outputId": "098fbb1f-1b9d-475d-b28f-80ddf198ce6a"
      },
      "outputs": [
        {
          "output_type": "stream",
          "name": "stdout",
          "text": [
            "\n",
            "-----------------------------------------\n",
            "Command line arguments:\n",
            "-----------------------------------------\n",
            "\n",
            "Dataset: EEG-GAN/data/gansEEGTrainingData.csv\n",
            "Number of epochs: 2000\n",
            "-----------------------------------------\n",
            "\n",
            "Variational autoencoder initialized\n",
            "\n",
            "-----------------------------------------\n",
            "Training VAE...\n",
            "-----------------------------------------\n",
            "\n",
            "100% 2000/2000 [01:19<00:00, 25.08it/s, loss=0.00287]\n",
            "Managing checkpoints...\n",
            "Checkpoint saved to trained_ae/checkpoint.pt.\n",
            "VAE training finished.\n",
            "Model states and generated samples saved to file trained_vae/vae_2000ep_20240522_195052.pt.\n"
          ]
        }
      ],
      "source": [
        "#Train the GAN on CPUs\n",
        "# !python EEG-GAN/vae_training_main.py ddp=False data=\"data/gansEEGTrainingData.csv\" n_epochs=1000\n",
        "\n",
        "# Train the VAE on GPUs\n",
        "!python EEG-GAN/vae_training_main.py ddp=True data=\"EEG-GAN/data/gansEEGTrainingData.csv\" n_epochs=1000\n",
        "# Note, on Google Colab you can start a GPU runtime by going to Runtime > Change runtime type > Hardware accelerator > GPU"
      ]
    },
    {
      "cell_type": "markdown",
      "metadata": {
        "id": "D-ghmBxIkAZn"
      },
      "source": [
        "# Step 2.3. Visualizing GAN Losses"
      ]
    },
    {
      "cell_type": "markdown",
      "metadata": {
        "id": "Lhf3BUiykAZo"
      },
      "source": [
        "The GAN trains for the number of epochs specified above; however, this does not ensure that it will train successfully. So, it is important to visualize our training success and ensure that it completed successfully. If it did, we can move forward with using the GAN, but if it did not then we would need to continue training the GAN. This latter case is not a problem though because the package was built so that you can continue training a previously trained GAN (rather than having to start over) if you use the ```load_checkpoint``` and ```path_checkpoint``` arguments with the ```train_gan.py``` function.  \n",
        "\n",
        "We will now visualize the generator and discriminator losses using the following arguments:\n",
        "- <b>plot_losses</b> : Determines that we will be viewing the losses\n",
        "- <b>checkpoint </b> : Specifies that we are visualizing a GAN\n",
        "- <b>file=ganEEGModel.pt</b> : Determines which GAN to visualize\n",
        "- <b>training_file=data\\gansEEGTrainingData.csv</b> : Points towards the data used to train the GAN\n",
        "\n",
        "We will know that training was successful if both the generator and discriminator losses hover around 0 at the end of training."
      ]
    },
    {
      "cell_type": "code",
      "execution_count": 14,
      "metadata": {
        "colab": {
          "base_uri": "https://localhost:8080/"
        },
        "id": "7pfQ0ymdkAZo",
        "outputId": "090c3814-3736-412c-8abb-5fcf3d3ae5f2"
      },
      "outputs": [
        {
          "output_type": "stream",
          "name": "stdout",
          "text": [
            "\n",
            "-----------------------------------------\n",
            "Command line arguments:\n",
            "-----------------------------------------\n",
            "\n",
            "Plotting training lossTrue\n",
            "Using samples from model/checkpoint file (.pt)EEG-GAN/trained_models/gansEEGModel.pt\n",
            "Number of plotted samples: 1\n",
            "\n",
            "-----------------------------------------\n",
            "System output:\n",
            "-----------------------------------------\n",
            "\n",
            "Traceback (most recent call last):\n",
            "  File \"/content/EEG-GAN/visualize_main.py\", line 292, in <module>\n",
            "    main()\n",
            "  File \"/content/EEG-GAN/visualize_main.py\", line 62, in main\n",
            "    data = np.concatenate(state_dict['samples'])\n",
            "KeyError: 'samples'\n"
          ]
        }
      ],
      "source": [
        "!python EEG-GAN/visualize_main.py loss=True model=\"EEG-GAN/trained_models/gansEEGModel.pt\""
      ]
    },
    {
      "cell_type": "markdown",
      "metadata": {
        "id": "CVBr-LqdkAZp"
      },
      "source": [
        "## Step 2.4. Generating Synthetic Data"
      ]
    },
    {
      "cell_type": "markdown",
      "metadata": {
        "id": "3jRm5IUYkAZp"
      },
      "source": [
        "We will be using the following arguments:\n",
        "- <b> file=gansEEGModel.pt </b> : Determines which model to use<br>\n",
        "&emsp;&emsp;*The default trained GAN name is checkpoint.pt but we will instead use a pre-trained GAN named gansEEGModel.pt*\n",
        "- <b> path_samples=gansEEGSyntheticData.csv </b> : Where and what to save the generated samples as\n",
        "- <b> num_samples_total=10000 </b> : Number of samples to generate (half per condition)"
      ]
    },
    {
      "cell_type": "code",
      "execution_count": null,
      "metadata": {
        "colab": {
          "base_uri": "https://localhost:8080/",
          "height": 1000
        },
        "id": "iRmmQUIEkAZp",
        "outputId": "afad51e4-d7f2-42dc-c897-28c8b2e2efe5"
      },
      "outputs": [
        {
          "output_type": "stream",
          "name": "stdout",
          "text": [
            "\n",
            "-----------------------------------------\n",
            "Command line arguments:\n",
            "-----------------------------------------\n",
            "\n",
            "File: gansEEGModel.pt\n",
            "Saving generated samples to file: gansEEGSyntheticData.csv\n",
            "Total number of generated samples: 10000\n",
            "\n",
            "-----------------------------------------\n",
            "System output:\n",
            "-----------------------------------------\n",
            "\n",
            "Initializing generator...\n",
            "Generating samples...\n",
            "Generating sequence 1 of 200...\n",
            "Generating sequence 2 of 200...\n",
            "Generating sequence 3 of 200...\n",
            "Generating sequence 4 of 200...\n",
            "Generating sequence 5 of 200...\n",
            "Generating sequence 6 of 200...\n",
            "Generating sequence 7 of 200...\n",
            "Generating sequence 8 of 200...\n",
            "Generating sequence 9 of 200...\n",
            "Generating sequence 10 of 200...\n",
            "Generating sequence 11 of 200...\n",
            "Generating sequence 12 of 200...\n",
            "Generating sequence 13 of 200...\n",
            "Generating sequence 14 of 200...\n",
            "Generating sequence 15 of 200...\n",
            "Generating sequence 16 of 200...\n",
            "Generating sequence 17 of 200...\n",
            "Generating sequence 18 of 200...\n",
            "Generating sequence 19 of 200...\n",
            "Generating sequence 20 of 200...\n",
            "Generating sequence 21 of 200...\n",
            "Generating sequence 22 of 200...\n",
            "Generating sequence 23 of 200...\n",
            "Generating sequence 24 of 200...\n",
            "Generating sequence 25 of 200...\n",
            "Generating sequence 26 of 200...\n",
            "Generating sequence 27 of 200...\n",
            "Generating sequence 28 of 200...\n",
            "Generating sequence 29 of 200...\n",
            "Generating sequence 30 of 200...\n",
            "Generating sequence 31 of 200...\n",
            "Generating sequence 32 of 200...\n",
            "Generating sequence 33 of 200...\n",
            "Generating sequence 34 of 200...\n",
            "Generating sequence 35 of 200...\n",
            "Generating sequence 36 of 200...\n",
            "Generating sequence 37 of 200...\n",
            "Generating sequence 38 of 200...\n",
            "Generating sequence 39 of 200...\n",
            "Generating sequence 40 of 200...\n",
            "Generating sequence 41 of 200...\n",
            "Generating sequence 42 of 200...\n",
            "Generating sequence 43 of 200...\n",
            "Generating sequence 44 of 200...\n",
            "Generating sequence 45 of 200...\n",
            "Generating sequence 46 of 200...\n",
            "Generating sequence 47 of 200...\n",
            "Generating sequence 48 of 200...\n",
            "Generating sequence 49 of 200...\n",
            "Generating sequence 50 of 200...\n",
            "Generating sequence 51 of 200...\n",
            "Generating sequence 52 of 200...\n",
            "Generating sequence 53 of 200...\n",
            "Generating sequence 54 of 200...\n",
            "Generating sequence 55 of 200...\n",
            "Generating sequence 56 of 200...\n",
            "Generating sequence 57 of 200...\n",
            "Generating sequence 58 of 200...\n",
            "Generating sequence 59 of 200...\n",
            "Generating sequence 60 of 200...\n",
            "Generating sequence 61 of 200...\n",
            "Generating sequence 62 of 200...\n",
            "Generating sequence 63 of 200...\n",
            "Generating sequence 64 of 200...\n",
            "Generating sequence 65 of 200...\n",
            "Generating sequence 66 of 200...\n",
            "Generating sequence 67 of 200...\n",
            "Generating sequence 68 of 200...\n",
            "Generating sequence 69 of 200...\n",
            "Generating sequence 70 of 200...\n",
            "Generating sequence 71 of 200...\n",
            "Generating sequence 72 of 200...\n",
            "Generating sequence 73 of 200...\n",
            "Generating sequence 74 of 200...\n",
            "Generating sequence 75 of 200...\n",
            "Generating sequence 76 of 200...\n",
            "Generating sequence 77 of 200...\n",
            "Generating sequence 78 of 200...\n",
            "Generating sequence 79 of 200...\n",
            "Generating sequence 80 of 200...\n",
            "Generating sequence 81 of 200...\n",
            "Generating sequence 82 of 200...\n",
            "Generating sequence 83 of 200...\n",
            "Generating sequence 84 of 200...\n",
            "Generating sequence 85 of 200...\n",
            "Generating sequence 86 of 200...\n",
            "Generating sequence 87 of 200...\n",
            "Generating sequence 88 of 200...\n",
            "Generating sequence 89 of 200...\n",
            "Generating sequence 90 of 200...\n",
            "Generating sequence 91 of 200...\n",
            "Generating sequence 92 of 200...\n",
            "Generating sequence 93 of 200...\n",
            "Generating sequence 94 of 200...\n",
            "Generating sequence 95 of 200...\n",
            "Generating sequence 96 of 200...\n",
            "Generating sequence 97 of 200...\n",
            "Generating sequence 98 of 200...\n",
            "Generating sequence 99 of 200...\n",
            "Generating sequence 100 of 200...\n",
            "Generating sequence 101 of 200...\n",
            "Generating sequence 102 of 200...\n",
            "Generating sequence 103 of 200...\n",
            "Generating sequence 104 of 200...\n",
            "Generating sequence 105 of 200...\n",
            "Generating sequence 106 of 200...\n",
            "Generating sequence 107 of 200...\n",
            "Generating sequence 108 of 200...\n",
            "Generating sequence 109 of 200...\n",
            "Generating sequence 110 of 200...\n",
            "Generating sequence 111 of 200...\n",
            "Generating sequence 112 of 200...\n",
            "Generating sequence 113 of 200...\n",
            "Generating sequence 114 of 200...\n",
            "Generating sequence 115 of 200...\n",
            "Generating sequence 116 of 200...\n",
            "Generating sequence 117 of 200...\n",
            "Generating sequence 118 of 200...\n",
            "Generating sequence 119 of 200...\n",
            "Generating sequence 120 of 200...\n",
            "Generating sequence 121 of 200...\n",
            "Generating sequence 122 of 200...\n",
            "Generating sequence 123 of 200...\n",
            "Generating sequence 124 of 200...\n",
            "Generating sequence 125 of 200...\n",
            "Generating sequence 126 of 200...\n",
            "Generating sequence 127 of 200...\n",
            "Generating sequence 128 of 200...\n",
            "Generating sequence 129 of 200...\n",
            "Generating sequence 130 of 200...\n",
            "Generating sequence 131 of 200...\n",
            "Generating sequence 132 of 200...\n",
            "Generating sequence 133 of 200...\n",
            "Generating sequence 134 of 200...\n",
            "Generating sequence 135 of 200...\n",
            "Generating sequence 136 of 200...\n",
            "Generating sequence 137 of 200...\n",
            "Generating sequence 138 of 200...\n",
            "Generating sequence 139 of 200...\n",
            "Generating sequence 140 of 200...\n",
            "Generating sequence 141 of 200...\n",
            "Generating sequence 142 of 200...\n",
            "Generating sequence 143 of 200...\n",
            "Generating sequence 144 of 200...\n",
            "Generating sequence 145 of 200...\n",
            "Generating sequence 146 of 200...\n",
            "Generating sequence 147 of 200...\n",
            "Generating sequence 148 of 200...\n",
            "Generating sequence 149 of 200...\n",
            "Generating sequence 150 of 200...\n",
            "Generating sequence 151 of 200...\n",
            "Generating sequence 152 of 200...\n",
            "Generating sequence 153 of 200...\n",
            "Generating sequence 154 of 200...\n",
            "Generating sequence 155 of 200...\n",
            "Generating sequence 156 of 200...\n",
            "Generating sequence 157 of 200...\n",
            "Generating sequence 158 of 200...\n",
            "Generating sequence 159 of 200...\n",
            "Generating sequence 160 of 200...\n",
            "Generating sequence 161 of 200...\n",
            "Generating sequence 162 of 200...\n",
            "Generating sequence 163 of 200...\n",
            "Generating sequence 164 of 200...\n",
            "Generating sequence 165 of 200...\n",
            "Generating sequence 166 of 200...\n",
            "Generating sequence 167 of 200...\n",
            "Generating sequence 168 of 200...\n",
            "Generating sequence 169 of 200...\n",
            "Generating sequence 170 of 200...\n",
            "Generating sequence 171 of 200...\n",
            "Generating sequence 172 of 200...\n",
            "Generating sequence 173 of 200...\n",
            "Generating sequence 174 of 200...\n",
            "Generating sequence 175 of 200...\n",
            "Generating sequence 176 of 200...\n",
            "Generating sequence 177 of 200...\n",
            "Generating sequence 178 of 200...\n",
            "Generating sequence 179 of 200...\n",
            "Generating sequence 180 of 200...\n",
            "Generating sequence 181 of 200...\n",
            "Generating sequence 182 of 200...\n",
            "Generating sequence 183 of 200...\n",
            "Generating sequence 184 of 200...\n",
            "Generating sequence 185 of 200...\n",
            "Generating sequence 186 of 200...\n",
            "Generating sequence 187 of 200...\n",
            "Generating sequence 188 of 200...\n",
            "Generating sequence 189 of 200...\n",
            "Generating sequence 190 of 200...\n",
            "Generating sequence 191 of 200...\n",
            "Generating sequence 192 of 200...\n",
            "Generating sequence 193 of 200...\n",
            "Generating sequence 194 of 200...\n",
            "Generating sequence 195 of 200...\n",
            "Generating sequence 196 of 200...\n",
            "Generating sequence 197 of 200...\n",
            "Generating sequence 198 of 200...\n",
            "Generating sequence 199 of 200...\n",
            "Generating sequence 200 of 200...\n",
            "Saving samples...\n",
            "Generated samples were saved to generated_samples/gansEEGSyntheticData.csv\n"
          ]
        },
        {
          "output_type": "execute_result",
          "data": {
            "text/plain": [
              "'\\nargv = dict(\\n    file = \"checkpoint.pt\",\\n    path_samples = \"gansEEGSyntheticData.csv\",\\n    num_samples_total = 10000\\n)\\n\\ngenerate_samples(argv)\\n'"
            ],
            "application/vnd.google.colaboratory.intrinsic+json": {
              "type": "string"
            }
          },
          "metadata": {},
          "execution_count": 10
        }
      ],
      "source": [
        "#We trained our GAN for 5 epochs and this will result in a model that is severally under-trained, so we will instead use a pre-trained GAN that trained for 8000 epochs:\n",
        "\n",
        "!python EEG-GAN/generate_samples_main.py model=\"EEG-GAN/trained_models/gansEEGModel.pt\" save_name=\"EEG-GAN/generated_samples/gansEEGSyntheticData.csv\" num_samples_total=10000\n",
        "\n",
        "#The GAN training results fom the last step results in a file named checkpoint.pt. If you want to continue with this file, use the following line of code:\n",
        "\n",
        "!python EEG-GAN/generate_samples_main.py model=\"checkpoint.pt\" save_name=\"EEG-GAN/generated_samples/gansEEGSyntheticData.csv\" num_samples_total=10000"
      ]
    },
    {
      "cell_type": "markdown",
      "metadata": {
        "id": "ccXFDBtMkAZp"
      },
      "source": [
        "# Step 3. Synthetic Data"
      ]
    },
    {
      "cell_type": "markdown",
      "metadata": {
        "id": "Do1I6oHOkAZq"
      },
      "source": [
        "## Step 3.1. Load Data\n",
        "We will now load the synthetic data we just produced, and confirm the number of samples per condition"
      ]
    },
    {
      "cell_type": "code",
      "execution_count": null,
      "metadata": {
        "colab": {
          "base_uri": "https://localhost:8080/"
        },
        "id": "_nI-kEMHkAZq",
        "outputId": "ab6d0366-de9d-47a6-800b-7c4dc1d03715"
      },
      "outputs": [
        {
          "output_type": "stream",
          "name": "stdout",
          "text": [
            "\u001b[1mDisplay first few rows/columns of data\u001b[0m\n",
            "['Condition', 'Time1', 'Time2', 'Time3', 'Time4', 'Time5']\n",
            "[[0.         0.41459531 0.41085833 0.40594965 0.43296164 0.46009856]\n",
            " [1.         0.39360613 0.42532527 0.45428818 0.46179879 0.4897573 ]\n",
            " [0.         0.42378098 0.39478683 0.42552662 0.42726082 0.42018604]]\n",
            "\n",
            "\u001b[1mDisplay trial counts for each condition\u001b[0m\n",
            "\u001b[1mWin: \u001b[0m5000\n",
            "\u001b[1mLose: \u001b[0m5000\n"
          ]
        }
      ],
      "source": [
        "#Load Data\n",
        "syntheticEEG = np.genfromtxt('generated_samples/gansEEGSyntheticData.csv', delimiter=',', skip_header=1)\n",
        "\n",
        "#Print head of the data\n",
        "print(printFormat.bold + 'Display first few rows/columns of data' + printFormat.end)\n",
        "print(['Condition','Time1','Time2','Time3','Time4','Time5'])\n",
        "print(syntheticEEG[0:3,0:6])\n",
        "\n",
        "#Print condition sample counts\n",
        "print('\\n' + printFormat.bold + 'Display trial counts for each condition' + printFormat.end)\n",
        "print(printFormat.bold +'Win: ' + printFormat.end + str(np.sum(syntheticEEG[:,0]==0)))\n",
        "print(printFormat.bold +'Lose: ' + printFormat.end + str(np.sum(syntheticEEG[:,0]==1)))"
      ]
    },
    {
      "cell_type": "markdown",
      "metadata": {
        "id": "GlpCh7Y2kAZq"
      },
      "source": [
        "## Step 3.2. View Data"
      ]
    },
    {
      "cell_type": "markdown",
      "metadata": {
        "id": "FlkxeBUDkAZq"
      },
      "source": [
        "### Step 3.2.1. View Trial-Level Data\n",
        "We will view 5 trial level data for both the empirical and synthetic data."
      ]
    },
    {
      "cell_type": "code",
      "execution_count": null,
      "metadata": {
        "colab": {
          "base_uri": "https://localhost:8080/",
          "height": 410
        },
        "id": "QIN8DXGEkAZr",
        "outputId": "33cace4d-b9e4-480b-d8f5-448dbbc295b7"
      },
      "outputs": [
        {
          "output_type": "display_data",
          "data": {
            "text/plain": [
              "<Figure size 1200x400 with 10 Axes>"
            ],
            "image/png": "[encoded data removed]"
          },
          "metadata": {}
        }
      ],
      "source": [
        "#Determine 5 random trials to plot\n",
        "empiricalIndex = rnd.sample(range(0, empiricalEEG.shape[0]), 5)\n",
        "syntheticIndex = rnd.sample(range(0, syntheticEEG.shape[0]), 5)\n",
        "\n",
        "#Plot trial data\n",
        "f, ax = plt.subplots(5, 2, figsize=(12, 4))\n",
        "for c in range(5):\n",
        "    ax[c,0].plot(time,empiricalEEG[empiricalIndex[c],3:]) #Note, we here add the same filter simply for visualization\n",
        "    ax[c,0].set_yticks([])\n",
        "\n",
        "    ax[c,1].plot(time,syntheticEEG[syntheticIndex[c],1:])\n",
        "    ax[c,1].spines[['left', 'right', 'top']].set_visible(False)\n",
        "    ax[c,1].set_yticks([])\n",
        "\n",
        "    if c == 0:\n",
        "        ax[c,0].set_title('Empirical', loc='left')\n",
        "        ax[c,1].set_title('Synthetic', loc='left')\n",
        "    else:\n",
        "        ax[c,0].set_title(' ')\n",
        "        ax[c,1].set_title(' ')\n",
        "\n",
        "    if c != 4:\n",
        "        ax[c,0].spines[['bottom', 'left', 'right', 'top']].set_visible(False)\n",
        "        ax[c,1].spines[['bottom', 'left', 'right', 'top']].set_visible(False)\n",
        "        ax[c,0].set_xticks([])\n",
        "        ax[c,1].set_xticks([])\n",
        "    else:\n",
        "        ax[c,0].spines[['left', 'right', 'top']].set_visible(False)\n",
        "        ax[c,1].spines[['left', 'right', 'top']].set_visible(False)\n",
        "        ax[c,0].set_xlabel('Time (ms)')\n",
        "        ax[c,1].set_xlabel('Time (ms)')"
      ]
    },
    {
      "cell_type": "markdown",
      "metadata": {
        "id": "VmeASxcckAZs"
      },
      "source": [
        "## Step 3.2.2. View ERP Data\n",
        "We will now show the empirical and synthetic ERPs side-by-side for comparison."
      ]
    },
    {
      "cell_type": "code",
      "execution_count": null,
      "metadata": {
        "colab": {
          "base_uri": "https://localhost:8080/",
          "height": 428
        },
        "id": "_PDW0m_BkAZs",
        "outputId": "98c13658-b879-46b6-904d-10b5ddf58aa3"
      },
      "outputs": [
        {
          "output_type": "execute_result",
          "data": {
            "text/plain": [
              "<matplotlib.legend.Legend at 0x7d068856d150>"
            ]
          },
          "metadata": {},
          "execution_count": 13
        },
        {
          "output_type": "display_data",
          "data": {
            "text/plain": [
              "<Figure size 1200x400 with 2 Axes>"
            ],
            "image/png": "[encoded data removed]"
          },
          "metadata": {}
        }
      ],
      "source": [
        "#Grand average the synthetic waveforms for each condition\n",
        "synLossWaveform = np.mean(syntheticEEG[np.r_[syntheticEEG[:,0]==1],1:],axis=0)\n",
        "synWinWaveform = np.mean(syntheticEEG[np.r_[syntheticEEG[:,0]==0],1:],axis=0)\n",
        "\n",
        "#Set up figure\n",
        "f, (ax1, ax2) = plt.subplots(1, 2, figsize=(12, 4))\n",
        "\n",
        "#Plot each empirical waveform (note, we here add the same processing simply for visualization)\n",
        "ax1.plot(time, scale(winWaveform), label = 'Empirical')\n",
        "ax1.plot(time, scale(synWinWaveform), label = 'Synthetic')\n",
        "\n",
        "#Format plot\n",
        "ax1.set_ylabel('Voltage ($\\mu$V)')\n",
        "ax1.set_xlabel('Time (ms)')\n",
        "ax1.set_title('Win', loc='left')\n",
        "ax1.spines[['right', 'top']].set_visible(False)\n",
        "ax1.tick_params(left = False, labelleft = False)\n",
        "ax1.legend(frameon=False)\n",
        "\n",
        "#Plot each synthetic waveform\n",
        "ax2.plot(time, scale(lossWaveform), label = 'Empirical')\n",
        "ax2.plot(time, scale(synLossWaveform), label = 'Synthetic')\n",
        "\n",
        "#Format plot\n",
        "ax2.set_ylabel('Voltage ($\\mu$V)')\n",
        "ax2.set_xlabel('Time (ms)')\n",
        "ax2.set_title('Lose', loc='left')\n",
        "ax2.spines[['right', 'top']].set_visible(False)\n",
        "ax2.tick_params(left = False, labelleft = False)\n",
        "ax2.legend(frameon=False)"
      ]
    },
    {
      "cell_type": "markdown",
      "metadata": {
        "id": "vQakI-rzkAZs"
      },
      "source": [
        "# Step 4. Classification"
      ]
    },
    {
      "cell_type": "markdown",
      "metadata": {
        "id": "7CJVm8ywkAZt"
      },
      "source": [
        "## Step 4.1. Preparing Validation Data\n",
        "We also provide a validation dataset with samples not contained in the empirical dataset. Here, we prepare them for classification."
      ]
    },
    {
      "cell_type": "code",
      "execution_count": null,
      "metadata": {
        "id": "uUeQQDeakAZt"
      },
      "outputs": [],
      "source": [
        "#Set seed for a bit of reproducibility\n",
        "rnd.seed(1618)\n",
        "\n",
        "#This function averages trial-level empirical data for each participant and condition\n",
        "def averageEEG(EEG):\n",
        "    participants = np.unique(EEG[:,0])\n",
        "    averagedEEG = []\n",
        "    for participant in participants:\n",
        "        for condition in range(2):\n",
        "            averagedEEG.append(np.mean(EEG[(EEG[:,0]==participant)&(EEG[:,1]==condition),:], axis=0))\n",
        "    return np.array(averagedEEG)\n",
        "\n",
        "#Load test data to predict (data that neither the GAN nor the classifier will ever see in training)\n",
        "EEGDataTest = np.genfromtxt('data/gansEEGValidationData.csv', delimiter=',', skip_header=1)\n",
        "EEGDataTest = averageEEG(EEGDataTest)[:,1:]\n",
        "\n",
        "#Extract test outcome and predictor data\n",
        "y_test = EEGDataTest[:,0]\n",
        "x_test = EEGDataTest[:,2:]\n",
        "x_test = scale(x_test,axis = 1)"
      ]
    },
    {
      "cell_type": "markdown",
      "metadata": {
        "id": "XpxEbNrKkAZt"
      },
      "source": [
        "## Step 4.2. Preparing Empirical Data\n",
        "We now prepare the empirical training set. Our predictors will be the entire time series of 100 datapoints, however, in the manuscript we also ran parallel classifications with three extracted EEG features."
      ]
    },
    {
      "cell_type": "code",
      "execution_count": null,
      "metadata": {
        "id": "MFjeY43DkAZt"
      },
      "outputs": [],
      "source": [
        "#Create participant by condition averages\n",
        "Emp_train = averageEEG(empiricalEEG)[:,1:]\n",
        "\n",
        "#Extract the outcomes\n",
        "Emp_Y_train = Emp_train[:,0]\n",
        "\n",
        "#Scale the predictors\n",
        "Emp_X_train = scale(Emp_train[:,2:], axis=1)\n",
        "\n",
        "#Shuffle the order of samples\n",
        "trainShuffle = rnd.sample(range(len(Emp_X_train)),len(Emp_X_train))\n",
        "Emp_Y_train = Emp_Y_train[trainShuffle]\n",
        "Emp_X_train = Emp_X_train[trainShuffle,:]"
      ]
    },
    {
      "cell_type": "markdown",
      "metadata": {
        "id": "BVVgZ-qHkAZt"
      },
      "source": [
        "## Step 4.3. Preparing Augmented Data\n",
        "We will prepare the augmented dataset by first processing the synthetic data as we did with the empirical data, then combining both the empirical and synthetic dataset to create an augmented dataset."
      ]
    },
    {
      "cell_type": "code",
      "execution_count": null,
      "metadata": {
        "id": "WKxsV0u-kAZt"
      },
      "outputs": [],
      "source": [
        "#This function averages trial-level synthetic data in bundles of 50 trials, constrained to each condition\n",
        "def averageSynthetic(synData):\n",
        "    samplesToAverage = 50\n",
        "\n",
        "    lossSynData = synData[synData[:,0]==0,:]\n",
        "    winSynData = synData[synData[:,0]==1,:]\n",
        "\n",
        "    lossTimeIndices = np.arange(0,lossSynData.shape[0],samplesToAverage)\n",
        "    winTimeIndices = np.arange(0,winSynData.shape[0],samplesToAverage)\n",
        "\n",
        "    newLossSynData = [np.insert(np.mean(lossSynData[int(trialIndex):int(trialIndex)+samplesToAverage,1:],axis=0),0,0) for trialIndex in lossTimeIndices]\n",
        "    newWinSynData = [np.insert(np.mean(winSynData[int(trialIndex):int(trialIndex)+samplesToAverage,1:],axis=0),0,1) for trialIndex in winTimeIndices]\n",
        "\n",
        "    avgSynData = np.vstack((np.asarray(newLossSynData),np.asarray(newWinSynData)))\n",
        "\n",
        "    return avgSynData\n",
        "\n",
        "#Create 'participant' by condition averages\n",
        "Syn_train = averageSynthetic(syntheticEEG)\n",
        "\n",
        "#Extract the outcomes\n",
        "Syn_Y_train = Syn_train[:,0]\n",
        "\n",
        "#Scale the predictors\n",
        "Syn_X_train = scale(Syn_train[:,1:], axis=1)\n",
        "\n",
        "#Combine empirical and synthetic datasets to create an augmented dataset\n",
        "Aug_Y_train = np.concatenate((Emp_Y_train,Syn_Y_train))\n",
        "Aug_X_train = np.concatenate((Emp_X_train,Syn_X_train))\n",
        "\n",
        "#Shuffle the order of samples\n",
        "trainShuffle = rnd.sample(range(len(Aug_X_train)),len(Aug_X_train))\n",
        "Aug_Y_train = Aug_Y_train[trainShuffle]\n",
        "Aug_X_train = Aug_X_train[trainShuffle,:]"
      ]
    },
    {
      "cell_type": "markdown",
      "metadata": {
        "id": "tZGHTbbrkAZu"
      },
      "source": [
        "# Step 5. Support Vector Machine"
      ]
    },
    {
      "cell_type": "markdown",
      "metadata": {
        "id": "6WapE0PYkAZu"
      },
      "source": [
        "## Step 5.1. Define Search Space"
      ]
    },
    {
      "cell_type": "code",
      "execution_count": null,
      "metadata": {
        "id": "KQzYLGa9kAZu"
      },
      "outputs": [],
      "source": [
        "#Determine SVM search space\n",
        "param_grid_SVM = [\n",
        "    {'C': [0.1, 1, 10, 100],\n",
        "    'gamma': [1, 0.1, 0.01, 0.001],\n",
        "    'kernel': ['rbf', 'poly', 'sigmoid']}]"
      ]
    },
    {
      "cell_type": "markdown",
      "metadata": {
        "id": "Jw7WVyfPkAZu"
      },
      "source": [
        "## Step 5.2. Classify Empirical Data"
      ]
    },
    {
      "cell_type": "code",
      "execution_count": null,
      "metadata": {
        "id": "D0TIIo26kAZv"
      },
      "outputs": [],
      "source": [
        "#Setup tracking variable\n",
        "predictionScores_SVM = []\n",
        "\n",
        "#Setup SVM grid search\n",
        "optimal_params = GridSearchCV(\n",
        "    SVC(),\n",
        "    param_grid_SVM,\n",
        "    refit = True,\n",
        "    verbose = False)\n",
        "\n",
        "#Conduct classification\n",
        "optimal_params.fit(Emp_X_train, Emp_Y_train)\n",
        "SVMOutput = optimal_params.predict(x_test)\n",
        "\n",
        "#Determine performance\n",
        "predictResults = classification_report(y_test, SVMOutput, output_dict=True)\n",
        "predictionScores_SVM.append(round(predictResults['accuracy']*100))"
      ]
    },
    {
      "cell_type": "markdown",
      "metadata": {
        "id": "hyz5VRdBkAZv"
      },
      "source": [
        "## Step 5.3. Classify Augmented Data"
      ]
    },
    {
      "cell_type": "code",
      "execution_count": null,
      "metadata": {
        "colab": {
          "base_uri": "https://localhost:8080/"
        },
        "id": "ZJoR3V67kAZv",
        "outputId": "9889c687-b82e-4966-faa0-8c1a0a9b33ff"
      },
      "outputs": [
        {
          "output_type": "stream",
          "name": "stdout",
          "text": [
            "Empirical Classification Accuracy: 52%\n",
            "Augmented Classification Accuracy: 63%\n"
          ]
        }
      ],
      "source": [
        "#Setup SVM grid search\n",
        "optimal_params = GridSearchCV(\n",
        "    SVC(),\n",
        "    param_grid_SVM,\n",
        "    refit = True,\n",
        "    verbose = False)\n",
        "\n",
        "#Conduct classification\n",
        "optimal_params.fit(Aug_X_train, Aug_Y_train)\n",
        "SVMOutput = optimal_params.predict(x_test)\n",
        "\n",
        "#Determine performance\n",
        "predictResults = classification_report(y_test, SVMOutput, output_dict=True)\n",
        "predictionScores_SVM.append(round(predictResults['accuracy']*100))\n",
        "\n",
        "#Report results\n",
        "print('Empirical Classification Accuracy: ' + str(predictionScores_SVM[0]) + '%')\n",
        "print('Augmented Classification Accuracy: ' + str(predictionScores_SVM[1]) + '%')"
      ]
    },
    {
      "cell_type": "markdown",
      "metadata": {
        "id": "PgeSJw4CkAZv"
      },
      "source": [
        "# Step 6. Neural Network"
      ]
    },
    {
      "cell_type": "markdown",
      "metadata": {
        "id": "6i5cdV-ckAZv"
      },
      "source": [
        "## Step 6.1. Define Search Space"
      ]
    },
    {
      "cell_type": "code",
      "execution_count": null,
      "metadata": {
        "id": "5PdPkSnfkAZw"
      },
      "outputs": [],
      "source": [
        "#Determine neural network search space\n",
        "param_grid_NN = [\n",
        "    {'hidden_layer_sizes': [(25,), (50,), (25, 25), (50,50), (50,25,50)],\n",
        "    'activation': ['logistic', 'tanh', 'relu'],\n",
        "    'solver': ['sgd', 'adam'],\n",
        "    'alpha': [0.0001, 0.05],\n",
        "    'learning_rate': ['constant', 'invscaling', 'adaptive'],\n",
        "    'max_iter' : [10000]}]"
      ]
    },
    {
      "cell_type": "markdown",
      "metadata": {
        "id": "cODIgDR1kAZw"
      },
      "source": [
        "## Step 6.2. Classify Empirical Data"
      ]
    },
    {
      "cell_type": "code",
      "execution_count": null,
      "metadata": {
        "colab": {
          "base_uri": "https://localhost:8080/"
        },
        "id": "uA8lC51CkAZw",
        "outputId": "74af69d8-b6bc-4793-8a03-9e794ba5a5cd"
      },
      "outputs": [
        {
          "output_type": "stream",
          "name": "stdout",
          "text": [
            "This may take a few minutes...\n",
            "Fitting 5 folds for each of 180 candidates, totalling 900 fits\n"
          ]
        }
      ],
      "source": [
        "#Signify computational time\n",
        "print('This may take a few minutes...')\n",
        "\n",
        "#Setup tracking variable\n",
        "predictionScores_NN = []\n",
        "\n",
        "#Setup neural network grid search\n",
        "optimal_params = GridSearchCV(\n",
        "    MLPClassifier(),\n",
        "    param_grid_NN,\n",
        "    verbose = True,\n",
        "    n_jobs = -1)\n",
        "\n",
        "#Conduct classification\n",
        "optimal_params.fit(Emp_X_train, Emp_Y_train);\n",
        "neuralNetOutput = MLPClassifier(hidden_layer_sizes=optimal_params.best_params_['hidden_layer_sizes'],\n",
        "                            activation=optimal_params.best_params_['activation'],\n",
        "                            solver = optimal_params.best_params_['solver'],\n",
        "                            alpha = optimal_params.best_params_['alpha'],\n",
        "                            learning_rate = optimal_params.best_params_['learning_rate'],\n",
        "                            max_iter = optimal_params.best_params_['max_iter'])\n",
        "neuralNetOutput.fit(Emp_X_train, Emp_Y_train)\n",
        "y_true, y_pred = y_test , neuralNetOutput.predict(x_test)\n",
        "\n",
        "#Determine performance\n",
        "predictResults = classification_report(y_true, y_pred, output_dict=True)\n",
        "predictScore = round(predictResults['accuracy']*100)\n",
        "predictionScores_NN.append(predictScore)"
      ]
    },
    {
      "cell_type": "markdown",
      "metadata": {
        "id": "AEkqLerPkAZw"
      },
      "source": [
        "## Step 6.3. Classify Augmented Data"
      ]
    },
    {
      "cell_type": "code",
      "execution_count": null,
      "metadata": {
        "id": "XAelrf1AkAZw",
        "colab": {
          "base_uri": "https://localhost:8080/"
        },
        "outputId": "f4535e31-adc5-4f76-8e34-48f3ab4df9e1"
      },
      "outputs": [
        {
          "output_type": "stream",
          "name": "stdout",
          "text": [
            "This may take twice as long as the empirical neural network classification...\n",
            "Fitting 5 folds for each of 180 candidates, totalling 900 fits\n",
            "Empirical Classification Accuracy: 55%\n",
            "Augmented Classification Accuracy: 67%\n"
          ]
        }
      ],
      "source": [
        "#Signify computational time\n",
        "print('This may take twice as long as the empirical neural network classification...')\n",
        "\n",
        "#Setup neural network grid search\n",
        "optimal_params = GridSearchCV(\n",
        "    MLPClassifier(),\n",
        "    param_grid_NN,\n",
        "    verbose = True,\n",
        "    n_jobs = -1)\n",
        "\n",
        "#Conduct classification\n",
        "optimal_params.fit(Aug_X_train, Aug_Y_train);\n",
        "neuralNetOutput = MLPClassifier(hidden_layer_sizes=optimal_params.best_params_['hidden_layer_sizes'],\n",
        "                            activation=optimal_params.best_params_['activation'],\n",
        "                            solver = optimal_params.best_params_['solver'],\n",
        "                            alpha = optimal_params.best_params_['alpha'],\n",
        "                            learning_rate = optimal_params.best_params_['learning_rate'],\n",
        "                            max_iter = optimal_params.best_params_['max_iter'])\n",
        "neuralNetOutput.fit(Aug_X_train, Aug_Y_train)\n",
        "y_true, y_pred = y_test , neuralNetOutput.predict(x_test)\n",
        "\n",
        "#Determine performance\n",
        "predictResults = classification_report(y_true, y_pred, output_dict=True)\n",
        "predictScore = round(predictResults['accuracy']*100)\n",
        "predictionScores_NN.append(predictScore)\n",
        "\n",
        "#Report results\n",
        "print('Empirical Classification Accuracy: ' + str(predictionScores_NN[0]) + '%')\n",
        "print('Augmented Classification Accuracy: ' + str(predictionScores_NN[1]) + '%')"
      ]
    },
    {
      "cell_type": "markdown",
      "metadata": {
        "id": "YW1Kac7zkAZx"
      },
      "source": [
        "# Step 7. Final Report"
      ]
    },
    {
      "cell_type": "markdown",
      "metadata": {
        "id": "HKEO-OSZkAZx"
      },
      "source": [
        "## Step 7.1. Present Classification Performance\n",
        "We present the performance accuracies in text."
      ]
    },
    {
      "cell_type": "code",
      "execution_count": null,
      "metadata": {
        "id": "PTz8C9PYkAZx",
        "colab": {
          "base_uri": "https://localhost:8080/"
        },
        "outputId": "513cef4b-c64c-4cc0-a7d5-6234282461bf"
      },
      "outputs": [
        {
          "output_type": "stream",
          "name": "stdout",
          "text": [
            "\u001b[1mSVM Classification Results:\u001b[0m\n",
            "Empirical Classification Accuracy: 52%\n",
            "Augmented Classification Accuracy: 66%\n",
            "\n",
            "\u001b[1mNeural Network Classification Results:\u001b[0m\n",
            "Empirical Classification Accuracy: 60%\n",
            "Augmented Classification Accuracy: 68%\n",
            "\n",
            "\u001b[3mNote: Due to randomization in this process, these accuracies will vary.\u001b[0m\n"
          ]
        }
      ],
      "source": [
        "#Report results\n",
        "print(printFormat.bold + 'SVM Classification Results:' + printFormat.end)\n",
        "print('Empirical Classification Accuracy: ' + str(predictionScores_SVM[0]) + '%')\n",
        "print('Augmented Classification Accuracy: ' + str(predictionScores_SVM[1]) + '%')\n",
        "\n",
        "#Report results\n",
        "print('\\n' + printFormat.bold + 'Neural Network Classification Results:' + printFormat.end)\n",
        "print('Empirical Classification Accuracy: ' + str(predictionScores_NN[0]) + '%')\n",
        "print('Augmented Classification Accuracy: ' + str(predictionScores_NN[1]) + '%')\n",
        "print('\\n' + printFormat.italic + 'Note: Due to randomization in this process, these accuracies will vary.'+ printFormat.end)\n"
      ]
    },
    {
      "cell_type": "markdown",
      "metadata": {
        "id": "--zWc4u8kAZx"
      },
      "source": [
        "## Step 7.2. Plot Classification Performance\n",
        "We present the performance accuracies in a plot."
      ]
    },
    {
      "cell_type": "code",
      "execution_count": null,
      "metadata": {
        "id": "mgVdDQookAZx",
        "colab": {
          "base_uri": "https://localhost:8080/",
          "height": 435
        },
        "outputId": "3440044d-8dce-4336-d0db-f55c62003c09"
      },
      "outputs": [
        {
          "output_type": "display_data",
          "data": {
            "text/plain": [
              "<Figure size 640x480 with 1 Axes>"
            ],
            "image/png": "[encoded data removed]"
          },
          "metadata": {}
        }
      ],
      "source": [
        "ax = plt.subplot(111)\n",
        "plt.bar([.9,1.9],[predictionScores_SVM[0],predictionScores_NN[0]], width=.2)\n",
        "plt.bar([1.1,2.1],[predictionScores_SVM[1],predictionScores_NN[1]], width=.2)\n",
        "plt.ylim([0,round((np.max([predictionScores_SVM,predictionScores_NN])+20)/10)*10])\n",
        "predictionScores = predictionScores_SVM+predictionScores_NN\n",
        "for xi, x in enumerate([.86,1.06,1.86,2.06]):\n",
        "    plt.text(x,predictionScores[xi]+1,str(predictionScores[xi])+'%')\n",
        "plt.xticks([1,2], labels = ['SVM', 'Neural Network'])\n",
        "plt.legend(['Empirical','Augmented'], loc='upper right', frameon=False)\n",
        "ax.spines[['right', 'top']].set_visible(False)"
      ]
    }
  ],
  "metadata": {
    "colab": {
      "provenance": [],
      "collapsed_sections": [
        "51bGZZXfkAZl",
        "aTxPJRfckAZn"
      ],
      "include_colab_link": true
    },
    "gpuClass": "standard",
    "kernelspec": {
      "display_name": "gansEEGEnvironment",
      "language": "python",
      "name": "python3"
    },
    "language_info": {
      "codemirror_mode": {
        "name": "ipython",
        "version": 3
      },
      "file_extension": ".py",
      "mimetype": "text/x-python",
      "name": "python",
      "nbconvert_exporter": "python",
      "pygments_lexer": "ipython3",
      "version": "3.10.10"
    },
    "accelerator": "GPU"
  },
  "nbformat": 4,
  "nbformat_minor": 0
}