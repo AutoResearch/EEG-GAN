{
  "cells": [
    {
      "cell_type": "markdown",
      "metadata": {
        "id": "view-in-github"
      },
      "source": [
        "<a href=\"https://colab.research.google.com/github/AutoResearch/EEG-GAN/blob/3-release-as-pip-package/docs/Tutorials/Tutorial_AEGAN.ipynb\" target=\"_parent\"><img src=\"https://colab.research.google.com/assets/colab-badge.svg\" alt=\"Open In Colab\"/></a>"
      ]
    },
    {
      "cell_type": "markdown",
      "metadata": {
        "id": "Ijp0w3vokAZc"
      },
      "source": [
        "# GAN Tutorial\n",
        "\n",
        "---\n",
        "---\n",
        "\n",
        "# Augmenting EEG with Generative Adversarial Networks<br>\n",
        "\n",
        "---\n",
        "---\n",
        "\n",
        "We here use Generative Adversarial Networks (GANs) to create trial-level synthetic EEG samples. We can then use these samples as extra data to train whichever classifier we want to use (e.g.,  Support Vector Machine, Neural Network).\n",
        "\n",
        "GANs are machine learning frameworks that consist of two adversarial neural network agents, namely the generator and the discriminator. The generator is trained to create novel samples that are indiscernible from real samples. In the current context, the generator produces realistic continuous EEG activity, conditioned on a set of experimental variables, which contain underlying neural features representative of the outcomes being classified. For example, depression manifests as increased alpha oscillatory activity in the EEG signal, and thus, an ideal generator would produce continuous EEG that includes these alpha signatures. In contrast to the generator, the discriminator determines whether a given sample is real or synthetically produced by the generator. The core insight of GANs is that the generator can effectively learn from the discriminator. Specifically, the generator will consecutively produce more realistic synthetic samples with the goal of “fooling” the discriminator into believing them as real. Once it has achieved realistic samples that the discriminator cannot discern, it can be used to generate synthetic data—or in this context, synthetic EEG data.\n",
        "\n",
        "The dataset provided is a subset of data from Williams et al., 2021 (*Psychophysics*). In this study, participants completed a two-armed bandit gambling task where they needed to discern which of two coloured squares were more often rewarding through trial-and-error. Each trial presented two coloured squares that the participants were to choose from, and provided performance feedback as “WIN” or “LOSE”, yielding two conditions of interest. For each pair of squares, one had a win rate of 60% while the other had a win rate of 10%. Participants saw each pair of colours twenty times consecutively. There were a total of five pairs of squares (with colours randomly determined), resulting in one hundred trials per participant. This paradigm elicits well-known frontal neural differences when contrasting the win and lose outcomes, namely in the reward positivity, delta oscillations, and theta oscillations (see Williams et al., 2021; Psychophysics).\n",
        "\n",
        "In this tutorial, we will classify the WIN and LOSE conditions using both Support Vector Machine and Neural Network classifiers. We will:\n",
        "1. Train a GAN on trial-level EEG data\n",
        "2. Generate synthetic EEG data\n",
        "3. Create an augmented EEG dataset\n",
        "4. Determine classification performance using both the empirical and augmented datasets\n",
        "    - Empirical Dataset: We train the classifer on the empirical data that was used to train the GANs\n",
        "    - Augmented Dataset: We train the classifer on the empirical data with the appended synthetic samples\n",
        "\n",
        "---\n",
        "---\n",
        "## Evaluation of EEG-GAN\n",
        "**Enhancing EEG Data Classification Across Diverse Contexts Using Generative Adversarial Networks**<br>\n",
        "$Williams$, $Weinhardt$, $Hewson$, $Plomecka$, $Langer$, & $Musslick$ (*in prep, 2024*)<br>\n",
        "\n",
        "**Augmenting EEG with Generative Adversarial Networks Enhances Brain Decoding Across Classifiers and Sample Sizes**<br>\n",
        "$Williams$, $Weinhardt$, $Wirzberger$, & $Musslick$ (*Proceedings of the Annual Meeting of the Cognitive Science Society, 2023*)<br>\n",
        "\n",
        "---\n",
        "---\n",
        "## Table of Contents\n",
        "    Step 0. Installing and Loading Modules\n",
        "        Step 0.1. Installing Modules\n",
        "        Step 0.2. Loading Modules\n",
        "    Step 1. EEG Data\n",
        "        Step 1.1. Load Data\n",
        "        Step 1.2. View Data\n",
        "    Step 2. AE-GAN\n",
        "        Step 2.1. Exploring the EEG-GAN Package Functions\n",
        "            Step 2.1.1. GAN Training Help\n",
        "            Step 2.1.2. AE Training Help\n",
        "            Step 2.1.3. Visualize Help\n",
        "            Step 2.1.4. Generate Samples Help\n",
        "        Step 2.2.A Training the AE-GAN\n",
        "        Step 2.2.B Training the GAN (Optional)\n",
        "        Step 2.3. Visualizing GAN Losses\n",
        "        Step 2.4. Generating Synthetic Data\n",
        "    Step 3. Synthetic Data\n",
        "        Step 3.1. Load Data\n",
        "        Step 3.2. View Data\n",
        "            Step 3.2.1. View Trial-Level Data\n",
        "            Step 3.2.2. View ERP Data\n",
        "    Step 4. Classification Setup\n",
        "        Step 4.1. Preparing Validation Data\n",
        "        Step 4.2. Preparing Empirical Data\n",
        "        Step 4.3. Preparing Augmented Data\n",
        "    Step 5. Support Vector Machine\n",
        "        Step 5.1. Define Search Space\n",
        "        Step 5.2. Classify Empirical Data\n",
        "        Step 5.3. Classify Augmented Data\n",
        "    Step 6. Neural Network\n",
        "        Step 6.1. Define Search Space\n",
        "        Step 6.2. Classify Empirical Data\n",
        "        Step 6.3. Classify Augmented Data\n",
        "    Step 7. Final Report\n",
        "        Step 7.1. Present Classification Performance\n",
        "        Step 7.2. Plot Classification Performance\n",
        "\n",
        "*Note: you can also view an interactive table of contents in your sidebar*"
      ]
    },
    {
      "cell_type": "markdown",
      "metadata": {
        "id": "7CmtEZlWkAZf"
      },
      "source": [
        "# Step 0. Installing and Loading Modules"
      ]
    },
    {
      "cell_type": "markdown",
      "metadata": {
        "id": "FVLsJ6FFkAZh"
      },
      "source": [
        "## Step 0.1. Installing Modules\n",
        "We will now download and install the EEG-GAN package\n"
      ]
    },
    {
      "cell_type": "code",
      "execution_count": 1,
      "metadata": {
        "colab": {
          "base_uri": "https://localhost:8080/"
        },
        "id": "DUYcdiummJZl",
        "outputId": "7dd6c572-26da-4dba-d8d7-7baeb4834bf4"
      },
      "outputs": [
        {
          "name": "stdout",
          "output_type": "stream",
          "text": [
            "Requirement already satisfied: eeggan in /usr/local/lib/python3.10/dist-packages (2.0.0a17)\n",
            "Requirement already satisfied: einops~=0.4.1 in /usr/local/lib/python3.10/dist-packages (from eeggan) (0.4.1)\n",
            "Requirement already satisfied: matplotlib~=3.5.0 in /usr/local/lib/python3.10/dist-packages (from eeggan) (3.5.3)\n",
            "Requirement already satisfied: numpy~=1.21.4 in /usr/local/lib/python3.10/dist-packages (from eeggan) (1.21.6)\n",
            "Requirement already satisfied: pandas~=1.3.4 in /usr/local/lib/python3.10/dist-packages (from eeggan) (1.3.5)\n",
            "Requirement already satisfied: scikit-learn~=1.1.2 in /usr/local/lib/python3.10/dist-packages (from eeggan) (1.1.3)\n",
            "Requirement already satisfied: scipy~=1.8.0 in /usr/local/lib/python3.10/dist-packages (from eeggan) (1.8.1)\n",
            "Requirement already satisfied: torchaudio~=0.12.1 in /usr/local/lib/python3.10/dist-packages (from eeggan) (0.12.1)\n",
            "Requirement already satisfied: torchsummary~=1.5.1 in /usr/local/lib/python3.10/dist-packages (from eeggan) (1.5.1)\n",
            "Requirement already satisfied: torchvision~=0.13.1 in /usr/local/lib/python3.10/dist-packages (from eeggan) (0.13.1)\n",
            "Requirement already satisfied: torch~=1.12.1 in /usr/local/lib/python3.10/dist-packages (from eeggan) (1.12.1)\n",
            "Requirement already satisfied: tqdm~=4.66.1 in /usr/local/lib/python3.10/dist-packages (from eeggan) (4.66.4)\n",
            "Requirement already satisfied: cycler>=0.10 in /usr/local/lib/python3.10/dist-packages (from matplotlib~=3.5.0->eeggan) (0.12.1)\n",
            "Requirement already satisfied: fonttools>=4.22.0 in /usr/local/lib/python3.10/dist-packages (from matplotlib~=3.5.0->eeggan) (4.53.0)\n",
            "Requirement already satisfied: kiwisolver>=1.0.1 in /usr/local/lib/python3.10/dist-packages (from matplotlib~=3.5.0->eeggan) (1.4.5)\n",
            "Requirement already satisfied: packaging>=20.0 in /usr/local/lib/python3.10/dist-packages (from matplotlib~=3.5.0->eeggan) (24.1)\n",
            "Requirement already satisfied: pillow>=6.2.0 in /usr/local/lib/python3.10/dist-packages (from matplotlib~=3.5.0->eeggan) (9.4.0)\n",
            "Requirement already satisfied: pyparsing>=2.2.1 in /usr/local/lib/python3.10/dist-packages (from matplotlib~=3.5.0->eeggan) (3.1.2)\n",
            "Requirement already satisfied: python-dateutil>=2.7 in /usr/local/lib/python3.10/dist-packages (from matplotlib~=3.5.0->eeggan) (2.8.2)\n",
            "Requirement already satisfied: pytz>=2017.3 in /usr/local/lib/python3.10/dist-packages (from pandas~=1.3.4->eeggan) (2023.4)\n",
            "Requirement already satisfied: joblib>=1.0.0 in /usr/local/lib/python3.10/dist-packages (from scikit-learn~=1.1.2->eeggan) (1.4.2)\n",
            "Requirement already satisfied: threadpoolctl>=2.0.0 in /usr/local/lib/python3.10/dist-packages (from scikit-learn~=1.1.2->eeggan) (3.5.0)\n",
            "Requirement already satisfied: typing-extensions in /usr/local/lib/python3.10/dist-packages (from torch~=1.12.1->eeggan) (4.12.2)\n",
            "Requirement already satisfied: requests in /usr/local/lib/python3.10/dist-packages (from torchvision~=0.13.1->eeggan) (2.31.0)\n",
            "Requirement already satisfied: six>=1.5 in /usr/local/lib/python3.10/dist-packages (from python-dateutil>=2.7->matplotlib~=3.5.0->eeggan) (1.16.0)\n",
            "Requirement already satisfied: charset-normalizer<4,>=2 in /usr/local/lib/python3.10/dist-packages (from requests->torchvision~=0.13.1->eeggan) (3.3.2)\n",
            "Requirement already satisfied: idna<4,>=2.5 in /usr/local/lib/python3.10/dist-packages (from requests->torchvision~=0.13.1->eeggan) (3.7)\n",
            "Requirement already satisfied: urllib3<3,>=1.21.1 in /usr/local/lib/python3.10/dist-packages (from requests->torchvision~=0.13.1->eeggan) (2.0.7)\n",
            "Requirement already satisfied: certifi>=2017.4.17 in /usr/local/lib/python3.10/dist-packages (from requests->torchvision~=0.13.1->eeggan) (2024.6.2)\n"
          ]
        }
      ],
      "source": [
        "!pip install eeggan"
      ]
    },
    {
      "cell_type": "markdown",
      "metadata": {
        "id": "zWKScaPAllfB"
      },
      "source": [
        "# Step 0.2. Loading Modules"
      ]
    },
    {
      "cell_type": "code",
      "execution_count": 2,
      "metadata": {
        "colab": {
          "base_uri": "https://localhost:8080/"
        },
        "id": "wlNGlhTckAZh",
        "outputId": "b9b673b6-4be3-4e39-c2e4-bed1e6c4f559"
      },
      "outputs": [
        {
          "name": "stdout",
          "output_type": "stream",
          "text": [
            "Downloading EEG-GAN tutorial files. Once completed, you will find the downloaded files in new directories that have been created during the process.\n",
            "eeggan_training_example.csv has been downloaded and saved to directory data.\n",
            "eeggan_validation_example.csv has been downloaded and saved to directory data.\n",
            "pretrained_autoencoder.pt has been downloaded and saved to directory trained_ae.\n",
            "pretrained_gan.pt has been downloaded and saved to directory trained_models.\n",
            "EEG-GAN tutorial files have been downloaded.\n"
          ]
        }
      ],
      "source": [
        "#Load other modules specific to this notebook\n",
        "import numpy as np\n",
        "import pandas as pd\n",
        "import matplotlib.pyplot as plt\n",
        "import random as rnd\n",
        "from scipy import signal\n",
        "from sklearn.preprocessing import scale\n",
        "from sklearn.model_selection import GridSearchCV\n",
        "from sklearn.svm import SVC\n",
        "from sklearn.neural_network import MLPClassifier\n",
        "from sklearn.metrics import classification_report\n",
        "\n",
        "#Create a print formatting class\n",
        "class printFormat:\n",
        "    bold = '\\033[1m'\n",
        "    italic = '\\033[3m'\n",
        "    end = '\\033[0m'\n",
        "\n",
        "!eeggan setup_tutorial"
      ]
    },
    {
      "cell_type": "markdown",
      "metadata": {
        "id": "634TyK0akAZj"
      },
      "source": [
        "# Step 1. EEG Data"
      ]
    },
    {
      "cell_type": "markdown",
      "metadata": {
        "id": "0jb5A16QkAZj"
      },
      "source": [
        "## Step 1.1. Load Data\n",
        "We will load the provided EEG training data and print some information about what this contains. Note that this is not necessary for the `eeggan` package, which will load the file itself during training. However, it is useful to understand the data structure but also this data will be used later in the classification task."
      ]
    },
    {
      "cell_type": "code",
      "execution_count": 3,
      "metadata": {
        "colab": {
          "base_uri": "https://localhost:8080/"
        },
        "id": "qDTW61ZPkAZj",
        "outputId": "b81969a0-ef96-434f-f13a-2db3cfa71990"
      },
      "outputs": [
        {
          "name": "stdout",
          "output_type": "stream",
          "text": [
            "\u001b[1mDisplay Header and first few rows/columns of data\n",
            " \u001b[0m\u001b[0m\n",
            "   ParticipantID  Condition  Trial  Electrode      Time1      Time2\n",
            "0           12.0        0.0    1.0        1.0   3.457978   4.117102\n",
            "1           12.0        0.0    2.0        1.0 -14.463714 -13.335952\n",
            "2           12.0        0.0    3.0        1.0   6.562403   9.021622\n",
            "3           12.0        0.0    4.0        1.0  -4.326536  -0.771954\n",
            "4           12.0        0.0    5.0        1.0   1.140865   9.707995\n",
            "\n",
            "------------------------------------------------------------------------------------------\n",
            "\u001b[1m\n",
            "Note the first four columns:\u001b[0m\n",
            "    ParticipantID - Indicates different participants\n",
            "    Condition - Indicates the condition (WIN = 0, LOSE = 1) to be classified\n",
            "    Trial - Indicates the trial number for that participant and condition\n",
            "    Electrode - a numerical number ID of each electrode\n",
            "\n",
            "The remaining columns are titled Time1 to Time100 - indicating 100 datapoints per sample.\n",
            "The samples span from -200 to 1000ms around the onset of a feedback stimulus.\n",
            "These are downsampled from the original data, which contained 600 datapoints per sample.\n",
            "\n",
            "------------------------------------------------------------------------------------------\n",
            "\n",
            "\u001b[1mOther characteristics of our data include:\u001b[0m\n",
            "-We have 15 participants in our training set\n",
            "-Participants have an average of 42 (SD: 11) trials per outcome (win, lose)\n",
            "-There are a total of 1129 samples in our data\n",
            "-There is 1 electrode in our data\n"
          ]
        }
      ],
      "source": [
        "#Load the data\n",
        "empiricalHeaders = np.genfromtxt('data/eeggan_training_example.csv', delimiter=',', names=True).dtype.names\n",
        "empiricalEEG = np.genfromtxt('data/eeggan_training_example.csv', delimiter=',', skip_header=1)\n",
        "\n",
        "#Print the head of the data\n",
        "print(printFormat.bold + 'Display Header and first few rows/columns of data\\n \\033[0m' + printFormat.end)\n",
        "print(pd.DataFrame(empiricalEEG, columns=empiricalHeaders).iloc[:5,:6])\n",
        "\n",
        "#Print some information about the columns\n",
        "print('\\n' + '-'*90)\n",
        "print(f\"{printFormat.bold}\\nNote the first four columns:{printFormat.end}\\n\"\n",
        "      f\"    ParticipantID - Indicates different participants\\n\"\n",
        "      f\"    Condition - Indicates the condition (WIN = 0, LOSE = 1) to be classified\\n\"\n",
        "      f\"    Trial - Indicates the trial number for that participant and condition\\n\"\n",
        "      f\"    Electrode - a numerical number ID of each electrode\")\n",
        "print('\\nThe remaining columns are titled Time1 to Time100 - indicating 100 datapoints per sample.\\n'\n",
        "      'The samples span from -200 to 1000ms around the onset of a feedback stimulus.\\n'\n",
        "      'These are downsampled from the original data, which contained 600 datapoints per sample.')\n",
        "\n",
        "# Print some meta-data\n",
        "print('\\n' + '-'*90)\n",
        "print(f\"\\n{printFormat.bold}Other characteristics of our data include:{printFormat.end}\")\n",
        "print(f\"-We have {len(set(empiricalEEG[:,0]))} participants in our training set\")\n",
        "average_trials = round(np.mean([np.max(empiricalEEG[empiricalEEG[:,0] == pID, 2]) for pID in set(empiricalEEG[:,0])]))\n",
        "std_trials = round(np.std([np.max(empiricalEEG[empiricalEEG[:,0] == pID, 2]) for pID in set(empiricalEEG[:,0])]))\n",
        "print(f\"-Participants have an average of {average_trials} (SD: {std_trials}) trials per outcome (win, lose)\")\n",
        "print(f\"-There are a total of {len(empiricalEEG)} samples in our data\")\n",
        "print(f\"-There is {len(set(empiricalEEG[:,3]))} electrode in our data\")\n"
      ]
    },
    {
      "cell_type": "markdown",
      "metadata": {
        "id": "VQ-b2IQ1kAZj"
      },
      "source": [
        "## Step 1.2. View Data\n",
        "Let's view the grand-averaged ERPs of our participants."
      ]
    },
    {
      "cell_type": "code",
      "execution_count": 4,
      "metadata": {
        "colab": {
          "base_uri": "https://localhost:8080/",
          "height": 428
        },
        "id": "NBTF1lOTkAZk",
        "outputId": "e9c5429d-2663-4948-dd6c-c1643d7717f6"
      },
      "outputs": [
        {
          "data": {
            "text/plain": [
              "<matplotlib.legend.Legend at 0x7aff5c7dc6d0>"
            ]
          },
          "execution_count": 4,
          "metadata": {},
          "output_type": "execute_result"
        },
        {
          "data": {
            "image/png": "[encoded data removed]",
            "text/plain": [
              "<Figure size 600x400 with 1 Axes>"
            ]
          },
          "metadata": {},
          "output_type": "display_data"
        }
      ],
      "source": [
        "#Determine which rows are each condition\n",
        "lossIndex = np.where(empiricalEEG[:,1]==1)\n",
        "winIndex = np.where(empiricalEEG[:,1]==0)\n",
        "\n",
        "#Grand average the waveforms for each condition\n",
        "lossWaveform = np.mean(empiricalEEG[lossIndex,4:],axis=1)[0]\n",
        "winWaveform = np.mean(empiricalEEG[winIndex,4:],axis=1)[0]\n",
        "\n",
        "#Determine x axis of time\n",
        "time = np.linspace(-200,1000,100)\n",
        "\n",
        "#Setup figure\n",
        "f, (ax1) = plt.subplots(1, 1, figsize=(6, 4))\n",
        "\n",
        "#Plot each waveform\n",
        "ax1.plot(time, lossWaveform, label = 'Loss')\n",
        "ax1.plot(time, winWaveform, label = 'Win')\n",
        "\n",
        "#Format plot\n",
        "ax1.set_ylabel('Voltage ($\\mu$V)')\n",
        "ax1.set_xlabel('Time (ms)')\n",
        "ax1.set_title('Empirical', loc='left')\n",
        "ax1.spines[['right', 'top']].set_visible(False)\n",
        "ax1.legend(frameon=False)"
      ]
    },
    {
      "cell_type": "markdown",
      "metadata": {
        "id": "CGJjaeVakAZk"
      },
      "source": [
        "# Step 2. AE-GAN"
      ]
    },
    {
      "cell_type": "markdown",
      "metadata": {
        "id": "Zx6nB3DakAZk"
      },
      "source": [
        "## Step 2.1. Exploring the EEG-GAN Package Functions\n",
        "<br><b>Functions</b><br>\n",
        "EEG-GAN is a command line interface (CLI) package that allows users to train a Generative Adversarial Network (GAN) on EEG data. Once installed, you can run `eeggan` functions `<function>` in your terminal or command prompt alongside their parameters `<params>`:<br>\n",
        "`eeggan <function> <params>`. <br><br>\n",
        "\n",
        "`eeggan` has four functions:<br><br>\n",
        "&emsp;&emsp;`gan_training` - This trains a GAN <br>\n",
        "&emsp;&emsp;`autoencoder_training` - This trains an autoencoder <br>\n",
        "&emsp;&emsp;`visualize` - This visualizes components of a trained GAN, such as the training losses <br>\n",
        "&emsp;&emsp;`generate_samples` - This generates synthetic samples using the trained GAN<br>\n",
        "\n",
        "<br><b>Arguments</b><br>\n",
        "\n",
        "Each function can be followed by function parameters. Parameters are structured in that: <br>\n",
        "&emsp;&emsp;Boolean arguments are passed as their argument name (e.g., `ddp`): <br>\n",
        "&emsp;&emsp;&emsp;&emsp;`eeggan gan_training ddp` <br>\n",
        "&emsp;&emsp;While other arguments are passed with an equals sign `=`: <br>\n",
        "&emsp;&emsp;&emsp;&emsp;`eeggan gan_training data=data/eeg_training_data.csv`<br>\n",
        "&emsp;&emsp; Arguments are separated by a space:<br>\n",
        "&emsp;&emsp;&emsp;&emsp; `eeggan gan_training ddp data=data/eeg_training_data.csv`<br>\n",
        "\n",
        "<br><b>Parameters</b><br>\n",
        "\n",
        "You can use the `help` argument to see a list of possible parameters with a brief description:</b><br>\n",
        "&emsp;&emsp;`eeggan gan_training help`<br>\n",
        "&emsp;&emsp;`eeggan autoencoder_training help`<br>\n",
        "&emsp;&emsp;`eeggan visualize help`<br>\n",
        "&emsp;&emsp;`eeggan generate_samples help`<br>\n"
      ]
    },
    {
      "cell_type": "markdown",
      "metadata": {
        "id": "ZNRMlWHIUOPE"
      },
      "source": [
        "### Step 2.1.1. GAN Training Help"
      ]
    },
    {
      "cell_type": "code",
      "execution_count": 5,
      "metadata": {
        "colab": {
          "base_uri": "https://localhost:8080/"
        },
        "id": "ClzPLVZ4UU-c",
        "outputId": "d4f23c4e-7427-42d3-e9ef-170acb17d23a"
      },
      "outputs": [
        {
          "name": "stdout",
          "output_type": "stream",
          "text": [
            "\n",
            "-----------------------------------------\n",
            "Command line arguments:\n",
            "-----------------------------------------\n",
            "\n",
            "\n",
            "\n",
            "----------------------------------------------------------------------------------------------------------------------------------------------------\n",
            "INPUT HELP - These are the inputs that can be given from the command line\n",
            "----------------------------------------------------------------------------------------------------------------------------------------------------\n",
            "\n",
            "\n",
            "Input            | Type            | Description                                                                              | Default value               \n",
            "----------------------------------------------------------------------------------------------------------------------------------------------------\n",
            "ddp              | <class 'bool'>  | Activate distributed training                                                            | False                       \n",
            "seed             | <class 'bool'>  | Set seed for reproducibility                                                             | None                        \n",
            "n_epochs         | <class 'int'>   | Number of epochs                                                                         | 100                         \n",
            "batch_size       | <class 'int'>   | Batch size                                                                               | 128                         \n",
            "sample_interval  | <class 'int'>   | Interval of epochs between saving samples                                                | 100                         \n",
            "hidden_dim       | <class 'int'>   | Hidden dimension of the GAN components                                                   | 16                          \n",
            "num_layers       | <class 'int'>   | Number of layers of the GAN components                                                   | 4                           \n",
            "patch_size       | <class 'int'>   | Patch size of the divided sequence                                                       | 20                          \n",
            "discriminator_lr | <class 'float'> | Learning rate for the discriminator                                                      | 0.0001                      \n",
            "generator_lr     | <class 'float'> | Learning rate for the generator                                                          | 0.0001                      \n",
            "data             | <class 'str'>   | Path to a dataset                                                                        | data/gansEEGTrainingData.csv\n",
            "checkpoint       | <class 'str'>   | Path to a pre-trained GAN                                                                |                             \n",
            "autoencoder      | <class 'str'>   | Path to an autoencoder                                                                   |                             \n",
            "kw_conditions    | <class 'str'>   | ** Conditions to be used                                                                 |                             \n",
            "kw_time          | <class 'str'>   | Keyword to detect the time steps of the dataset; e.g. if [Time1, Time2, ...] -> use Time | Time                        \n",
            "kw_channel       | <class 'str'>   | Keyword to detect used channels                                                          |                             \n",
            "save_name        | <class 'str'>   | Name to save model                                                                       |                             \n",
            "----------------------------------------------------------------------------------------------------------------------------------------------------\n",
            "\n",
            "\n",
            "----------------------------------------------------------------------------------------------------------------------------------------------------\n",
            "QUICK HELP - These are the special features:\n",
            "----------------------------------------------------------------------------------------------------------------------------------------------------\n",
            "General information: \n",
            "\n",
            "Boolean arguments are given as a single keyword:\n",
            "\tSet boolean keyword \"test_keyword\" to True\t->\tpython file.py test_keyword\n",
            "Command line arguments are given as a keyword followed by an equal sign and the value:\n",
            "\tSet command line argument \"test_keyword\" to \"test_value\"\t->\tpython file.py test_keyword=test_value\n",
            "\tWhitespaces are not allowed between a keyword and its value.\n",
            "Some keywords can be given list-like: \n",
            "\ttest_keyword=test_value1,test_value2\n",
            "\tThese keywords are marked with ** in the table.\n",
            "----------------------------------------------------------------------------------------------------------------------------------------------------\n",
            "1.\tThe training works with two levels of checkpoint files:\n",
            "\t1.1 During the training:\n",
            "\t\tCheckpoints are saved every \"sample_interval\" batches as either \"checkpoint_01.pt\"\n",
            "\t\tor \"checkpoint_02.pt\". These checkpoints are considered as low-level checkpoints since they are only \n",
            "\t\tnecessary in the case of training interruption. Hereby, they can be used to continue the training from \n",
            "\t\tthe most recent sample. To continue training, the most recent checkpoint file must be renamed to \n",
            "\t\t\"checkpoint.pt\".\n",
            "\t\tFurther, these low-level checkpoints carry the generated samples for inference purposes.\n",
            "\t1.2 After finishing the training:\n",
            "\t\tA high-level checkpoint is saved as \"checkpoint.pt\", which is used to \n",
            "\t\tcontinue training in another session. This high-level checkpoint does not carry the generated samples.\n",
            "\t\tTo continue training from this checkpoint file no further adjustments are necessary. \n",
            "\t\tSimply give the keyword \"load_checkpoint\" when calling the training process.\n",
            "\t\tThe low-level checkpoints are deleted after creating the high-level checkpoint.\n",
            "\t1.3 For inference purposes:\n",
            "\t\tAnother dictionary is saved as \"gan_{n_epochs}ep_{timestamp}.pt\".\n",
            "\t\tThis file contains everything the checkpoint file contains, plus the generated samples.\n",
            "2.\tUse \"ddp\" to activate distributed training. \n",
            "\tOnly if multiple GPUs are available for one node.\n",
            "\tAll available GPUs are used for training.\n",
            "\tEach GPU trains on the whole dataset. \n",
            "\tHence, the number of training epochs is multiplied by the number of GPUs\n",
            "3.\tIf you want to load a pre-trained GAN, you can use the following command:\n",
            "\tpython gan_training_main.py load_checkpoint; The default file is \"trained_models/checkpoint.pt\"\n",
            "\tIf you want to use another file, you can use the following command:\n",
            "\t\tpython gan_training_main.py load_checkpoint path_checkpoint=\"path/to/file.pt\"\n",
            "4.\tIf you want to use a different dataset, you can use the following command:\n",
            "\tpython gan_training_main.py data=\"path/to/file.csv\"\n",
            "\tThe default dataset is \"data/gansEEGTrainingData.csv\"\n",
            "6.\tThe keyword \"input_sequence_length\" describes the length of a sequence taken as input for the generator.\n",
            "\t6.1 The \"input_sequence_length\" must be smaller than the total sequence length.\n",
            "\t6.2 The generator works in the following manner:\n",
            "\t\tThe generator gets a sequence of length \"input_sequence_length\" as a condition (input).\n",
            "\t\tThe generator generates a sequence of length \"sequence_length\"-\"input_sequence_length\" as output which is used as the \n",
            "\t\tsubsequent part of the input sequence.\n",
            "\t6.3 If \"input_sequence_length\" == 0:\n",
            "\t\tThe generator does not get any input sequence but generates an arbitrary sequence of length \"sequence_length\".\n",
            "\t\tArbitrary means hereby that the generator does not get any conditions on previous data points.\n",
            "\n",
            "\n",
            "----------------------------------------------------------------------------------------------------------------------------------------------------\n",
            "----------------------------------------------------------------------------------------------------------------------------------------------------\n",
            "\n",
            "\n"
          ]
        }
      ],
      "source": [
        "!eeggan gan_training help"
      ]
    },
    {
      "cell_type": "markdown",
      "metadata": {
        "id": "51bGZZXfkAZl"
      },
      "source": [
        "### Step 2.1.2. AE Training Help"
      ]
    },
    {
      "cell_type": "code",
      "execution_count": 6,
      "metadata": {
        "colab": {
          "base_uri": "https://localhost:8080/"
        },
        "id": "7yoa4kyEkAZl",
        "outputId": "83da81bf-7b50-431e-86a6-39a1766a49c6"
      },
      "outputs": [
        {
          "name": "stdout",
          "output_type": "stream",
          "text": [
            "\n",
            "-----------------------------------------\n",
            "Command line arguments:\n",
            "-----------------------------------------\n",
            "\n",
            "\n",
            "\n",
            "----------------------------------------------------------------------------------------------------------------------------------------------------\n",
            "INPUT HELP - These are the inputs that can be given from the command line\n",
            "----------------------------------------------------------------------------------------------------------------------------------------------------\n",
            "\n",
            "\n",
            "Input           | Type            | Description                                                                                   | Default value               \n",
            "----------------------------------------------------------------------------------------------------------------------------------------------------\n",
            "ddp             | <class 'bool'>  | Activate distributed training                                                                 | False                       \n",
            "load_checkpoint | <class 'bool'>  | Load a pre-trained AE                                                                         | False                       \n",
            "seed            | <class 'bool'>  | Set seed for reproducibility                                                                  | None                        \n",
            "data            | <class 'str'>   | Path to the dataset                                                                           | data/gansEEGTrainingData.csv\n",
            "checkpoint      | <class 'str'>   | Path to a pre-trained AE                                                                      |                             \n",
            "save_name       | <class 'str'>   | Name to save model                                                                            |                             \n",
            "target          | <class 'str'>   | Target dimension (channel, time, full) to encode; full is recommended for multi-channel data; | full                        \n",
            "kw_time         | <class 'str'>   | Keyword to detect the time steps of the dataset; e.g. if [Time1, Time2, ...] -> use Time      | Time                        \n",
            "kw_channel      | <class 'str'>   | Keyword to detect used channels                                                               |                             \n",
            "activation      | <class 'str'>   | Activation function of the AE decoder; Options: [relu, leakyrelu, sigmoid, tanh, linear]      | sigmoid                     \n",
            "channels_out    | <class 'int'>   | Size of the encoded channels                                                                  | 10                          \n",
            "time_out        | <class 'int'>   | Size of the encoded timeseries                                                                | 10                          \n",
            "n_epochs        | <class 'int'>   | Number of epochs to train for                                                                 | 100                         \n",
            "batch_size      | <class 'int'>   | Batch size                                                                                    | 128                         \n",
            "sample_interval | <class 'int'>   | Interval of epochs between saving samples                                                     | 100                         \n",
            "hidden_dim      | <class 'int'>   | Hidden dimension of the transformer                                                           | 256                         \n",
            "num_layers      | <class 'int'>   | Number of layers of the transformer                                                           | 2                           \n",
            "num_heads       | <class 'int'>   | Number of heads of the transformer                                                            | 8                           \n",
            "train_ratio     | <class 'float'> | Ratio of training data to total data                                                          | 0.8                         \n",
            "learning_rate   | <class 'float'> | Learning rate of the AE                                                                       | 0.0001                      \n",
            "----------------------------------------------------------------------------------------------------------------------------------------------------\n",
            "\n",
            "\n",
            "----------------------------------------------------------------------------------------------------------------------------------------------------\n",
            "QUICK HELP - These are the special features:\n",
            "----------------------------------------------------------------------------------------------------------------------------------------------------\n",
            "General information: \n",
            "\n",
            "Boolean arguments are given as a single keyword:\n",
            "\tSet boolean keyword \"test_keyword\" to True\t->\tpython file.py test_keyword\n",
            "Command line arguments are given as a keyword followed by an equal sign and the value:\n",
            "\tSet command line argument \"test_keyword\" to \"test_value\"\t->\tpython file.py test_keyword=test_value\n",
            "\tWhitespaces are not allowed between a keyword and its value.\n",
            "Some keywords can be given list-like: \n",
            "\ttest_keyword=test_value1,test_value2\n",
            "\tThese keywords are marked with ** in the table.\n",
            "----------------------------------------------------------------------------------------------------------------------------------------------------\n",
            "1.\tThe target parameter determines whether you will encode the channels, timeseries, or both (named full):\n",
            "\tIf target = channels, then the channels_out parameter will be used\n",
            "\tIf target = timeseries, then the timeseries_out parameter will be used\n",
            "\tif target = full, then both the channels_out and timeseries_out parameters will be used\n",
            "2.\tThe channels_out and timeseries_out parameters indicate the corresponding dimension size output of the encoder\n",
            "\t\tFor example, if we havea a 100x30 (timeseries x channel) sample and use timeseries_out=10 & channels_out=4\n",
            "\t\twith target=full, our encoder will result in an encoded 10x4 sample\n",
            "3.\t\"load_checkpoint\" can be used to load a previously trained autoencoder model and continue training on it.\n",
            "\t3.1 If you are loading a previously trained model, it will inherit the following model parameters:\n",
            "\t\ttarget, channels_out, timeseries_out. The remainder of the parameters will be used as normal.\n",
            "\t3.2 If you do not specify \"path_checkpoint\" the default path is \"trained_ae/checkpoint.pt\"\n"
          ]
        }
      ],
      "source": [
        "!eeggan autoencoder_training help"
      ]
    },
    {
      "cell_type": "markdown",
      "metadata": {
        "id": "NscQLNyykAZl"
      },
      "source": [
        "### Step 2.1.3. Visualize Help"
      ]
    },
    {
      "cell_type": "code",
      "execution_count": 7,
      "metadata": {
        "colab": {
          "base_uri": "https://localhost:8080/"
        },
        "id": "WX-09LRtkAZn",
        "outputId": "03985b91-4b01-4907-8216-e0afe7ec364a"
      },
      "outputs": [
        {
          "name": "stdout",
          "output_type": "stream",
          "text": [
            "\n",
            "-----------------------------------------\n",
            "Command line arguments:\n",
            "-----------------------------------------\n",
            "\n",
            "\n",
            "\n",
            "----------------------------------------------------------------------------------------------------------------------------------------------------\n",
            "INPUT HELP - These are the inputs that can be given from the command line\n",
            "----------------------------------------------------------------------------------------------------------------------------------------------------\n",
            "\n",
            "\n",
            "Input           | Type           | Description                                                                              | Default value         \n",
            "----------------------------------------------------------------------------------------------------------------------------------------------------\n",
            "loss            | <class 'bool'> | Plot training loss                                                                       | False                 \n",
            "average         | <class 'bool'> | Average over all samples to get one averaged curve (per condition, if any is given)      | False                 \n",
            "pca             | <class 'bool'> | Use PCA to reduce the dimensionality of the data                                         | False                 \n",
            "tsne            | <class 'bool'> | Use t-SNE to reduce the dimensionality of the data                                       | False                 \n",
            "spectogram      | <class 'bool'> | Use spectogram to visualize the frequency distribution of the data                       | False                 \n",
            "fft             | <class 'bool'> | Use a FFT-histogram to visualize the frequency distribution of the data                  | False                 \n",
            "channel_plots   | <class 'bool'> | Plot each channel in a separate column                                                   | False                 \n",
            "model           | <class 'str'>  | Use samples from checkpoint file                                                         |                       \n",
            "data            | <class 'str'>  | Use samples from csv-file                                                                |                       \n",
            "comp_data       | <class 'str'>  | Path to a csv dataset for comparison; comparison only for t-SNE or PCA;                  | data/ganAverageERP.csv\n",
            "kw_conditions   | <class 'str'>  | ** Conditions to be used                                                                 |                       \n",
            "kw_time         | <class 'str'>  | Keyword to detect the time steps of the dataset; e.g. if [Time1, Time2, ...] -> use Time | Time                  \n",
            "kw_channel      | <class 'str'>  | Keyword to detect used channels                                                          |                       \n",
            "n_samples       | <class 'int'>  | Total number of samples to be plotted                                                    | 0                     \n",
            "channel_index   | <class 'int'>  | **Index of the channel to be plotted; If -1, all channels will be plotted;               | -1                    \n",
            "tsne_perplexity | <class 'int'>  | Perplexity of t-SNE                                                                      | 40                    \n",
            "tsne_iterations | <class 'int'>  | Number of iterations of t-SNE                                                            | 1000                  \n",
            "----------------------------------------------------------------------------------------------------------------------------------------------------\n",
            "\n",
            "\n",
            "----------------------------------------------------------------------------------------------------------------------------------------------------\n",
            "QUICK HELP - These are the special features:\n",
            "----------------------------------------------------------------------------------------------------------------------------------------------------\n",
            "General information: \n",
            "\n",
            "Boolean arguments are given as a single keyword:\n",
            "\tSet boolean keyword \"test_keyword\" to True\t->\tpython file.py test_keyword\n",
            "Command line arguments are given as a keyword followed by an equal sign and the value:\n",
            "\tSet command line argument \"test_keyword\" to \"test_value\"\t->\tpython file.py test_keyword=test_value\n",
            "\tWhitespaces are not allowed between a keyword and its value.\n",
            "Some keywords can be given list-like: \n",
            "\ttest_keyword=test_value1,test_value2\n",
            "\tThese keywords are marked with ** in the table.\n",
            "----------------------------------------------------------------------------------------------------------------------------------------------------\n",
            "1.\tEither the keyword \"model\" or \"data\" must be given.\n",
            "\t1.1 If the keyword \"model\" is given\n",
            "\t\t\"model\" must point to a pt-file.\n",
            "\t\t\"model\" may point to a GAN or an Autoencoder checkpoint file.\n",
            "\t\tthe keyword \"kw_conditions\" will be ignored since the conditions are taken from the checkpoint file.\n",
            "\t\tthe keyword \"kw_channel\" will be ignored since the samples are already sorted channel-wise.\n",
            "\t\tthe samples are drawn evenly from the saved samples to show the training progress.\n",
            "\t1.2 If the keyword \"data\" is given\n",
            "\t\t\"data\" must point to a csv-file.\n",
            "\t\tthe keyword \"kw_conditions\" must be given to identify the condition column(s).\n",
            "\t\tthe samples will be drawn randomly from the dataset.\n",
            "2.\tThe keyword \"loss\" works only with the keyword \"checkpoint\".\n",
            "3.\tThe keyword \"average\" averages either\n",
            "\tall the samples (if no condition is given)\n",
            "\talong each combination of conditions that is given. The conditions are shown in the legend.\n",
            "4.\tWhen using the keywords \"pca\" or \"tsne\" the keyword \"comp_data\" must be defined.\n",
            "\tExcept for the case \"model\" is given and the checkpoint file is an Autoencoder file.\n",
            "\tIn this case, the comparison dataset (original data) is taken from the Autoencoder file directly.\n",
            "5.\tThe keyword \"channel_plots\" can be used to enhace the visualization.\n",
            "\tThis way, the channels are shown in different subplots along the columns.\n",
            "6.\tThe keyword \"channel_index\" can be defined to plot only a subset of channels.\n",
            "\tIf the keyword \"channel_index\" is not given, all channels are plotted.\n",
            "\tSeveral channels can be defined list-like e.g., \"channel_index=0,4,6,8\".\n",
            "----------------------------------------------------------------------------------------------------------------------------------------------------\n",
            "\n",
            "\n"
          ]
        }
      ],
      "source": [
        "!eeggan visualize help"
      ]
    },
    {
      "cell_type": "markdown",
      "metadata": {
        "id": "aTxPJRfckAZn"
      },
      "source": [
        "### Step 2.1.4. Generate Samples Help"
      ]
    },
    {
      "cell_type": "code",
      "execution_count": 8,
      "metadata": {
        "colab": {
          "base_uri": "https://localhost:8080/"
        },
        "id": "MXO6z0IZkAZn",
        "outputId": "b9400917-11c5-4166-db2a-1c51cb54e145"
      },
      "outputs": [
        {
          "name": "stdout",
          "output_type": "stream",
          "text": [
            "\n",
            "-----------------------------------------\n",
            "Command line arguments:\n",
            "-----------------------------------------\n",
            "\n",
            "\n",
            "\n",
            "----------------------------------------------------------------------------------------------------------------------------------------------------\n",
            "INPUT HELP - These are the inputs that can be given from the command line\n",
            "----------------------------------------------------------------------------------------------------------------------------------------------------\n",
            "\n",
            "\n",
            "Input                | Type           | Description                                                                                  | Default value               \n",
            "----------------------------------------------------------------------------------------------------------------------------------------------------\n",
            "seed                 | <class 'bool'> | Set seed for reproducibility                                                                 | None                        \n",
            "model                | <class 'str'>  | File which contains the trained model and its configuration                                  | trained_models/checkpoint.pt\n",
            "save_name            | <class 'str'>  | File where to store the generated samples; If None, then checkpoint name is used             |                             \n",
            "kw_time              | <class 'str'>  | Keyword for the time step of the dataset; to determine the sequence length                   | Time                        \n",
            "sequence_length      | <class 'int'>  | total sequence length of generated sample; if -1, then sequence length from training dataset | -1                          \n",
            "num_samples_total    | <class 'int'>  | total number of generated samples                                                            | 1000                        \n",
            "num_samples_parallel | <class 'int'>  | number of samples generated in parallel                                                      | 50                          \n",
            "conditions           | <class 'int'>  | ** Specific numeric conditions                                                               | None                        \n",
            "----------------------------------------------------------------------------------------------------------------------------------------------------\n",
            "\n",
            "\n",
            "----------------------------------------------------------------------------------------------------------------------------------------------------\n",
            "QUICK HELP - These are the special features:\n",
            "----------------------------------------------------------------------------------------------------------------------------------------------------\n",
            "General information: \n",
            "\n",
            "Boolean arguments are given as a single keyword:\n",
            "\tSet boolean keyword \"test_keyword\" to True\t->\tpython file.py test_keyword\n",
            "Command line arguments are given as a keyword followed by an equal sign and the value:\n",
            "\tSet command line argument \"test_keyword\" to \"test_value\"\t->\tpython file.py test_keyword=test_value\n",
            "\tWhitespaces are not allowed between a keyword and its value.\n",
            "Some keywords can be given list-like: \n",
            "\ttest_keyword=test_value1,test_value2\n",
            "\tThese keywords are marked with ** in the table.\n",
            "----------------------------------------------------------------------------------------------------------------------------------------------------\n",
            "1.\tThe keyword \"file\" carries some special features:\n",
            "\t1.1 It is possible to give only a file instead of a whole file path\n",
            "\t\tIn this case, the default path is \"trained_models\"\n",
            "\t1.2 The specified file must be a checkpoint file which contains the generator state dict and its \n",
            "\t    corresponding configuration dict\n",
            "2.\tThe keyword \"sequence_length_total\" defines the length of the generated sequences\n",
            "\tThe default value is -1, which means that the max sequence length is chosen\n",
            "\tThe max sequence length is determined by the used training data set given by the configuration dict\n",
            "3.\tThe keyword \"condition\" defines the condition for the generator:\n",
            "\t3.1 Hereby, the value can be either a scalar or a comma-seperated list of scalars e.g., \"condition=1,3.234,0\"\n",
            "\t    Current implementation: The single elements must be numeric\n",
            "\t    The length of the condition must be equal to the \"n_condition\" parameter in the configuration dict\n",
            "\t3.2 The value -1 means that the condition is chosen randomly\n",
            "\t    This works currently only for binary conditions. \n",
            "4.\tThe keyword \"num_samples_parallel\" defines the number of generated samples in one batch\n",
            "\tThis parameter should be set according to the processing power of the used machine\n",
            "\tEspecially, the generation of large number of sequences can be boosted by increasing this parameter\n"
          ]
        }
      ],
      "source": [
        "!eeggan generate_samples help"
      ]
    },
    {
      "cell_type": "markdown",
      "metadata": {
        "id": "TQqKdQIBkAZn"
      },
      "source": [
        "## Step 2.2.A. Training the AE-GAN"
      ]
    },
    {
      "cell_type": "markdown",
      "metadata": {
        "id": "7BhdId0JkAZn"
      },
      "source": [
        "The GAN within `eeggan` has two different structures dependent on whether we are training it on time-series EEG data or encoded EEG data. The former would take each of your samples as is and learn to generate them directly. The latter instead transforms each of your samples using an autoencoder and then learns to generate the encoded space. We highly suggest using the autoencoder GAN (AE-GAN) as it speeds up training and results in better generated data, but we will here show how to use both structures, starting with the AE-GAN.\n",
        "\n",
        "Although more efficient, the drawback of using the AE-GAN is that you first need to train an autoencoder (however, training is very fast) and then you train the GAN with the `autoencoder` parameter.\n",
        "\n",
        "We will first train our autoencoder with the following parameters:\n",
        "- <b>data</b>: Determines the training dataset.\n",
        "- <b>save_name</b>: Determines the autoencoder filename. This will automatically be placed within the `trained_ae` directory.\n",
        "- <b>kw_channel</b>: This is used to inform the autoencoder of different electrodes.\n",
        "- <b>target</b>: This informs the autoencoder which dimension should be reduced. Here we will use `time` to reduce our samples but we could also reduce our channel dimension using `channel` or both time and channel dimensions using `full`.\n",
        "- <b>time_out</b>: This is the size of the reduced time dimension. For example, if your samples are 100 datapoints and this parameter is 50 datapoints, the data will be reduced to half of its size.<br>\n",
        "&emsp;&emsp;-*If you are reducing the channel dimension with `target=channel` then instead use the parameter `channels_out`.*<br>\n",
        "&emsp;&emsp;-*If you are reducing both dimensions with `target=full`, use both `time_out` and `channels_out`.*<br>\n",
        "- <b>n_epochs</b>: Determines number of epochs to train the autoencoder.<br>\n",
        "&emsp;&emsp;-*Here we only use 10 epochs to demonstrate the process but this will result in a very under-trained autoencoder. <br>\n",
        "&emsp;&emsp;In Williams, Weinhardt et al., (in prep, 2024) using the AE-GAN we trained the autoencoder for 2000 epochs.*\n",
        "- <b>seed</b>: Sets seed for reproducability.<br>\n"
      ]
    },
    {
      "cell_type": "code",
      "execution_count": 9,
      "metadata": {
        "colab": {
          "base_uri": "https://localhost:8080/"
        },
        "id": "zy_tUNF8XiIu",
        "outputId": "482f4acc-b5f6-48f4-aa97-f69ac8b36810"
      },
      "outputs": [
        {
          "name": "stdout",
          "output_type": "stream",
          "text": [
            "\n",
            "-----------------------------------------\n",
            "Command line arguments:\n",
            "-----------------------------------------\n",
            "\n",
            "Dataset: data/eeggan_training_example.csv\n",
            "Model save name: my_autoencoder.pt\n",
            "Channel label: Electrode\n",
            "Target: time\n",
            "Encoded time series size: 50\n",
            "Number of epochs: 10\n",
            "Manual seed: True\n",
            "-----------------------------------------\n",
            "\n",
            "100% 10/10 [00:04<00:00,  2.41it/s, TRAIN LOSS: 0.022877, TEST LOSS: 0.008984]\n",
            "Managing checkpoints...\n",
            "Checkpoint saved to trained_ae/checkpoint.pt.\n",
            "Training complete in: 00:00:04\n",
            "Training finished.\n",
            "Checkpoint saved to trained_ae/my_autoencoder.pt.\n",
            "Training complete in: 00:00:04\n",
            "Model and configuration saved in trained_ae/my_autoencoder.pt\n"
          ]
        }
      ],
      "source": [
        "# Train Autoencoder Parameters\n",
        "data = 'data/eeggan_training_example.csv'\n",
        "save_name = 'my_autoencoder.pt'\n",
        "kw_channel = 'Electrode'\n",
        "target = 'time'\n",
        "time_out = 50\n",
        "n_epochs = 10\n",
        "seed = 42\n",
        "\n",
        "# Train the Autoencoder\n",
        "!eeggan autoencoder_training data={data} save_name={save_name} kw_channel={kw_channel} target={target} time_out={time_out} n_epochs={n_epochs} seed={seed}\n",
        "\n",
        "#---------------------------------------------------------------------#\n",
        "#---------------------------------------------------------------------#\n",
        "\n",
        "# Alternatively, you could have written all parameters in place:\n",
        "#!eeggan autoencoder_training data='data/eeggan_training_example.csv' save_name='test_ae.pt' kw_channel='Electrode' target='time' time_out=50 n_epochs=10 seed=42"
      ]
    },
    {
      "cell_type": "markdown",
      "metadata": {
        "id": "5SiW-l3bmFqT"
      },
      "source": [
        "Next, we will train the AE-GAN using the following parameters:\n",
        "- <b>data</b>: Determines the training dataset\n",
        "- <b>save_name</b>: Determines the GAN filename. This will automatically be placed within the `trained_models` directory.\n",
        "- <b>autoencoder</b>: This points the GAN to the autoencoder that was previously trained. Including this parameter uses the AE-GAN structure, but if this parameter is not used the function will use a normal GAN structure. Again, we suggest using the AE-GAN whenever possible.\n",
        "- <b>kw_condition</b>: This is used to inform the GAN of different conditions.\n",
        "- <b>kw_channel</b>: This is used to inform the GAN of different electrodes.\n",
        "- <b>patch_size</b>: This is the length of each token within the transformer. In other words, the time dimension will be cut into segments of this length. The `patch_size` must be a multiple of the time dimension length.<br>\n",
        "&emsp;&emsp;-*The time dimension length for the AE-GAN is the embedded time length (50 in the autoencoder we trained above).*<br>\n",
        "&emsp;&emsp;-*The time dimension length for the GAN is the sample length (100 in our current dataset).*<br>\n",
        "&emsp;&emsp;-*So, a patch size of 10 would create 5 tokens of length 10 for the AE-GAN or 10 tokens of length 10 for the GAN.*<br>\n",
        "- <b>n_epochs</b> : Determines number of epochs to train the GAN.<br>\n",
        "&emsp;&emsp;-*Here we only use 10 epochs to demonstrate the process but this will result in a very under-trained GAN. <br>\n",
        "&emsp;&emsp;In Williams, Weinhardt et al., (in prep, 2024) using the AE-GAN we trained the GAN for 2000 epochs.*\n",
        "- <b>seed</b>: Sets seed for reproducability.<br>\n",
        "\n",
        "\n",
        "*Note: If the **ddp** argument is provided, GANs will be trained using GPUs rather than CPUs*\n",
        "\n",
        "<b>*Note: We are not here using the `my_autoencoder.pt` file that we trained, but instead are using a pretrained autoencoder `pretrained_autoencoder.pt`*</b>\n"
      ]
    },
    {
      "cell_type": "code",
      "execution_count": 10,
      "metadata": {
        "colab": {
          "base_uri": "https://localhost:8080/"
        },
        "id": "XEl401f5kAZn",
        "outputId": "31e4f2b0-fb92-4af3-c1e7-5d60f9c573e4"
      },
      "outputs": [
        {
          "name": "stdout",
          "output_type": "stream",
          "text": [
            "\n",
            "-----------------------------------------\n",
            "Command line arguments:\n",
            "-----------------------------------------\n",
            "\n",
            "Dataset: data/eeggan_training_example.csv\n",
            "Using autoencoder: trained_ae/pretrained_autoencoder.pt\n",
            "Model save name: my_aegan.pt\n",
            "Conditions: ['Condition']\n",
            "Channel label: Electrode\n",
            "Patch size: 10\n",
            "Number of epochs: 10\n",
            "Manual seed: True\n",
            "Generator and discriminator initialized.\n",
            "\n",
            "-----------------------------------------\n",
            "Training GAN...\n",
            "-----------------------------------------\n",
            "\n",
            "100% 10/10 [00:35<00:00,  3.50s/it, D LOSS: -0.725763, G LOSS: 2.004391]\n",
            "Managing checkpoints...\n",
            "Checkpoint saved to trained_models/checkpoint.pt.\n",
            "Training complete in: 00:00:35\n",
            "Checkpoint saved to trained_models/my_aegan.pt.\n",
            "Training complete in: 00:00:35\n",
            "GAN training finished.\n"
          ]
        }
      ],
      "source": [
        "#Train AE-GAN Parameters\n",
        "data = 'data/eeggan_training_example.csv'\n",
        "save_name = 'my_aegan.pt'\n",
        "autoencoder = 'trained_ae/pretrained_autoencoder.pt' #Uses the pretrained autoencoder\n",
        "kw_conditions = 'Condition'\n",
        "kw_channel = 'Electrode'\n",
        "patch_size = 10\n",
        "n_epochs = 10\n",
        "seed = 42\n",
        "\n",
        "# Train the AE-GAN on CPUs\n",
        "!eeggan gan_training data={data} autoencoder={autoencoder} save_name={save_name} kw_conditions={kw_conditions} kw_channel={kw_channel} patch_size={patch_size} n_epochs={n_epochs} seed={seed}\n",
        "\n",
        "# Train the AE-GAN on GPUs\n",
        "# !eeggan gan_training ddp data={data} autoencoder={autoencoder} save_name={save_name} kw_conditions={kw_conditions} kw_channel={kw_channel} patch_size={patch_size} n_epochs={n_epochs} seed={seed}\n",
        "# Note, on Google Colab you can start a GPU runtime by going to Runtime > Change runtime type > Hardware accelerator > GPU\n",
        "\n",
        "#---------------------------------------------------------------------#\n",
        "#---------------------------------------------------------------------#\n",
        "\n",
        "# Alternatively, you could have written all parameters in place:\n",
        "#!eeggan gan_training data='data/eeggan_training_example.csv' autoencoder='trained_ae/test_ae.pt' save_name='demo_aegan.pt' kw_conditions='Condition' kw_channel='Electrode' patch_size=10 n_epochs=10 seed=42\n",
        "#!eeggan gan_training data='data/eeggan_training_example.csv' ddp autoencoder='trained_ae/test_ae.pt' save_name='demo_aegan.pt' kw_conditions='Condition' kw_channel='Electrode' patch_size=10 n_epochs=10 seed=42\n"
      ]
    },
    {
      "cell_type": "markdown",
      "metadata": {
        "id": "h2GkMbnavT1r"
      },
      "source": [
        "#Step 2.2.B. Training the GAN (Optional)"
      ]
    },
    {
      "cell_type": "markdown",
      "metadata": {
        "id": "2a18TGKovj6-"
      },
      "source": [
        "This section is **optional** as using the GAN without the autoencoder is not suggested. None-the-less, there may be situations where you want to train a GAN and not an AE-GAN and here we will show you how.\n",
        "\n",
        "Essentially, the only difference from what we showed above in section **Step 2.2.A. Training the AE-GAN** is that:\n",
        "1. We do not train an autoencoder.\n",
        "2. We do not pass the `autoencoder` argument to the `gan_training` function.\n",
        "\n",
        "In fact, below is simply the copy-paste of training the AE-GAN above but with removing the `autoencoder` parameter and changing the `save_name` so that it does not overwrite our AE-GAN model.\n",
        "\n",
        "*Note: All sections following this one will use the AE-GAN with the corresponding `pretrained_gan.pt`.*"
      ]
    },
    {
      "cell_type": "code",
      "execution_count": 11,
      "metadata": {
        "colab": {
          "base_uri": "https://localhost:8080/"
        },
        "id": "F3IlOuniwdK7",
        "outputId": "fb3b57e5-35e0-499e-8535-2442e955d4e6"
      },
      "outputs": [
        {
          "name": "stdout",
          "output_type": "stream",
          "text": [
            "\n",
            "-----------------------------------------\n",
            "Command line arguments:\n",
            "-----------------------------------------\n",
            "\n",
            "Dataset: data/eeggan_training_example.csv\n",
            "Model save name: my_gan.pt\n",
            "Conditions: ['Condition']\n",
            "Channel label: Electrode\n",
            "Patch size: 10\n",
            "Number of epochs: 10\n",
            "Manual seed: True\n",
            "Generator and discriminator initialized.\n",
            "\n",
            "-----------------------------------------\n",
            "Training GAN...\n",
            "-----------------------------------------\n",
            "\n",
            "100% 10/10 [01:05<00:00,  6.55s/it, D LOSS: 2.998791, G LOSS: -1.095414]\n",
            "Managing checkpoints...\n",
            "Checkpoint saved to trained_models/checkpoint.pt.\n",
            "Training complete in: 00:01:05\n",
            "Checkpoint saved to trained_models/my_gan.pt.\n",
            "Training complete in: 00:01:05\n",
            "GAN training finished.\n"
          ]
        }
      ],
      "source": [
        "#Train GAN Parameters\n",
        "data = 'data/eeggan_training_example.csv'\n",
        "save_name = 'my_gan.pt'\n",
        "kw_conditions = 'Condition'\n",
        "kw_channel = 'Electrode'\n",
        "patch_size = 10\n",
        "n_epochs = 10\n",
        "seed = 42\n",
        "\n",
        "# Train the GAN on CPUs\n",
        "!eeggan gan_training data={data} save_name={save_name} kw_conditions={kw_conditions} kw_channel={kw_channel} patch_size={patch_size} n_epochs={n_epochs} seed={seed}\n",
        "\n",
        "# Train the GAN on GPUs\n",
        "# !eeggan gan_training ddp data={data} save_name={save_name} kw_conditions={kw_conditions} kw_channel={kw_channel} patch_size={patch_size} n_epochs={n_epochs} seed={seed}\n",
        "# Note, on Google Colab you can start a GPU runtime by going to Runtime > Change runtime type > Hardware accelerator > GPU\n",
        "\n",
        "#---------------------------------------------------------------------#\n",
        "#---------------------------------------------------------------------#\n",
        "\n",
        "# Alternatively, you could have written all parameters in place:\n",
        "#!eeggan gan_training data='data/eeggan_training_example.csv' save_name='demo_gan.pt' kw_conditions='Condition' kw_channel='Electrode' patch_size=10 n_epochs=10 seed=42\n",
        "#!eeggan gan_training data='data/eeggan_training_example.csv' ddp save_name='demo_gan.pt' kw_conditions='Condition' kw_channel='Electrode' patch_size=10 n_epochs=10 seed=42\n"
      ]
    },
    {
      "cell_type": "markdown",
      "metadata": {
        "id": "D-ghmBxIkAZn"
      },
      "source": [
        "# Step 2.3. Visualizing GAN Losses and Generated Data"
      ]
    },
    {
      "cell_type": "markdown",
      "metadata": {
        "id": "Lhf3BUiykAZo"
      },
      "source": [
        "**Note that from here on out we will be using the AE-GAN, but simply be calling it GAN.**\n",
        "\n",
        "The GAN trains for the number of epochs specified above; however, this does not ensure that it will train successfully. So, it is important to visualize our training success and ensure that it completed successfully. If it did, we can move forward with using the GAN, but if it did not then we would need to continue training the GAN. This latter case is not a problem though because the package was built so that you can continue training a previously trained GAN (rather than having to start over) if you use the `checkpoint` argument with the `gan_training` function.  \n",
        "\n",
        "We will now visualize the generator and discriminator losses using the following arguments:\n",
        "- <b>loss</b>: Determines that we will be viewing the loss plot\n",
        "- <b>average</b>: Determines that we will be viewing the averaged waveform *across conditions*\n",
        "- <b>model</b>: Determines which GAN to visualize\n",
        "\n",
        "We will know that training was successful if both the generator and discriminator losses hover around 0 at the end of training.\n",
        "\n",
        "<b>*Note: We are not here using the `my_aegan.pt` file that we trained, but instead are using a pretrained aegan `pretrained_gan.pt`*</b>"
      ]
    },
    {
      "cell_type": "code",
      "execution_count": 12,
      "metadata": {
        "colab": {
          "base_uri": "https://localhost:8080/"
        },
        "id": "7pfQ0ymdkAZo",
        "outputId": "be8c4e9e-f1c7-486f-b2c6-88f1cc81fc5e"
      },
      "outputs": [
        {
          "name": "stdout",
          "output_type": "stream",
          "text": [
            "\n",
            "-----------------------------------------\n",
            "Command line arguments:\n",
            "-----------------------------------------\n",
            "\n",
            "Plotting training loss\n",
            "Using samples from model/checkpoint file (.pt)trained_models/pretrained_gan.pt\n",
            "\n",
            "-----------------------------------------\n",
            "System output:\n",
            "-----------------------------------------\n",
            "\n",
            "Plotting losses...\n",
            "Figure(640x480)\n",
            "\n",
            "-----------------------------------------\n",
            "Command line arguments:\n",
            "-----------------------------------------\n",
            "\n",
            "Averaging over all samples\n",
            "Using samples from model/checkpoint file (.pt)trained_models/pretrained_gan.pt\n",
            "\n",
            "-----------------------------------------\n",
            "System output:\n",
            "-----------------------------------------\n",
            "\n",
            "Plotting averaged curves over each set of conditions...\n",
            "Figure(640x480)\n",
            "\n",
            "\u001b[1mNote Google Collab does not support plotting from an executable like this. So, to see the loss plots you will need to run it on another environment, such as locally using CLI.\u001b[0m\n"
          ]
        }
      ],
      "source": [
        "!eeggan visualize loss model=trained_models/pretrained_gan.pt\n",
        "!eeggan visualize average model=trained_models/pretrained_gan.pt\n",
        "\n",
        "print(f\"\\n{printFormat.bold}Note Google Collab does not support plotting from an executable like this. So, to see the loss plots you will need to run it on another environment, such as locally using CLI.{printFormat.end}\")"
      ]
    },
    {
      "cell_type": "markdown",
      "metadata": {
        "id": "CVBr-LqdkAZp"
      },
      "source": [
        "## Step 2.4. Generating Synthetic Data"
      ]
    },
    {
      "cell_type": "markdown",
      "metadata": {
        "id": "3jRm5IUYkAZp"
      },
      "source": [
        "We will be using the following arguments:\n",
        "- <b>model</b>: Determines which model to use<br>\n",
        "- <b> path_samples </b> : Where and what to save the generated samples as\n",
        "- <b> num_samples_total</b> : Number of samples to generate (half per condition)\n",
        "- <b>seed</b>: Sets seed for reproducability.<br>\n",
        "\n",
        "<b>*Note: We are not here using the `my_aegan.pt` file that we trained, but instead are using a pretrained aegan `pretrained_gan.pt`*</b>"
      ]
    },
    {
      "cell_type": "code",
      "execution_count": 13,
      "metadata": {
        "colab": {
          "base_uri": "https://localhost:8080/"
        },
        "id": "iRmmQUIEkAZp",
        "outputId": "38576ac8-db48-4e72-ca96-76720e021ca6"
      },
      "outputs": [
        {
          "name": "stdout",
          "output_type": "stream",
          "text": [
            "\n",
            "-----------------------------------------\n",
            "Command line arguments:\n",
            "-----------------------------------------\n",
            "\n",
            "File: trained_models/pretrained_gan.pt\n",
            "Conditions: [0]\n",
            "Saving generated samples to file: aegan_data_c0.csv\n",
            "Manual seed: True\n",
            "\n",
            "-----------------------------------------\n",
            "System output:\n",
            "-----------------------------------------\n",
            "\n",
            "Initializing generator...\n",
            "Generating samples...\n",
            "Generating sequence 1/20...\n",
            "Generating sequence 2/20...\n",
            "Generating sequence 3/20...\n",
            "Generating sequence 4/20...\n",
            "Generating sequence 5/20...\n",
            "Generating sequence 6/20...\n",
            "Generating sequence 7/20...\n",
            "Generating sequence 8/20...\n",
            "Generating sequence 9/20...\n",
            "Generating sequence 10/20...\n",
            "Generating sequence 11/20...\n",
            "Generating sequence 12/20...\n",
            "Generating sequence 13/20...\n",
            "Generating sequence 14/20...\n",
            "Generating sequence 15/20...\n",
            "Generating sequence 16/20...\n",
            "Generating sequence 17/20...\n",
            "Generating sequence 18/20...\n",
            "Generating sequence 19/20...\n",
            "Generating sequence 20/20...\n",
            "Saving samples...\n",
            "Generated samples were saved to generated_samples/aegan_data_c0.csv\n",
            "\n",
            "-----------------------------------------\n",
            "Command line arguments:\n",
            "-----------------------------------------\n",
            "\n",
            "File: trained_models/pretrained_gan.pt\n",
            "Conditions: [1]\n",
            "Saving generated samples to file: aegan_data_c1.csv\n",
            "Manual seed: True\n",
            "\n",
            "-----------------------------------------\n",
            "System output:\n",
            "-----------------------------------------\n",
            "\n",
            "Initializing generator...\n",
            "Generating samples...\n",
            "Generating sequence 1/20...\n",
            "Generating sequence 2/20...\n",
            "Generating sequence 3/20...\n",
            "Generating sequence 4/20...\n",
            "Generating sequence 5/20...\n",
            "Generating sequence 6/20...\n",
            "Generating sequence 7/20...\n",
            "Generating sequence 8/20...\n",
            "Generating sequence 9/20...\n",
            "Generating sequence 10/20...\n",
            "Generating sequence 11/20...\n",
            "Generating sequence 12/20...\n",
            "Generating sequence 13/20...\n",
            "Generating sequence 14/20...\n",
            "Generating sequence 15/20...\n",
            "Generating sequence 16/20...\n",
            "Generating sequence 17/20...\n",
            "Generating sequence 18/20...\n",
            "Generating sequence 19/20...\n",
            "Generating sequence 20/20...\n",
            "Saving samples...\n",
            "Generated samples were saved to generated_samples/aegan_data_c1.csv\n"
          ]
        }
      ],
      "source": [
        "!eeggan generate_samples model=trained_models/pretrained_gan.pt conditions=0 save_name=aegan_data_c0.csv seed=42\n",
        "!eeggan generate_samples model=trained_models/pretrained_gan.pt conditions=1 save_name=aegan_data_c1.csv seed=42\n"
      ]
    },
    {
      "cell_type": "markdown",
      "metadata": {
        "id": "ccXFDBtMkAZp"
      },
      "source": [
        "# Step 3. Synthetic Data"
      ]
    },
    {
      "cell_type": "markdown",
      "metadata": {
        "id": "Do1I6oHOkAZq"
      },
      "source": [
        "## Step 3.1. Load Data\n",
        "We will now load the synthetic data we just produced, and confirm the number of samples per condition"
      ]
    },
    {
      "cell_type": "code",
      "execution_count": 14,
      "metadata": {
        "colab": {
          "base_uri": "https://localhost:8080/"
        },
        "id": "_nI-kEMHkAZq",
        "outputId": "0f970127-bece-45e7-d8d2-47804c94bc6f"
      },
      "outputs": [
        {
          "name": "stdout",
          "output_type": "stream",
          "text": [
            "\u001b[1mDisplay first few rows/columns of data\u001b[0m\n",
            "   Condition  Electrode     Time0     Time1     Time2     Time3\n",
            "0        0.0        1.0  0.389140  0.408398  0.384589  0.297453\n",
            "1        0.0        1.0  0.352499  0.332882  0.484594  0.577283\n",
            "2        0.0        1.0  0.520258  0.509756  0.543827  0.580087\n",
            "3        0.0        1.0  0.467429  0.476422  0.493830  0.487191\n",
            "4        0.0        1.0  0.457286  0.488316  0.514130  0.466328\n",
            "\n",
            "\u001b[1mDisplay trial counts for each condition\u001b[0m\n",
            "\u001b[1mWin: \u001b[0m1000\n",
            "\u001b[1mLose: \u001b[0m1000\n"
          ]
        }
      ],
      "source": [
        "#Load Data\n",
        "syntheticHeaders = np.genfromtxt('generated_samples/aegan_data_c0.csv', delimiter=',', names=True).dtype.names\n",
        "gan_c0 = np.genfromtxt('generated_samples/aegan_data_c0.csv', delimiter=',', skip_header=1)\n",
        "gan_c1 = np.genfromtxt('generated_samples/aegan_data_c1.csv', delimiter=',', skip_header=1)\n",
        "syntheticEEG = np.concatenate((gan_c0,gan_c1),axis=0)\n",
        "\n",
        "#Print head of the data\n",
        "print(f\"{printFormat.bold}Display first few rows/columns of data{printFormat.end}\")\n",
        "print(pd.DataFrame(syntheticEEG, columns=syntheticHeaders).iloc[:5,:6])\n",
        "\n",
        "# Print condition sample counts\n",
        "print(f\"\\n{printFormat.bold}Display trial counts for each condition{printFormat.end}\")\n",
        "print(f\"{printFormat.bold}Win: {printFormat.end}{np.sum(syntheticEEG[:, 0] == 0)}\")\n",
        "print(f\"{printFormat.bold}Lose: {printFormat.end}{np.sum(syntheticEEG[:, 0] == 1)}\")"
      ]
    },
    {
      "cell_type": "markdown",
      "metadata": {
        "id": "GlpCh7Y2kAZq"
      },
      "source": [
        "## Step 3.2. View Data"
      ]
    },
    {
      "cell_type": "markdown",
      "metadata": {
        "id": "FlkxeBUDkAZq"
      },
      "source": [
        "### Step 3.2.1. View Trial-Level Data\n",
        "We will view 5 trial level data for both the empirical and synthetic data."
      ]
    },
    {
      "cell_type": "code",
      "execution_count": 15,
      "metadata": {
        "colab": {
          "base_uri": "https://localhost:8080/",
          "height": 410
        },
        "id": "QIN8DXGEkAZr",
        "outputId": "cfb0f807-390b-48d3-ad62-379af6d51f74"
      },
      "outputs": [
        {
          "data": {
            "image/png": "[encoded data removed]",
            "text/plain": [
              "<Figure size 1200x400 with 10 Axes>"
            ]
          },
          "metadata": {},
          "output_type": "display_data"
        }
      ],
      "source": [
        "#Determine 5 random trials to plot\n",
        "empiricalIndex = rnd.sample(range(0, empiricalEEG.shape[0]), 5)\n",
        "syntheticIndex = rnd.sample(range(0, syntheticEEG.shape[0]), 5)\n",
        "\n",
        "#Plot trial data\n",
        "f, ax = plt.subplots(5, 2, figsize=(12, 4))\n",
        "for c in range(5):\n",
        "    ax[c,0].plot(time,empiricalEEG[empiricalIndex[c],4:]) #Note, we here add the same filter simply for visualization\n",
        "    ax[c,0].set_yticks([])\n",
        "\n",
        "    ax[c,1].plot(time,syntheticEEG[syntheticIndex[c],2:])\n",
        "    ax[c,1].spines[['left', 'right', 'top']].set_visible(False)\n",
        "    ax[c,1].set_yticks([])\n",
        "\n",
        "    if c == 0:\n",
        "        ax[c,0].set_title('Empirical', loc='left')\n",
        "        ax[c,1].set_title('Synthetic', loc='left')\n",
        "    else:\n",
        "        ax[c,0].set_title(' ')\n",
        "        ax[c,1].set_title(' ')\n",
        "\n",
        "    if c != 4:\n",
        "        ax[c,0].spines[['bottom', 'left', 'right', 'top']].set_visible(False)\n",
        "        ax[c,1].spines[['bottom', 'left', 'right', 'top']].set_visible(False)\n",
        "        ax[c,0].set_xticks([])\n",
        "        ax[c,1].set_xticks([])\n",
        "    else:\n",
        "        ax[c,0].spines[['left', 'right', 'top']].set_visible(False)\n",
        "        ax[c,1].spines[['left', 'right', 'top']].set_visible(False)\n",
        "        ax[c,0].set_xlabel('Time (ms)')\n",
        "        ax[c,1].set_xlabel('Time (ms)')"
      ]
    },
    {
      "cell_type": "markdown",
      "metadata": {
        "id": "VmeASxcckAZs"
      },
      "source": [
        "## Step 3.2.2. View ERP Data\n",
        "We will now show the empirical and synthetic ERPs side-by-side for comparison."
      ]
    },
    {
      "cell_type": "code",
      "execution_count": 16,
      "metadata": {
        "colab": {
          "base_uri": "https://localhost:8080/",
          "height": 428
        },
        "id": "_PDW0m_BkAZs",
        "outputId": "96d7627e-dec8-42a4-c9df-243d2efc86f6"
      },
      "outputs": [
        {
          "data": {
            "text/plain": [
              "<matplotlib.legend.Legend at 0x7aff5c15e6b0>"
            ]
          },
          "execution_count": 16,
          "metadata": {},
          "output_type": "execute_result"
        },
        {
          "data": {
            "image/png": "[encoded data removed]",
            "text/plain": [
              "<Figure size 1200x400 with 2 Axes>"
            ]
          },
          "metadata": {},
          "output_type": "display_data"
        }
      ],
      "source": [
        "#Define Filter Function\n",
        "def filter_synthetic(EEG, fs=83.33):\n",
        "    #Bandpass\n",
        "    w = [x / fs for x in [0.1, 30]]\n",
        "    b, a = signal.butter(4, w, 'band')\n",
        "\n",
        "    #Process\n",
        "    filteredEEG = [signal.filtfilt(b, a, EEG[trial,:]) for trial in range(len(EEG))] #Bandpass filter\n",
        "\n",
        "    return np.array(filteredEEG)\n",
        "\n",
        "#Filter synthetic data\n",
        "syntheticEEG[:,2:] = filter_synthetic(syntheticEEG[:,2:])\n",
        "\n",
        "#Grand average the synthetic waveforms for each condition\n",
        "synLossWaveform = np.mean(syntheticEEG[np.r_[syntheticEEG[:,0]==1],2:],axis=0)\n",
        "synWinWaveform = np.mean(syntheticEEG[np.r_[syntheticEEG[:,0]==0],2:],axis=0)\n",
        "\n",
        "#Set up figure\n",
        "f, (ax1, ax2) = plt.subplots(1, 2, figsize=(12, 4))\n",
        "\n",
        "#Plot each empirical waveform (note, we here add the same processing simply for visualization)\n",
        "ax1.plot(time, scale(winWaveform), label = 'Win')\n",
        "ax1.plot(time, scale(lossWaveform), label = 'Loss')\n",
        "\n",
        "#Format plot\n",
        "ax1.set_ylabel('Voltage ($\\mu$V)')\n",
        "ax1.set_xlabel('Time (ms)')\n",
        "ax1.set_title('Empirical', loc='left')\n",
        "ax1.spines[['right', 'top']].set_visible(False)\n",
        "ax1.tick_params(left = False, labelleft = False)\n",
        "ax1.legend(frameon=False)\n",
        "\n",
        "#Plot each synthetic waveform\n",
        "ax2.plot(time, scale(synWinWaveform), label = 'Win')\n",
        "ax2.plot(time, scale(synLossWaveform), label = 'Loss')\n",
        "\n",
        "#Format plot\n",
        "ax2.set_ylabel('Voltage ($\\mu$V)')\n",
        "ax2.set_xlabel('Time (ms)')\n",
        "ax2.set_title('Synthetic', loc='left')\n",
        "ax2.spines[['right', 'top']].set_visible(False)\n",
        "ax2.tick_params(left = False, labelleft = False)\n",
        "ax2.legend(frameon=False)"
      ]
    },
    {
      "cell_type": "markdown",
      "metadata": {
        "id": "vQakI-rzkAZs"
      },
      "source": [
        "# Step 4. Classification"
      ]
    },
    {
      "cell_type": "markdown",
      "metadata": {
        "id": "7CJVm8ywkAZt"
      },
      "source": [
        "## Step 4.1. Preparing Validation Data\n",
        "We also provide a validation dataset with samples not contained in the empirical dataset. Here, we prepare them for classification."
      ]
    },
    {
      "cell_type": "code",
      "execution_count": 17,
      "metadata": {
        "id": "uUeQQDeakAZt"
      },
      "outputs": [],
      "source": [
        "#Set seed for a bit of reproducibility\n",
        "rnd.seed(42)\n",
        "\n",
        "#This function averages trial-level empirical data for each participant and condition\n",
        "def averageEEG(EEG):\n",
        "    participants = np.unique(EEG[:,0])\n",
        "    averagedEEG = []\n",
        "    for participant in participants:\n",
        "        for condition in range(2):\n",
        "            averagedEEG.append(np.mean(EEG[(EEG[:,0]==participant)&(EEG[:,1]==condition),:], axis=0))\n",
        "    return np.array(averagedEEG)\n",
        "\n",
        "#Load test data to predict (data that neither the GAN nor the classifier will ever see in training)\n",
        "EEGDataTest = np.genfromtxt('data/eeggan_validation_example.csv', delimiter=',', skip_header=1)\n",
        "EEGDataTest = averageEEG(EEGDataTest)[:,1:]\n",
        "\n",
        "#Extract test outcome and predictor data\n",
        "y_test = EEGDataTest[:,0]\n",
        "x_test = EEGDataTest[:,3:]\n",
        "x_test = scale(x_test,axis = 1)"
      ]
    },
    {
      "cell_type": "markdown",
      "metadata": {
        "id": "XpxEbNrKkAZt"
      },
      "source": [
        "## Step 4.2. Preparing Empirical Data\n",
        "We now prepare the empirical training set. Our predictors will be the entire time series of 100 datapoints."
      ]
    },
    {
      "cell_type": "code",
      "execution_count": 18,
      "metadata": {
        "id": "MFjeY43DkAZt"
      },
      "outputs": [],
      "source": [
        "#Create participant by condition averages\n",
        "Emp_train = averageEEG(empiricalEEG)[:,1:]\n",
        "\n",
        "#Extract the outcomes\n",
        "Emp_Y_train = Emp_train[:,0]\n",
        "\n",
        "#Scale the predictors\n",
        "Emp_X_train = scale(Emp_train[:,3:], axis=1)\n",
        "\n",
        "#Shuffle the order of samples\n",
        "trainShuffle = rnd.sample(range(len(Emp_X_train)),len(Emp_X_train))\n",
        "Emp_Y_train = Emp_Y_train[trainShuffle]\n",
        "Emp_X_train = Emp_X_train[trainShuffle,:]"
      ]
    },
    {
      "cell_type": "markdown",
      "metadata": {
        "id": "BVVgZ-qHkAZt"
      },
      "source": [
        "## Step 4.3. Preparing Augmented Data\n",
        "We will prepare the augmented dataset by first processing the synthetic data as we did with the empirical data, then combining both the empirical and synthetic dataset to create an augmented dataset."
      ]
    },
    {
      "cell_type": "code",
      "execution_count": 19,
      "metadata": {
        "id": "WKxsV0u-kAZt"
      },
      "outputs": [],
      "source": [
        "#This function averages trial-level synthetic data in bundles of 50 trials, constrained to each condition\n",
        "def averageSynthetic(synData):\n",
        "    samplesToAverage = 50\n",
        "\n",
        "    lossSynData = synData[synData[:,0]==0,:]\n",
        "    winSynData = synData[synData[:,0]==1,:]\n",
        "\n",
        "    lossTimeIndices = np.arange(0,lossSynData.shape[0],samplesToAverage)\n",
        "    winTimeIndices = np.arange(0,winSynData.shape[0],samplesToAverage)\n",
        "\n",
        "    newLossSynData = [np.insert(np.mean(lossSynData[int(trialIndex):int(trialIndex)+samplesToAverage,1:],axis=0),0,0) for trialIndex in lossTimeIndices]\n",
        "    newWinSynData = [np.insert(np.mean(winSynData[int(trialIndex):int(trialIndex)+samplesToAverage,1:],axis=0),0,1) for trialIndex in winTimeIndices]\n",
        "\n",
        "    avgSynData = np.vstack((np.asarray(newLossSynData),np.asarray(newWinSynData)))\n",
        "\n",
        "    return avgSynData\n",
        "\n",
        "#Create 'participant' by condition averages\n",
        "Syn_train = averageSynthetic(syntheticEEG)\n",
        "\n",
        "#Extract the outcomes\n",
        "Syn_Y_train = Syn_train[:,0]\n",
        "\n",
        "#Scale the predictors\n",
        "Syn_X_train = scale(Syn_train[:,2:], axis=1)\n",
        "\n",
        "#Combine empirical and synthetic datasets to create an augmented dataset\n",
        "Aug_Y_train = np.concatenate((Emp_Y_train,Syn_Y_train))\n",
        "Aug_X_train = np.concatenate((Emp_X_train,Syn_X_train))\n",
        "\n",
        "#Shuffle the order of samples\n",
        "trainShuffle = rnd.sample(range(len(Aug_X_train)),len(Aug_X_train))\n",
        "Aug_Y_train = Aug_Y_train[trainShuffle]\n",
        "Aug_X_train = Aug_X_train[trainShuffle,:]"
      ]
    },
    {
      "cell_type": "markdown",
      "metadata": {
        "id": "tZGHTbbrkAZu"
      },
      "source": [
        "# Step 5. Support Vector Machine"
      ]
    },
    {
      "cell_type": "markdown",
      "metadata": {
        "id": "6WapE0PYkAZu"
      },
      "source": [
        "## Step 5.1. Define Search Space"
      ]
    },
    {
      "cell_type": "code",
      "execution_count": 20,
      "metadata": {
        "id": "KQzYLGa9kAZu"
      },
      "outputs": [],
      "source": [
        "#Determine SVM search space\n",
        "param_grid_SVM = [\n",
        "    {'C': [0.1, 1, 10, 100],\n",
        "    'gamma': [1, 0.1, 0.01, 0.001],\n",
        "    'kernel': ['rbf', 'poly', 'sigmoid']}]"
      ]
    },
    {
      "cell_type": "markdown",
      "metadata": {
        "id": "Jw7WVyfPkAZu"
      },
      "source": [
        "## Step 5.2. Classify Empirical Data"
      ]
    },
    {
      "cell_type": "code",
      "execution_count": 21,
      "metadata": {
        "id": "D0TIIo26kAZv"
      },
      "outputs": [],
      "source": [
        "#Setup tracking variable\n",
        "predictionScores_SVM = []\n",
        "\n",
        "#Setup SVM grid search\n",
        "optimal_params = GridSearchCV(\n",
        "    SVC(),\n",
        "    param_grid_SVM,\n",
        "    refit = True,\n",
        "    verbose = False)\n",
        "\n",
        "#Conduct classification\n",
        "optimal_params.fit(Emp_X_train, Emp_Y_train)\n",
        "SVMOutput = optimal_params.predict(x_test)\n",
        "\n",
        "#Determine performance\n",
        "predictResults = classification_report(y_test, SVMOutput, output_dict=True)\n",
        "predictionScores_SVM.append(round(predictResults['accuracy']*100))"
      ]
    },
    {
      "cell_type": "markdown",
      "metadata": {
        "id": "hyz5VRdBkAZv"
      },
      "source": [
        "## Step 5.3. Classify Augmented Data"
      ]
    },
    {
      "cell_type": "code",
      "execution_count": 22,
      "metadata": {
        "colab": {
          "base_uri": "https://localhost:8080/"
        },
        "id": "ZJoR3V67kAZv",
        "outputId": "f079155f-8875-4860-ba1a-e5b4daf54948"
      },
      "outputs": [
        {
          "name": "stdout",
          "output_type": "stream",
          "text": [
            "Empirical Classification Accuracy: 53%\n",
            "Augmented Classification Accuracy: 72%\n"
          ]
        }
      ],
      "source": [
        "#Setup SVM grid search\n",
        "optimal_params = GridSearchCV(\n",
        "    SVC(random_state=42),\n",
        "    param_grid_SVM,\n",
        "    refit = True,\n",
        "    verbose = False)\n",
        "\n",
        "#Conduct classification\n",
        "optimal_params.fit(Aug_X_train, Aug_Y_train)\n",
        "SVMOutput = optimal_params.predict(x_test)\n",
        "\n",
        "#Determine performance\n",
        "predictResults = classification_report(y_test, SVMOutput, output_dict=True)\n",
        "predictionScores_SVM.append(round(predictResults['accuracy']*100))\n",
        "\n",
        "#Report results\n",
        "print(f\"Empirical Classification Accuracy: {str(predictionScores_SVM[0])}%\")\n",
        "print(f\"Augmented Classification Accuracy: {str(predictionScores_SVM[1])}%\")"
      ]
    },
    {
      "cell_type": "markdown",
      "metadata": {
        "id": "PgeSJw4CkAZv"
      },
      "source": [
        "# Step 6. Neural Network"
      ]
    },
    {
      "cell_type": "markdown",
      "metadata": {
        "id": "6i5cdV-ckAZv"
      },
      "source": [
        "## Step 6.1. Define Search Space"
      ]
    },
    {
      "cell_type": "code",
      "execution_count": 26,
      "metadata": {
        "id": "5PdPkSnfkAZw"
      },
      "outputs": [],
      "source": [
        "#Determine neural network search space\n",
        "param_grid_NN = [\n",
        "    {'hidden_layer_sizes': [(25,), (50,), (25, 25), (50,50), (50,25,50)],\n",
        "    'activation': ['logistic', 'tanh', 'relu'],\n",
        "    'solver': ['sgd', 'adam'],\n",
        "    'alpha': [0.0001, 0.05],\n",
        "    'learning_rate': ['constant', 'invscaling', 'adaptive'],\n",
        "    'max_iter' : [5000, 10000, 20000, 50000]}]"
      ]
    },
    {
      "cell_type": "markdown",
      "metadata": {
        "id": "cODIgDR1kAZw"
      },
      "source": [
        "## Step 6.2. Classify Empirical Data"
      ]
    },
    {
      "cell_type": "code",
      "execution_count": 27,
      "metadata": {
        "colab": {
          "base_uri": "https://localhost:8080/"
        },
        "id": "uA8lC51CkAZw",
        "outputId": "04d1ccec-5221-473c-d4d8-3529f536afda"
      },
      "outputs": [
        {
          "name": "stdout",
          "output_type": "stream",
          "text": [
            "This may take a few minutes...\n",
            "Fitting 5 folds for each of 720 candidates, totalling 3600 fits\n"
          ]
        }
      ],
      "source": [
        "#Signify computational time\n",
        "print('This may take a few minutes...')\n",
        "\n",
        "#Setup tracking variable\n",
        "predictionScores_NN = []\n",
        "\n",
        "#Setup neural network grid search\n",
        "optimal_params = GridSearchCV(\n",
        "    MLPClassifier(random_state=42),\n",
        "    param_grid_NN,\n",
        "    verbose = True,\n",
        "    n_jobs = -1)\n",
        "\n",
        "#Conduct classification\n",
        "optimal_params.fit(Emp_X_train, Emp_Y_train);\n",
        "neuralNetOutput = MLPClassifier(hidden_layer_sizes=optimal_params.best_params_['hidden_layer_sizes'],\n",
        "                            activation=optimal_params.best_params_['activation'],\n",
        "                            solver = optimal_params.best_params_['solver'],\n",
        "                            alpha = optimal_params.best_params_['alpha'],\n",
        "                            learning_rate = optimal_params.best_params_['learning_rate'],\n",
        "                            max_iter = optimal_params.best_params_['max_iter'])\n",
        "neuralNetOutput.fit(Emp_X_train, Emp_Y_train)\n",
        "y_true, y_pred = y_test , neuralNetOutput.predict(x_test)\n",
        "\n",
        "#Determine performance\n",
        "predictResults = classification_report(y_true, y_pred, output_dict=True)\n",
        "predictScore = round(predictResults['accuracy']*100)\n",
        "predictionScores_NN.append(predictScore)"
      ]
    },
    {
      "cell_type": "markdown",
      "metadata": {
        "id": "AEkqLerPkAZw"
      },
      "source": [
        "## Step 6.3. Classify Augmented Data"
      ]
    },
    {
      "cell_type": "code",
      "execution_count": 28,
      "metadata": {
        "colab": {
          "base_uri": "https://localhost:8080/"
        },
        "id": "XAelrf1AkAZw",
        "outputId": "03b4d262-f445-4a50-a286-ba1833ebc99a"
      },
      "outputs": [
        {
          "name": "stdout",
          "output_type": "stream",
          "text": [
            "This may take twice as long as the empirical neural network classification...\n",
            "Fitting 5 folds for each of 720 candidates, totalling 3600 fits\n",
            "Empirical Classification Accuracy: 49%\n",
            "Augmented Classification Accuracy: 70%\n"
          ]
        }
      ],
      "source": [
        "#Signify computational time\n",
        "print('This may take twice as long as the empirical neural network classification...')\n",
        "\n",
        "#Setup neural network grid search\n",
        "optimal_params = GridSearchCV(\n",
        "    MLPClassifier(random_state=42),\n",
        "    param_grid_NN,\n",
        "    verbose = True,\n",
        "    n_jobs = -1)\n",
        "\n",
        "#Conduct classification\n",
        "optimal_params.fit(Aug_X_train, Aug_Y_train);\n",
        "neuralNetOutput = MLPClassifier(hidden_layer_sizes=optimal_params.best_params_['hidden_layer_sizes'],\n",
        "                            activation=optimal_params.best_params_['activation'],\n",
        "                            solver = optimal_params.best_params_['solver'],\n",
        "                            alpha = optimal_params.best_params_['alpha'],\n",
        "                            learning_rate = optimal_params.best_params_['learning_rate'],\n",
        "                            max_iter = optimal_params.best_params_['max_iter'])\n",
        "neuralNetOutput.fit(Aug_X_train, Aug_Y_train)\n",
        "y_true, y_pred = y_test , neuralNetOutput.predict(x_test)\n",
        "\n",
        "#Determine performance\n",
        "predictResults = classification_report(y_true, y_pred, output_dict=True)\n",
        "predictScore = round(predictResults['accuracy']*100)\n",
        "predictionScores_NN.append(predictScore)\n",
        "\n",
        "#Report results\n",
        "print(f\"Empirical Classification Accuracy: {str(predictionScores_NN[0])}%\")\n",
        "print(f\"Augmented Classification Accuracy: {str(predictionScores_NN[1])}%\")"
      ]
    },
    {
      "cell_type": "markdown",
      "metadata": {
        "id": "YW1Kac7zkAZx"
      },
      "source": [
        "# Step 7. Final Report"
      ]
    },
    {
      "cell_type": "markdown",
      "metadata": {
        "id": "HKEO-OSZkAZx"
      },
      "source": [
        "## Step 7.1. Present Classification Performance\n",
        "We present the performance accuracies in text."
      ]
    },
    {
      "cell_type": "code",
      "execution_count": 29,
      "metadata": {
        "colab": {
          "base_uri": "https://localhost:8080/"
        },
        "id": "PTz8C9PYkAZx",
        "outputId": "0865f361-ab46-4e5d-dda4-aa060d0dd8b9"
      },
      "outputs": [
        {
          "name": "stdout",
          "output_type": "stream",
          "text": [
            "\u001b[1mSVM Classification Results:\u001b[0m\n",
            "Empirical Classification Accuracy: 53%\n",
            "Augmented Classification Accuracy: 72%\n",
            "\n",
            "\u001b[1mNeural Network Classification Results:\u001b[0m\n",
            "Empirical Classification Accuracy: 49%\n",
            "Augmented Classification Accuracy: 70%\n",
            "\n",
            "\u001b[3mNote: Due to randomization in this process, these accuracies will vary.\u001b[0m\n"
          ]
        }
      ],
      "source": [
        "#Report results\n",
        "print(f\"{printFormat.bold}SVM Classification Results:{printFormat.end}\")\n",
        "print(f\"Empirical Classification Accuracy: {predictionScores_SVM[0]}%\")\n",
        "print(f\"Augmented Classification Accuracy: {predictionScores_SVM[1]}%\")\n",
        "\n",
        "# Report results\n",
        "print(f\"\\n{printFormat.bold}Neural Network Classification Results:{printFormat.end}\")\n",
        "print(f\"Empirical Classification Accuracy: {predictionScores_NN[0]}%\")\n",
        "print(f\"Augmented Classification Accuracy: {predictionScores_NN[1]}%\")\n",
        "print(f\"\\n{printFormat.italic}Note: Due to randomization in this process, these accuracies will vary.{printFormat.end}\")"
      ]
    },
    {
      "cell_type": "markdown",
      "metadata": {
        "id": "--zWc4u8kAZx"
      },
      "source": [
        "## Step 7.2. Plot Classification Performance\n",
        "We present the performance accuracies in a plot."
      ]
    },
    {
      "cell_type": "code",
      "execution_count": 30,
      "metadata": {
        "colab": {
          "base_uri": "https://localhost:8080/",
          "height": 435
        },
        "id": "mgVdDQookAZx",
        "outputId": "456d11c1-0e08-4cce-f4ac-efd8203004fe"
      },
      "outputs": [
        {
          "data": {
            "image/png": "[encoded data removed]",
            "text/plain": [
              "<Figure size 640x480 with 1 Axes>"
            ]
          },
          "metadata": {},
          "output_type": "display_data"
        }
      ],
      "source": [
        "ax = plt.subplot(111)\n",
        "plt.bar([.9,1.9],[predictionScores_SVM[0],predictionScores_NN[0]], width=.2)\n",
        "plt.bar([1.1,2.1],[predictionScores_SVM[1],predictionScores_NN[1]], width=.2)\n",
        "plt.ylim([0,round((np.max([predictionScores_SVM,predictionScores_NN])+20)/10)*10])\n",
        "predictionScores = predictionScores_SVM+predictionScores_NN\n",
        "for xi, x in enumerate([.86,1.06,1.86,2.06]):\n",
        "    plt.text(x,predictionScores[xi]+1,str(predictionScores[xi])+'%')\n",
        "plt.xticks([1,2], labels = ['SVM', 'Neural Network'])\n",
        "plt.legend(['Empirical','Augmented'], loc='upper right', frameon=False)\n",
        "ax.spines[['right', 'top']].set_visible(False)"
      ]
    }
  ],
  "metadata": {
    "accelerator": "GPU",
    "colab": {
      "provenance": []
    },
    "gpuClass": "standard",
    "kernelspec": {
      "display_name": "gansEEGEnvironment",
      "language": "python",
      "name": "python3"
    },
    "language_info": {
      "codemirror_mode": {
        "name": "ipython",
        "version": 3
      },
      "file_extension": ".py",
      "mimetype": "text/x-python",
      "name": "python",
      "nbconvert_exporter": "python",
      "pygments_lexer": "ipython3",
      "version": "3.10.11"
    }
  },
  "nbformat": 4,
  "nbformat_minor": 0
}
