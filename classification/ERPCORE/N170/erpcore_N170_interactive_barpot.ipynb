{
 "cells": [
  {
   "cell_type": "markdown",
   "metadata": {},
   "source": [
    "# EEG-GAN v2.0 Classification Results\n",
    "## (Temporary description for testing)\n",
    "\n",
    "EEG-GAN uses Generative Adversarial Networks (GANs) to create trial-level synthetic EEG samples. We can then use these samples as extra data to train whichever classifier we want to use (e.g., Support Vector Machine, Neural Network).\n",
    "\n",
    "## Data Augmentation\n",
    "Although we have shown GANs to be successful in augmenting classification performance, we have not thoroughly tested it's impact compared to any benchmarks... until now. The following plot will allow you to visualize the performance of our classifications across many analyses:\n",
    "\n",
    "<br>\n",
    "\n",
    "<u>**Non-Augmented**</u>: These are the data untouched\n",
    "*   **Empirical**: This is non-augmented data. A baseline to test augmentation \n",
    "*   **Oversampled**: This technique simply duplicates samples to increase training\n",
    "\n",
    "<br>\n",
    "\n",
    "<u>**Generative Augmentation**</u>: These are generative models that are used to create 'synthetic participants', which increases the training dataset size.\n",
    "*   **GAN-Augmented**: This is augmentation using GANs via the EEG-GAN package\n",
    "*   **VAE-Augmented**: This is augmentation using variational autoencoders\n",
    "\n",
    "<br>\n",
    "\n",
    "<u>**Transformation Augmentation**</u>: These are standard transformations of the data that are traditionally used to augment datasets for classification.\n",
    "*   **Gaussian-Augmented**: Adding guassian noise to samples\n",
    "*   **Flip-Augmented**: Flip the polarity/sign of the data\n",
    "*   **Reverse-Augmented**: Reverses the timeseries \n",
    "*   **Smooth-Augmented**: Removes portions of the data\n",
    "\n",
    "## Using This Interactive Plot\n",
    "\n",
    "The plot will default to a bar chart including all aforementioned analyses/augmentations across 5 classifiers (neural network, support vector machine, logistic regression, random forest, k-nearest neighbors) and 7 sample sizes (5, 10, 15, 20, 30, 60, 100). In addition, we have repeated these analyses when using different numbers of electrodes (1, 2, 8). Alongside these main plots are mini-plots (to the right), which will by default be empty.\n",
    "\n",
    "You will see three dropdowns (Electrodes, Select, Remove) and two buttons (Centered, Axis Type). The electrodes dropdown allows you to select which analyses to view, dependent on the number of electrodes.\n",
    "\n",
    "The power of this plot comes from the Select and Remove dropdowns. At start, the Select dropdown will have all possible analyses and the Remove dropdown will be empty. When you select an analysis, the plot will highlight this analysis in the form of a line chart. You can now remove this analysis using the remove dropdown. You will also notice that the plots on the right become populated when you select one or more analyses. If you select only one, then the plots simply depict the performance of that analysis. Once you have selected a second analysis, it will show the difference between the two. If you choose more than two analyses, it will display the difference of the earliest two selected. \n",
    "\n",
    "At this point, the centered button is by default unclicked. This means that when you select an analysis, it will plot the line chart respective to the corresponding bar location. If you click the centered button, it will rather place all line charts centered on the corresponding sample size, so they are easier to compare. \n",
    "\n",
    "The axis type button is also unclicked. This changes the x-axis formatting. By default, the samples sizes are equally spaced on the x-axis. This is easier to read, but technically incorrect since the different sample size conditions are not equally spaced. Clicking this button will reformat the plot to use a continuous x-axis so that the sample sizes are spaced literally (i.e., going from sample size 5 to 10 is a smaller gap than going from sample size 30 to 60). \n",
    "\n",
    "Try it out!"
   ]
  },
  {
   "cell_type": "code",
   "execution_count": 5,
   "metadata": {},
   "outputs": [
    {
     "ename": "TypeError",
     "evalue": "InteractivePlot.__init__() takes 1 positional argument but 2 were given",
     "output_type": "error",
     "traceback": [
      "\u001b[1;31m---------------------------------------------------------------------------\u001b[0m",
      "\u001b[1;31mTypeError\u001b[0m                                 Traceback (most recent call last)",
      "Cell \u001b[1;32mIn[5], line 22\u001b[0m\n\u001b[0;32m     19\u001b[0m \u001b[38;5;28;01mfrom\u001b[39;00m \u001b[38;5;21;01merpcore_N170_plot_functions\u001b[39;00m \u001b[38;5;28;01mimport\u001b[39;00m \u001b[38;5;241m*\u001b[39m\n\u001b[0;32m     21\u001b[0m \u001b[38;5;66;03m#Create the interactive plot\u001b[39;00m\n\u001b[1;32m---> 22\u001b[0m interactive_plot \u001b[38;5;241m=\u001b[39m \u001b[43mInteractivePlot\u001b[49m\u001b[43m(\u001b[49m\u001b[38;5;124;43m'\u001b[39;49m\u001b[38;5;124;43mN170\u001b[39;49m\u001b[38;5;124;43m'\u001b[39;49m\u001b[43m)\u001b[49m\n",
      "\u001b[1;31mTypeError\u001b[0m: InteractivePlot.__init__() takes 1 positional argument but 2 were given"
     ]
    }
   ],
   "source": [
    "###############################################\n",
    "## IMPORT MODULES                            ##\n",
    "###############################################\n",
    "\n",
    "#Download and unzip dataset and functions if in Google Colab\n",
    "try: #If in Google Colab\n",
    "    import google.colab #Test if in Google Colab\n",
    "    import urllib.request #Package for downloading files\n",
    "    import os #Package for interacting with the operating system\n",
    "    if not os.path.isdir('Classification Results'): #If the dataset isn't downloaded\n",
    "        print('Downloading dataset and functions...')\n",
    "        urllib.request.urlretrieve(\"https://github.com/AutoResearch/EEG-GAN/raw/manuscript-aegan_evaluation/classification/classification_results.zip\", \"classification_results.zip\") #Download the dataset\n",
    "        urllib.request.urlretrieve(\"https://raw.githubusercontent.com/AutoResearch/EEG-GAN/manuscript-aegan_evaluation/classification/classification_plot_functions.py\", \"classification_plot_functions.py\") #Download the functions\n",
    "        !unzip classification_results.zip #Unzip the dataset\n",
    "except: \n",
    "    pass\n",
    "\n",
    "#Import the functions\n",
    "from erpcore_N170_plot_functions import InteractivePlot\n",
    "\n",
    "#Create the interactive plot\n",
    "interactive_plot = InteractivePlot('N170')"
   ]
  }
 ],
 "metadata": {
  "kernelspec": {
   "display_name": "eegganCarpenterEnv",
   "language": "python",
   "name": "python3"
  },
  "language_info": {
   "codemirror_mode": {
    "name": "ipython",
    "version": 3
   },
   "file_extension": ".py",
   "mimetype": "text/x-python",
   "name": "python",
   "nbconvert_exporter": "python",
   "pygments_lexer": "ipython3",
   "version": "3.10.11"
  }
 },
 "nbformat": 4,
 "nbformat_minor": 2
}
